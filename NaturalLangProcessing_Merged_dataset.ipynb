{
 "cells": [
  {
   "cell_type": "markdown",
   "metadata": {},
   "source": [
    "# The purpose of this project is to determine sentiments from sentences of a merged dataset of Imdb, yelp and amazon\n",
    "\n",
    "## The purpose of this project is to predict class value of a car based on the quality of features provided in the dataset\n",
    "\n",
    "## tool used for data visualization and merging: pandas\n",
    "\n",
    "## tool used for data preprocessing : CountVectorizer method used for feature extraction from the provided dataset\n",
    "\n",
    "## model used for prediction: Many different models are used to determine the accuracy difference among them and find the most efficient one\n",
    "\n",
    "## tools used for data validation: the loss of the model was determined by binary cross entropy and the accruacry was measured by accuracy metrics"
   ]
  },
  {
   "cell_type": "markdown",
   "metadata": {
    "id": "DZggtwfrNSLO"
   },
   "source": [
    "**Data Loading**"
   ]
  },
  {
   "cell_type": "code",
   "execution_count": 1,
   "metadata": {
    "colab": {
     "base_uri": "https://localhost:8080/"
    },
    "executionInfo": {
     "elapsed": 1348,
     "status": "ok",
     "timestamp": 1605058975564,
     "user": {
      "displayName": "Tasnuva Tehrin",
      "photoUrl": "",
      "userId": "04231041290543336108"
     },
     "user_tz": 360
    },
    "id": "foNlLnkRMHWA",
    "outputId": "0741f2d2-c313-4259-ff2d-401c467b0d67"
   },
   "outputs": [
    {
     "name": "stdout",
     "output_type": "stream",
     "text": [
      "--2020-11-11 01:42:54--  https://archive.ics.uci.edu/ml/machine-learning-databases/00331/sentiment%20labelled%20sentences.zip\n",
      "Resolving archive.ics.uci.edu (archive.ics.uci.edu)... 128.195.10.252\n",
      "Connecting to archive.ics.uci.edu (archive.ics.uci.edu)|128.195.10.252|:443... connected.\n",
      "HTTP request sent, awaiting response... 200 OK\n",
      "Length: 84188 (82K) [application/x-httpd-php]\n",
      "Saving to: ‘sentiment labelled sentences.zip’\n",
      "\n",
      "sentiment labelled  100%[===================>]  82.21K  --.-KB/s    in 0.1s    \n",
      "\n",
      "2020-11-11 01:42:54 (596 KB/s) - ‘sentiment labelled sentences.zip’ saved [84188/84188]\n",
      "\n",
      "Archive:  sentiment labelled sentences.zip\n",
      "   creating: sentiment labelled sentences/\n",
      "  inflating: sentiment labelled sentences/.DS_Store  \n",
      "   creating: __MACOSX/\n",
      "   creating: __MACOSX/sentiment labelled sentences/\n",
      "  inflating: __MACOSX/sentiment labelled sentences/._.DS_Store  \n",
      "  inflating: sentiment labelled sentences/amazon_cells_labelled.txt  \n",
      "  inflating: sentiment labelled sentences/imdb_labelled.txt  \n",
      "  inflating: __MACOSX/sentiment labelled sentences/._imdb_labelled.txt  \n",
      "  inflating: sentiment labelled sentences/readme.txt  \n",
      "  inflating: __MACOSX/sentiment labelled sentences/._readme.txt  \n",
      "  inflating: sentiment labelled sentences/yelp_labelled.txt  \n",
      "  inflating: __MACOSX/._sentiment labelled sentences  \n"
     ]
    }
   ],
   "source": [
    "def download_data_from_UCI():\n",
    "  !rm -rf 'sentiment labelled sentences'\n",
    "  !rm -rf 'sentiment labelled sentences.zip'\n",
    "  !rm -rf '__MACOSX'\n",
    "  !wget https://archive.ics.uci.edu/ml/machine-learning-databases/00331/sentiment%20labelled%20sentences.zip\n",
    "  !unzip 'sentiment labelled sentences.zip'\n",
    "\n",
    "download_data_from_UCI()"
   ]
  },
  {
   "cell_type": "code",
   "execution_count": 2,
   "metadata": {
    "colab": {
     "base_uri": "https://localhost:8080/"
    },
    "executionInfo": {
     "elapsed": 299,
     "status": "ok",
     "timestamp": 1605058978084,
     "user": {
      "displayName": "Tasnuva Tehrin",
      "photoUrl": "",
      "userId": "04231041290543336108"
     },
     "user_tz": 360
    },
    "id": "tvPTUjuiNeNa",
    "outputId": "8b4f06ef-a659-4665-89fd-d733951b9ff0"
   },
   "outputs": [
    {
     "name": "stdout",
     "output_type": "stream",
     "text": [
      "amazon_cells_labelled.txt  imdb_labelled.txt  readme.txt  yelp_labelled.txt\n"
     ]
    }
   ],
   "source": [
    "!ls 'sentiment labelled sentences'/"
   ]
  },
  {
   "cell_type": "code",
   "execution_count": 3,
   "metadata": {
    "colab": {
     "base_uri": "https://localhost:8080/",
     "height": 419
    },
    "executionInfo": {
     "elapsed": 267,
     "status": "ok",
     "timestamp": 1605058979100,
     "user": {
      "displayName": "Tasnuva Tehrin",
      "photoUrl": "",
      "userId": "04231041290543336108"
     },
     "user_tz": 360
    },
    "id": "JsshZv3IORuZ",
    "outputId": "61c0ee9a-5649-4061-c843-1d21e8910b33"
   },
   "outputs": [
    {
     "data": {
      "text/html": [
       "<div>\n",
       "<style scoped>\n",
       "    .dataframe tbody tr th:only-of-type {\n",
       "        vertical-align: middle;\n",
       "    }\n",
       "\n",
       "    .dataframe tbody tr th {\n",
       "        vertical-align: top;\n",
       "    }\n",
       "\n",
       "    .dataframe thead th {\n",
       "        text-align: right;\n",
       "    }\n",
       "</style>\n",
       "<table border=\"1\" class=\"dataframe\">\n",
       "  <thead>\n",
       "    <tr style=\"text-align: right;\">\n",
       "      <th></th>\n",
       "      <th>sentence</th>\n",
       "      <th>label</th>\n",
       "    </tr>\n",
       "  </thead>\n",
       "  <tbody>\n",
       "    <tr>\n",
       "      <th>0</th>\n",
       "      <td>So there is no way for me to plug it in here i...</td>\n",
       "      <td>0</td>\n",
       "    </tr>\n",
       "    <tr>\n",
       "      <th>1</th>\n",
       "      <td>Good case, Excellent value.</td>\n",
       "      <td>1</td>\n",
       "    </tr>\n",
       "    <tr>\n",
       "      <th>2</th>\n",
       "      <td>Great for the jawbone.</td>\n",
       "      <td>1</td>\n",
       "    </tr>\n",
       "    <tr>\n",
       "      <th>3</th>\n",
       "      <td>Tied to charger for conversations lasting more...</td>\n",
       "      <td>0</td>\n",
       "    </tr>\n",
       "    <tr>\n",
       "      <th>4</th>\n",
       "      <td>The mic is great.</td>\n",
       "      <td>1</td>\n",
       "    </tr>\n",
       "    <tr>\n",
       "      <th>...</th>\n",
       "      <td>...</td>\n",
       "      <td>...</td>\n",
       "    </tr>\n",
       "    <tr>\n",
       "      <th>995</th>\n",
       "      <td>The screen does get smudged easily because it ...</td>\n",
       "      <td>0</td>\n",
       "    </tr>\n",
       "    <tr>\n",
       "      <th>996</th>\n",
       "      <td>What a piece of junk.. I lose more calls on th...</td>\n",
       "      <td>0</td>\n",
       "    </tr>\n",
       "    <tr>\n",
       "      <th>997</th>\n",
       "      <td>Item Does Not Match Picture.</td>\n",
       "      <td>0</td>\n",
       "    </tr>\n",
       "    <tr>\n",
       "      <th>998</th>\n",
       "      <td>The only thing that disappoint me is the infra...</td>\n",
       "      <td>0</td>\n",
       "    </tr>\n",
       "    <tr>\n",
       "      <th>999</th>\n",
       "      <td>You can not answer calls with the unit, never ...</td>\n",
       "      <td>0</td>\n",
       "    </tr>\n",
       "  </tbody>\n",
       "</table>\n",
       "<p>1000 rows × 2 columns</p>\n",
       "</div>"
      ],
      "text/plain": [
       "                                              sentence  label\n",
       "0    So there is no way for me to plug it in here i...      0\n",
       "1                          Good case, Excellent value.      1\n",
       "2                               Great for the jawbone.      1\n",
       "3    Tied to charger for conversations lasting more...      0\n",
       "4                                    The mic is great.      1\n",
       "..                                                 ...    ...\n",
       "995  The screen does get smudged easily because it ...      0\n",
       "996  What a piece of junk.. I lose more calls on th...      0\n",
       "997                       Item Does Not Match Picture.      0\n",
       "998  The only thing that disappoint me is the infra...      0\n",
       "999  You can not answer calls with the unit, never ...      0\n",
       "\n",
       "[1000 rows x 2 columns]"
      ]
     },
     "execution_count": 3,
     "metadata": {
      "tags": []
     },
     "output_type": "execute_result"
    }
   ],
   "source": [
    "import pandas as pd\n",
    "amazon_df = pd.read_csv('sentiment labelled sentences/amazon_cells_labelled.txt', names=['sentence', 'label'], sep='\\t')\n",
    "amazon_df"
   ]
  },
  {
   "cell_type": "code",
   "execution_count": 4,
   "metadata": {
    "colab": {
     "base_uri": "https://localhost:8080/",
     "height": 419
    },
    "executionInfo": {
     "elapsed": 385,
     "status": "ok",
     "timestamp": 1605058981518,
     "user": {
      "displayName": "Tasnuva Tehrin",
      "photoUrl": "",
      "userId": "04231041290543336108"
     },
     "user_tz": 360
    },
    "id": "xW5HvuU4OYHN",
    "outputId": "c6ad21e0-5601-4650-c0b6-07f66727edae"
   },
   "outputs": [
    {
     "data": {
      "text/html": [
       "<div>\n",
       "<style scoped>\n",
       "    .dataframe tbody tr th:only-of-type {\n",
       "        vertical-align: middle;\n",
       "    }\n",
       "\n",
       "    .dataframe tbody tr th {\n",
       "        vertical-align: top;\n",
       "    }\n",
       "\n",
       "    .dataframe thead th {\n",
       "        text-align: right;\n",
       "    }\n",
       "</style>\n",
       "<table border=\"1\" class=\"dataframe\">\n",
       "  <thead>\n",
       "    <tr style=\"text-align: right;\">\n",
       "      <th></th>\n",
       "      <th>sentence</th>\n",
       "      <th>label</th>\n",
       "    </tr>\n",
       "  </thead>\n",
       "  <tbody>\n",
       "    <tr>\n",
       "      <th>0</th>\n",
       "      <td>A very, very, very slow-moving, aimless movie ...</td>\n",
       "      <td>0</td>\n",
       "    </tr>\n",
       "    <tr>\n",
       "      <th>1</th>\n",
       "      <td>Not sure who was more lost - the flat characte...</td>\n",
       "      <td>0</td>\n",
       "    </tr>\n",
       "    <tr>\n",
       "      <th>2</th>\n",
       "      <td>Attempting artiness with black &amp; white and cle...</td>\n",
       "      <td>0</td>\n",
       "    </tr>\n",
       "    <tr>\n",
       "      <th>3</th>\n",
       "      <td>Very little music or anything to speak of.</td>\n",
       "      <td>0</td>\n",
       "    </tr>\n",
       "    <tr>\n",
       "      <th>4</th>\n",
       "      <td>The best scene in the movie was when Gerardo i...</td>\n",
       "      <td>1</td>\n",
       "    </tr>\n",
       "    <tr>\n",
       "      <th>...</th>\n",
       "      <td>...</td>\n",
       "      <td>...</td>\n",
       "    </tr>\n",
       "    <tr>\n",
       "      <th>743</th>\n",
       "      <td>I just got bored watching Jessice Lange take h...</td>\n",
       "      <td>0</td>\n",
       "    </tr>\n",
       "    <tr>\n",
       "      <th>744</th>\n",
       "      <td>Unfortunately, any virtue in this film's produ...</td>\n",
       "      <td>0</td>\n",
       "    </tr>\n",
       "    <tr>\n",
       "      <th>745</th>\n",
       "      <td>In a word, it is embarrassing.</td>\n",
       "      <td>0</td>\n",
       "    </tr>\n",
       "    <tr>\n",
       "      <th>746</th>\n",
       "      <td>Exceptionally bad!</td>\n",
       "      <td>0</td>\n",
       "    </tr>\n",
       "    <tr>\n",
       "      <th>747</th>\n",
       "      <td>All in all its an insult to one's intelligence...</td>\n",
       "      <td>0</td>\n",
       "    </tr>\n",
       "  </tbody>\n",
       "</table>\n",
       "<p>748 rows × 2 columns</p>\n",
       "</div>"
      ],
      "text/plain": [
       "                                              sentence  label\n",
       "0    A very, very, very slow-moving, aimless movie ...      0\n",
       "1    Not sure who was more lost - the flat characte...      0\n",
       "2    Attempting artiness with black & white and cle...      0\n",
       "3         Very little music or anything to speak of.        0\n",
       "4    The best scene in the movie was when Gerardo i...      1\n",
       "..                                                 ...    ...\n",
       "743  I just got bored watching Jessice Lange take h...      0\n",
       "744  Unfortunately, any virtue in this film's produ...      0\n",
       "745                   In a word, it is embarrassing.        0\n",
       "746                               Exceptionally bad!        0\n",
       "747  All in all its an insult to one's intelligence...      0\n",
       "\n",
       "[748 rows x 2 columns]"
      ]
     },
     "execution_count": 4,
     "metadata": {
      "tags": []
     },
     "output_type": "execute_result"
    }
   ],
   "source": [
    "import pandas as pd\n",
    "imdb_df = pd.read_csv('sentiment labelled sentences/imdb_labelled.txt', names=['sentence', 'label'], sep='\\t')\n",
    "imdb_df"
   ]
  },
  {
   "cell_type": "code",
   "execution_count": 5,
   "metadata": {
    "colab": {
     "base_uri": "https://localhost:8080/",
     "height": 419
    },
    "executionInfo": {
     "elapsed": 271,
     "status": "ok",
     "timestamp": 1605058983654,
     "user": {
      "displayName": "Tasnuva Tehrin",
      "photoUrl": "",
      "userId": "04231041290543336108"
     },
     "user_tz": 360
    },
    "id": "g3P-aC25OdDk",
    "outputId": "2c27454c-58e3-4bc8-8bfb-5340a9910d58"
   },
   "outputs": [
    {
     "data": {
      "text/html": [
       "<div>\n",
       "<style scoped>\n",
       "    .dataframe tbody tr th:only-of-type {\n",
       "        vertical-align: middle;\n",
       "    }\n",
       "\n",
       "    .dataframe tbody tr th {\n",
       "        vertical-align: top;\n",
       "    }\n",
       "\n",
       "    .dataframe thead th {\n",
       "        text-align: right;\n",
       "    }\n",
       "</style>\n",
       "<table border=\"1\" class=\"dataframe\">\n",
       "  <thead>\n",
       "    <tr style=\"text-align: right;\">\n",
       "      <th></th>\n",
       "      <th>sentence</th>\n",
       "      <th>label</th>\n",
       "    </tr>\n",
       "  </thead>\n",
       "  <tbody>\n",
       "    <tr>\n",
       "      <th>0</th>\n",
       "      <td>Wow... Loved this place.</td>\n",
       "      <td>1</td>\n",
       "    </tr>\n",
       "    <tr>\n",
       "      <th>1</th>\n",
       "      <td>Crust is not good.</td>\n",
       "      <td>0</td>\n",
       "    </tr>\n",
       "    <tr>\n",
       "      <th>2</th>\n",
       "      <td>Not tasty and the texture was just nasty.</td>\n",
       "      <td>0</td>\n",
       "    </tr>\n",
       "    <tr>\n",
       "      <th>3</th>\n",
       "      <td>Stopped by during the late May bank holiday of...</td>\n",
       "      <td>1</td>\n",
       "    </tr>\n",
       "    <tr>\n",
       "      <th>4</th>\n",
       "      <td>The selection on the menu was great and so wer...</td>\n",
       "      <td>1</td>\n",
       "    </tr>\n",
       "    <tr>\n",
       "      <th>...</th>\n",
       "      <td>...</td>\n",
       "      <td>...</td>\n",
       "    </tr>\n",
       "    <tr>\n",
       "      <th>995</th>\n",
       "      <td>I think food should have flavor and texture an...</td>\n",
       "      <td>0</td>\n",
       "    </tr>\n",
       "    <tr>\n",
       "      <th>996</th>\n",
       "      <td>Appetite instantly gone.</td>\n",
       "      <td>0</td>\n",
       "    </tr>\n",
       "    <tr>\n",
       "      <th>997</th>\n",
       "      <td>Overall I was not impressed and would not go b...</td>\n",
       "      <td>0</td>\n",
       "    </tr>\n",
       "    <tr>\n",
       "      <th>998</th>\n",
       "      <td>The whole experience was underwhelming, and I ...</td>\n",
       "      <td>0</td>\n",
       "    </tr>\n",
       "    <tr>\n",
       "      <th>999</th>\n",
       "      <td>Then, as if I hadn't wasted enough of my life ...</td>\n",
       "      <td>0</td>\n",
       "    </tr>\n",
       "  </tbody>\n",
       "</table>\n",
       "<p>1000 rows × 2 columns</p>\n",
       "</div>"
      ],
      "text/plain": [
       "                                              sentence  label\n",
       "0                             Wow... Loved this place.      1\n",
       "1                                   Crust is not good.      0\n",
       "2            Not tasty and the texture was just nasty.      0\n",
       "3    Stopped by during the late May bank holiday of...      1\n",
       "4    The selection on the menu was great and so wer...      1\n",
       "..                                                 ...    ...\n",
       "995  I think food should have flavor and texture an...      0\n",
       "996                           Appetite instantly gone.      0\n",
       "997  Overall I was not impressed and would not go b...      0\n",
       "998  The whole experience was underwhelming, and I ...      0\n",
       "999  Then, as if I hadn't wasted enough of my life ...      0\n",
       "\n",
       "[1000 rows x 2 columns]"
      ]
     },
     "execution_count": 5,
     "metadata": {
      "tags": []
     },
     "output_type": "execute_result"
    }
   ],
   "source": [
    "import pandas as pd\n",
    "yelp_df = pd.read_csv('sentiment labelled sentences/yelp_labelled.txt', names=['sentence', 'label'], sep='\\t')\n",
    "yelp_df"
   ]
  },
  {
   "cell_type": "code",
   "execution_count": 6,
   "metadata": {
    "colab": {
     "base_uri": "https://localhost:8080/",
     "height": 419
    },
    "executionInfo": {
     "elapsed": 312,
     "status": "ok",
     "timestamp": 1605058986205,
     "user": {
      "displayName": "Tasnuva Tehrin",
      "photoUrl": "",
      "userId": "04231041290543336108"
     },
     "user_tz": 360
    },
    "id": "VFNV1h9LOyyT",
    "outputId": "2a02b008-3587-462d-8aa3-bb07fa72b854"
   },
   "outputs": [
    {
     "data": {
      "text/html": [
       "<div>\n",
       "<style scoped>\n",
       "    .dataframe tbody tr th:only-of-type {\n",
       "        vertical-align: middle;\n",
       "    }\n",
       "\n",
       "    .dataframe tbody tr th {\n",
       "        vertical-align: top;\n",
       "    }\n",
       "\n",
       "    .dataframe thead th {\n",
       "        text-align: right;\n",
       "    }\n",
       "</style>\n",
       "<table border=\"1\" class=\"dataframe\">\n",
       "  <thead>\n",
       "    <tr style=\"text-align: right;\">\n",
       "      <th></th>\n",
       "      <th>sentence</th>\n",
       "      <th>label</th>\n",
       "    </tr>\n",
       "  </thead>\n",
       "  <tbody>\n",
       "    <tr>\n",
       "      <th>0</th>\n",
       "      <td>So there is no way for me to plug it in here i...</td>\n",
       "      <td>0</td>\n",
       "    </tr>\n",
       "    <tr>\n",
       "      <th>1</th>\n",
       "      <td>Good case, Excellent value.</td>\n",
       "      <td>1</td>\n",
       "    </tr>\n",
       "    <tr>\n",
       "      <th>2</th>\n",
       "      <td>Great for the jawbone.</td>\n",
       "      <td>1</td>\n",
       "    </tr>\n",
       "    <tr>\n",
       "      <th>3</th>\n",
       "      <td>Tied to charger for conversations lasting more...</td>\n",
       "      <td>0</td>\n",
       "    </tr>\n",
       "    <tr>\n",
       "      <th>4</th>\n",
       "      <td>The mic is great.</td>\n",
       "      <td>1</td>\n",
       "    </tr>\n",
       "    <tr>\n",
       "      <th>...</th>\n",
       "      <td>...</td>\n",
       "      <td>...</td>\n",
       "    </tr>\n",
       "    <tr>\n",
       "      <th>995</th>\n",
       "      <td>I think food should have flavor and texture an...</td>\n",
       "      <td>0</td>\n",
       "    </tr>\n",
       "    <tr>\n",
       "      <th>996</th>\n",
       "      <td>Appetite instantly gone.</td>\n",
       "      <td>0</td>\n",
       "    </tr>\n",
       "    <tr>\n",
       "      <th>997</th>\n",
       "      <td>Overall I was not impressed and would not go b...</td>\n",
       "      <td>0</td>\n",
       "    </tr>\n",
       "    <tr>\n",
       "      <th>998</th>\n",
       "      <td>The whole experience was underwhelming, and I ...</td>\n",
       "      <td>0</td>\n",
       "    </tr>\n",
       "    <tr>\n",
       "      <th>999</th>\n",
       "      <td>Then, as if I hadn't wasted enough of my life ...</td>\n",
       "      <td>0</td>\n",
       "    </tr>\n",
       "  </tbody>\n",
       "</table>\n",
       "<p>2748 rows × 2 columns</p>\n",
       "</div>"
      ],
      "text/plain": [
       "                                              sentence  label\n",
       "0    So there is no way for me to plug it in here i...      0\n",
       "1                          Good case, Excellent value.      1\n",
       "2                               Great for the jawbone.      1\n",
       "3    Tied to charger for conversations lasting more...      0\n",
       "4                                    The mic is great.      1\n",
       "..                                                 ...    ...\n",
       "995  I think food should have flavor and texture an...      0\n",
       "996                           Appetite instantly gone.      0\n",
       "997  Overall I was not impressed and would not go b...      0\n",
       "998  The whole experience was underwhelming, and I ...      0\n",
       "999  Then, as if I hadn't wasted enough of my life ...      0\n",
       "\n",
       "[2748 rows x 2 columns]"
      ]
     },
     "execution_count": 6,
     "metadata": {
      "tags": []
     },
     "output_type": "execute_result"
    }
   ],
   "source": [
    "merged_df = pd.concat([amazon_df, imdb_df,yelp_df])\n",
    "merged_df"
   ]
  },
  {
   "cell_type": "markdown",
   "metadata": {
    "id": "Msf-SbCXTkkF"
   },
   "source": [
    "**Application of Machine Learning on Merged Dataset**"
   ]
  },
  {
   "cell_type": "code",
   "execution_count": 8,
   "metadata": {
    "colab": {
     "base_uri": "https://localhost:8080/"
    },
    "executionInfo": {
     "elapsed": 239,
     "status": "ok",
     "timestamp": 1605059000757,
     "user": {
      "displayName": "Tasnuva Tehrin",
      "photoUrl": "",
      "userId": "04231041290543336108"
     },
     "user_tz": 360
    },
    "id": "TSWTMC4VTwag",
    "outputId": "e4a4d6d1-1eda-4c11-83b0-24d9f8412169"
   },
   "outputs": [
    {
     "name": "stdout",
     "output_type": "stream",
     "text": [
      "Merged Training sentense shape (2061,)\n",
      "Merged Testing sentense shape (687,)\n",
      "Merged y_data matrix shape (2061,)\n",
      "Merged y_test matrix shape (687,)\n",
      "Merged sentences_train:  ['Were JERKS on the phone.'\n",
      " 'Great time - family dinner on a Sunday night.' 'Very disappointing.  '\n",
      " 'Great place to eat, reminds me of the little mom and pop shops in the San Francisco Bay Area.'\n",
      " \"How this piece of trash was ever released is beyond me: the acting, the story, the characters, the supposedly special effects, etc...it's ALL wrong.  \"\n",
      " 'but the movie makes a lot of serious mistakes.  '\n",
      " '(The bathroom is just next door and very nice.)' \"The food wasn't good.\"\n",
      " 'A lot of websites have been rating this a very good phone and so do I.'\n",
      " 'The handsfree part works fine, but then the car tries to download the address book, and the Treo reboots.Overall, I still rate this device high.']\n",
      "Merged y_train:  [0 1 0 ... 1 1 0]\n"
     ]
    }
   ],
   "source": [
    "from sklearn.model_selection import train_test_split\n",
    "\n",
    "merged_sentences = merged_df['sentence'].values\n",
    "merged_y = merged_df['label'].values\n",
    "\n",
    "merged_sentences_train, merged_sentences_test, merged_y_train, merged_y_test = train_test_split(merged_sentences, merged_y, test_size=0.25, random_state=42)\n",
    "print(\"Merged Training sentense shape\", merged_sentences_train.shape)\n",
    "print(\"Merged Testing sentense shape\", merged_sentences_test.shape)\n",
    "print(\"Merged y_data matrix shape\", merged_y_train.shape)\n",
    "print(\"Merged y_test matrix shape\", merged_y_test.shape)\n",
    "print(\"Merged sentences_train: \",merged_sentences_train[0:10])\n",
    "print(\"Merged y_train: \",merged_y_train)"
   ]
  },
  {
   "cell_type": "code",
   "execution_count": 9,
   "metadata": {
    "colab": {
     "base_uri": "https://localhost:8080/"
    },
    "executionInfo": {
     "elapsed": 467,
     "status": "ok",
     "timestamp": 1605059002930,
     "user": {
      "displayName": "Tasnuva Tehrin",
      "photoUrl": "",
      "userId": "04231041290543336108"
     },
     "user_tz": 360
    },
    "id": "oXcwfMxzT3vX",
    "outputId": "efc7fee3-4018-42ed-b8ca-f2727d70dfa0"
   },
   "outputs": [
    {
     "name": "stdout",
     "output_type": "stream",
     "text": [
      "Training matrix shape (2061, 4729)\n",
      "Testing matrix shape (687, 4729)\n",
      "Vocabulary:  {'Were': 1208, 'JERKS': 590, 'phone': 3435, 'Great': 491, 'time': 4345, 'family': 2360, 'dinner': 2060, 'Sunday': 1039, 'night': 3257, 'Very': 1161, 'disappointing': 2077, 'place': 3459, 'eat': 2194, 'reminds': 3721, 'little': 3001, 'mom': 3174, 'pop': 3508, 'shops': 3967, 'San': 949, 'Francisco': 449, 'Bay': 166, 'Area': 117, 'How': 546, 'piece': 3448, 'trash': 4403, 'released': 3715, 'acting': 1272, 'story': 4166, 'characters': 1669, 'supposedly': 4240, 'special': 4093, 'effects': 2207, 'ALL': 60, 'wrong': 4707, 'movie': 3201, 'makes': 3066, 'lot': 3027, 'mistakes': 3164, 'The': 1074, 'bathroom': 1449, 'just': 2899, 'door': 2121, 'nice': 3253, 'food': 2468, 'wasn': 4609, 'good': 2571, 'websites': 4630, 'rating': 3645, 'handsfree': 2638, 'works': 4687, 'fine': 2415, 'car': 1618, 'tries': 4417, 'download': 2128, 'address': 1288, 'book': 1524, 'Treo': 1113, 'reboots': 3667, 'Overall': 808, 'rate': 3643, 'device': 2042, 'high': 2694, 'It': 584, 'pretty': 3546, 'surprising': 4247, 'wonderful': 4675, 'film': 2405, '1949': 13, 'Hollywood': 540, 'generally': 2537, 'collective': 1760, 'heads': 2662, 'sand': 3837, 'concerning': 1810, 'black': 1496, 'white': 4645, 'issues': 2873, 'suspense': 4254, 'feeling': 2387, 'frustration': 2504, 'retarded': 3761, 'girls': 2551, 'really': 3662, 'liked': 2986, 'Give': 479, 'try': 4429, 'happy': 2648, 'did': 2049, 'Before': 170, 'gave': 2532, 'star': 4127, 'know': 2922, 'eating': 2196, 'Bachi': 154, 'burger': 1585, 'writing': 4705, 'review': 3768, 'If': 564, 'like': 2985, 'loud': 3029, 'buzzing': 1596, 'override': 3346, 'conversations': 1861, 'My': 743, 'friend': 2495, 'loved': 3037, 'salmon': 3831, 'tartar': 4283, 'Tom': 1099, 'Wilkinson': 1218, 'broke': 1561, 'heart': 2669, 'end': 2235, 'judging': 2893, 'fumbling': 2509, 'hankies': 2642, 'hands': 2636, 'going': 2567, 'faces': 2341, 'males': 3069, 'females': 2395, 'alike': 1315, 'eargels': 2182, 'channel': 1665, 'sound': 4079, 'directly': 2067, 'ear': 2181, 'increase': 2806, 'volume': 4579, 'clarity': 1727, 'experience': 2316, 'underwhelming': 4468, 'think': 4326, 'll': 3006, 'Ninja': 767, 'Sushi': 1043, 'See': 966, 'We': 1201, 've': 4538, 'tried': 4416, '10': 1, 'times': 4350, 'Unfortunately': 1136, 'virtue': 4565, 'production': 3569, 'work': 4682, 'lost': 3026, 'regrettable': 3701, 'script': 3877, 'chicken': 1703, 'deliciously': 2000, 'seasoned': 3886, 'perfect': 3416, 'fry': 2505, 'outside': 3336, 'moist': 3172, 'inside': 2830, 'lunch': 3049, 'spot': 4112, 'That': 1073, 'said': 3826, 'camera': 1607, 'cool': 1870, 'play': 3470, 'video': 4555, 'decent': 1976, 'Their': 1075, 'screen': 3873, 'chemistry': 1700, 'critical': 1926, 'entire': 2253, 'genuine': 2542, 'guess': 2614, 'details': 2037, 'dysfunction': 2180, 'believable': 1470, 'Bad': 157, 'Quality': 881, 'Good': 484, 'Service': 970, 'check': 1688, 'drain': 2138, 'weak': 4624, 'snap': 4050, 'You': 1240, 'need': 3239, 'operate': 3310, 'This': 1083, 'software': 4054, 'interface': 2853, 'decade': 1974, 'old': 3303, 'compete': 1791, 'new': 3252, 'designs': 2024, 'stupid': 4190, 'buying': 1595, 'chargers': 1674, 'cradles': 1899, 'headphones': 2661, 'kits': 2918, 'comes': 1771, 'Frozen': 460, 'pucks': 3600, 'disgust': 2088, 'worst': 4691, 'people': 3414, 'register': 3699, 'Ursula': 1140, 'Burton': 213, 'portrayal': 3514, 'nun': 3280, 'touching': 4379, 'funny': 2517, 'making': 3067, 'fun': 2510, 'nuns': 3281, 'church': 1719, 'watched': 4616, 'recently': 3676, 'Fox': 446, 'Movie': 737, 'Channel': 251, 'disappointed': 2076, 'Save': 954, 'money': 3178, 'item': 2874, '11': 3, 'months': 3184, 'tough': 4380, 'short': 3968, 'flavor': 2435, 'PIECE': 818, 'OF': 780, 'JUNK': 591, 'THAT': 1048, 'BROKE': 147, 'AFTER': 56, 'BEING': 141, 'ON': 783, 'MY': 691, 'PHONE': 816, 'FOR': 412, 'DAYS': 307, 'What': 1209, 'SHOULD': 928, 'hilarious': 2701, 'yummy': 4724, 'Christmas': 264, 'Eve': 394, 'remember': 3719, 'biggest': 1483, 'fail': 2346, 'trip': 4419, 'Battery': 164, 'life': 2978, 'long': 3015, 'Motorola': 734, 'Razor': 895, 'V3i': 1148, 'Easily': 370, 'cartoon': 1630, 'laugh': 2946, 'tender': 4305, 'way': 4620, 'getting': 2545, 'dark': 1958, 'sitcoms': 4006, 'oriented': 3323, 'teenagers': 4299, 'He': 520, 'came': 1606, 'regularly': 3703, 'excellent': 2287, 'service': 3929, 'Eew': 380, 'location': 3010, 'needs': 3242, 'complete': 1797, 'overhaul': 3343, 'Del': 326, 'Taco': 1060, 'nasty': 3227, 'avoided': 1409, 'possible': 3520, 'Always': 97, 'great': 2592, 'Dos': 348, 'Gringos': 495, 'poor': 3506, 'batter': 1451, 'meat': 3108, 'ratio': 3647, 'tenders': 4306, 'unsatisfying': 4507, 'Freezes': 453, 'frequently4': 2491, 'possibly': 3521, 'creative': 1917, 'horror': 2733, 'wanted': 4594, 'Plantronics': 856, '510': 38, 'right': 3779, 'There': 1077, 'bad': 1424, 'say': 3851, 'headset': 2663, 'glad': 2555, 'worked': 4683, 'use': 4522, 'cheap': 1683, 'cheerless': 1693, 'heist': 2676, 'characterisation': 1668, 'lots': 3028, 'underbite': 4457, 'style': 4194, 'stoic': 4157, 'emoting': 2228, 'Chow': 263, 'Yun': 1243, 'Fat': 422, 'Better': 180, 'Tomorrow': 1100, 'cheesy': 1698, 'clichés': 1739, 'thrown': 4339, 'abandoned': 1244, 'factory': 2345, 'ready': 3655, 'poorly': 3507, 'executed': 2303, 'flying': 2457, 'judo': 2894, 'rolls': 3802, 'la': 2925, 'John': 607, 'Woo': 1225, 'DO': 312, 'NOT': 750, 'BUY': 150, 'BUYIT': 151, 'SUCKS': 939, 'Returned': 907, 'hours': 2739, 'later': 2943, 'absolutely': 1250, 'horrible': 2730, 'reception': 3677, 'apartment': 1345, 'phones': 3436, 'problem': 3559, 'Phone': 848, 'Lordy': 669, 'Khao': 624, 'Soi': 994, 'dish': 2090, 'missed': 3161, 'curry': 1942, 'lovers': 3040, 'isn': 2871, 'small': 4036, 'restaurant': 3753, 'dining': 2059, 'establishment': 2270, 'Having': 517, 'trouble': 4422, 'An': 103, 'Awesome': 133, 'New': 763, 'Look': 666, 'For': 442, 'Fall': 418, '2000': 20, 'Disappointment': 339, 'hate': 2653, 'goes': 2566, 'price': 3549, 'gone': 2569, 'mortified': 3190, 'Beware': 182, 'trashy': 4404, 'cult': 1938, 'period': 3424, 'things': 4325, 'quality': 3624, 'olives': 3305, 'impressed': 2788, 'concept': 1807, 'charger': 1673, 'arrived': 1367, 'promised': 3577, 'timeframe': 4346, 'Ample': 102, 'portions': 3512, 'prices': 3551, 'But': 214, 'thought': 4330, 'skilled': 4015, 'girlfriend': 2550, 'veal': 4539, 'Spend': 1013, 'Though': 1087, 'Wind': 1220, 'Lion': 662, 'told': 4360, 'largely': 2936, 'eyes': 2337, 'son': 4065, 'member': 3121, 'identify': 2770, 'Sean': 962, 'Connery': 283, 'noble': 3258, 'brigand': 1553, 'Candace': 237, 'Bergen': 178, 'feisty': 2390, 'heroine': 2688, 'Huston': 552, 'wily': 4654, 'Hay': 518, 'Steve': 1024, 'Kanaly': 619, 'spiffy': 4104, 'radiant': 3636, 'ruthless': 3820, 'lieutenant': 2977, 'Roosevelt': 917, 'Big': 183, 'Stick': 1026, 'Best': 179, 'rotating': 3805, 'feature': 2383, 'helpful': 2683, 'tell': 4303, 'slow': 4032, 'seating': 3890, 'reservation': 3745, 'Jim': 604, 'Connor': 284, 'energetic': 2241, 'George': 476, 'dull': 2172, 'garbage': 2527, 'Works': 1228, 'amazed': 1324, 'quick': 3627, 'arrival': 1366, 'original': 3324, 'lg': 2974, 'cell': 1648, 'batteries': 1452, 'fraction': 2486, 'They': 1079, 'forever': 2475, 'overly': 3344, 'expensive': 2315, 'replace': 3736, 'Easy': 371, 'better': 1478, 'DELETE': 310, 'mind': 3150, 'lighting': 2981, 'awful': 1414, 'poignant': 3496, 'Maybe': 714, 'Vegetarian': 1158, 'fare': 2369, 'twice': 4439, 'average': 1405, 'best': 1477, 'Special': 1012, 'mention': 3128, 'superb': 4232, 'music': 3217, 'score': 3869, 'integral': 2843, 'element': 2219, 'helping': 2684, 'make': 3063, 'memorable': 3123, 'enjoyable': 2247, 'come': 1769, 'WAAAAAAyyyyyyyyyy': 1167, 'rated': 3644, 'saying': 3852, 'As': 124, 'courtroom': 1888, 'drama': 2139, 'compelling': 1790, 'indictment': 2810, 'American': 100, 'justice': 2900, 'frightening': 2500, 'Terrible': 1068, 'product': 3568, 'waste': 4610, 'weeks': 4635, 'break': 1547, 'blew': 1502, 'budget': 1573, 'evidently': 2279, 'limited': 2990, 'staff': 4119, 'delish': 2003, 'incredible': 2807, 'beer': 1463, 'selection': 3900, 'And': 104, 'tones': 4366, 'acceptable': 1255, 'involved': 2865, 'knew': 2919, 'string': 4175, 'narrative': 3226, 'By': 218, 'ended': 2237, 'disliked': 2093, 'despised': 2029, 'asked': 1376, 'leave': 2958, 'didn': 2050, 'bring': 1558, 'Everything': 399, 'infatuated': 2822, 'real': 3656, 'killer': 2912, 'course': 1885, 'breaking': 1549, 'overpriced': 3345, 'mediocre': 3112, 'inflate': 2823, 'smaller': 4037, 'management': 3073, 'attitudes': 1396, 'grow': 2610, 'rapidly': 3640, 'usable': 4520, 'keyboard': 2905, 'actually': 1281, 'turns': 4438, 'PDA': 813, 'world': 4688, 'useful': 4524, 'machine': 3053, 'instead': 2836, 'neat': 3238, 'gadget': 2520, 'friendly': 2496, 'wait': 4583, 'served': 3925, 'says': 3853, 'hi': 2692, 'minutes': 3156, 'walked': 4590, 'faster': 2374, 'Meredith': 718, 'Plus': 860, 'bucks': 1572, 'Worst': 1230, 'customer': 1944, 'potato': 3524, 'chip': 1711, 'order': 3318, 'sad': 3824, 'probably': 3558, 'count': 1881, 'chips': 1712, 'box': 1540, '12': 4, 'Nothing': 776, 'magnificent': 3056, 'photography': 3439, 'cinematography': 1722, 'wild': 4652, 'stuff': 4187, 'highly': 2700, 'recommended': 3684, 'fans': 2364, 'giallo': 2546, 'cinema': 1720, 'Google': 485, 'imagine': 2780, 'Smashburger': 990, 'On': 796, 'positive': 3518, 'note': 3271, 'server': 3926, 'attentive': 1395, 'provided': 3591, 'series': 3921, 'sexy': 3941, 'party': 3386, 'mouth': 3195, 'outrageously': 3334, 'flirting': 2450, 'hottest': 2737, 'person': 3429, 'scale': 3854, 'hardly': 2650, 'decided': 1978, 'send': 3905, 'waitress': 4587, 'looked': 3018, 'verge': 4548, 'having': 2659, 'attack': 1390, 'Lately': 648, 'extremely': 2334, 'deal': 1968, 'file': 2402, 'browser': 1567, 'offers': 3298, 'options': 3316, 'Handsfree': 509, 'enjoyed': 2248, 'mouthful': 3196, 'relaxed': 3713, 'venue': 4545, 'couples': 1883, 'groups': 2609, 'baby': 1418, 'owls': 3351, 'adorable': 1293, 'Took': 1104, 'hour': 2738, 'tables': 4267, 'Luke': 681, 'warm': 4598, 'Our': 804, 'sever': 3937, 'running': 3817, 'totally': 4375, 'overwhelmed': 3349, 'No': 768, 'complaints': 1796, 'Anyways': 114, 'definitely': 1993, 'filling': 2404, 'pay': 3400, 'expect': 2311, 'Much': 738, 'jawbone': 2878, 'bluetooth': 1511, 'Excellent': 403, 'pulled': 3602, 'pork': 3510, 'soooo': 4071, 'delicious': 1999, 'standout': 4126, 'scene': 3860, 'sashimi': 3841, 'wish': 4665, 'enter': 2250, 'negative': 3243, 'values': 4536, 'admins': 1290, 'complained': 1794, 'microphone': 3143, 'charge': 1671, 'quite': 3632, 'However': 549, 'BT': 148, 'headsets': 2664, 'currently': 1941, 'games': 2525, 'shooters': 3963, 'audio': 1399, 'delay': 1996, 'messes': 3140, 'After': 86, 'trying': 4430, 'gadgets': 2521, 'finally': 2412, 'rare': 3641, 'maker': 3064, 'takes': 4271, 'worthy': 4695, 'moral': 3187, 'tale': 4273, 'care': 1622, 'love': 3036, 'doesn': 2113, 'fall': 2353, 'trap': 4402, 'syrupy': 4265, 'indulgent': 2815, 'super': 4231, '30': 27, 'drink': 2154, 'longer': 3016, 'arepas': 1362, 'latest': 2944, 'OS': 785, 'v1': 4533, '15g': 7, 'likes': 2987, 'crawl': 1907, 'lock': 3012, 'thing': 4324, 'perfectly': 3419, 'Pretty': 867, 'junk': 2896, 'thorn': 4328, 'abhor': 1245, 'Some': 995, 'buffet': 1574, 'pricey': 3552, 'Food': 441, 'boring': 1532, 'problems': 3560, 'stay': 4137, 'connected': 1824, 'disconnected': 2084, 'believe': 1471, 'South': 1007, 'Africa': 85, 'understand': 4462, 'past': 3389, 'attempted': 1392, 'Truth': 1118, 'Reconciliation': 901, 'process': 3562, 'biscuits': 1490, 'group': 2608, '70': 42, 'claimed': 1726, '40': 32, 'handled': 2633, 'beautifully': 1460, 'eyed': 2336, 'peas': 3407, 'sweet': 4258, 'potatoes': 3525, 'UNREAL': 1126, 'Improper': 568, 'description': 2016, 'return': 3763, 'NOTHING': 751, 'motion': 3192, 'needlessly': 3241, 'repeats': 3734, 'backed': 1420, 'kind': 2914, 'word': 4680, 'continuity': 1849, 'scenes': 3862, 'reason': 3663, 'whatsoever': 4641, 'vehicles': 4543, 'Corn': 289, 'Flakes': 436, 'directorial': 2069, 'bordered': 1527, 'stupidity': 4191, 'remake': 3718, 'Friends': 457, 'Wedding': 1203, 'Definitely': 325, 'turn': 4436, 'doubt': 2124, 'unless': 4490, 'bacon': 1423, 'wrapped': 4701, 'dates': 1962, 'results': 3759, 'stuck': 4183, 'max': 3097, 'mute': 3220, 'plot': 3486, 'holds': 2713, 'attention': 1394, 'fantastic': 2365, 'Emily': 385, 'Watson': 1199, 'actors': 1277, 'ugly': 4447, 'crafted': 1900, 'Paul': 833, 'Haggis': 505, 'handle': 2632, 'bold': 1517, 'strokes': 4178, 'storytelling': 4168, 'picture': 3446, 'painted': 3369, 'crayons': 1909, 'nokia': 3262, 'CA': 219, '42': 33, 'USB': 1130, 'cable': 1597, 'Probably': 871, 'coming': 1777, 'wouldn': 4696, 'recommend': 3682, 'Boy': 201, 'sucker': 4215, 'dry': 2167, 'mistake': 3163, 'convenient': 1858, 'simple': 3994, 'gets': 2544, 'job': 2885, 'ride': 3776, 'smoother': 4047, 'table': 4266, 'fast': 2373, 'Not': 774, 'seafood': 3881, 'strings': 4176, 'pasta': 3390, 'Here': 530, 'rendering': 3725, 'America': 99, 'Imperial': 567, 'age': 1303, 'winner': 4660, 'attached': 1389, 'gas': 2531, 'station': 4136, 'rarely': 3642, 'sign': 3984, 'staying': 4139, 'MGM': 686, 'audience': 1398, 'applauded': 1353, 'conclusion': 1813, 'Vegas': 1157, 'steakhouse': 4142, 'properly': 3583, 'cook': 1867, 'steak': 4141, 'don': 2117, 'cables': 1598, 'computer': 1805, 'iPod': 2762, 'half': 2625, 'One': 798, 'aspects': 1379, 'lack': 2926, 'notable': 3269, 'gore': 2574, 'disagree': 2073, 'fellow': 2392, 'Yelpers': 1237, 'husband': 2754, 'Waste': 1194, 'remotely': 3723, 'Main': 697, 'enjoy': 2246, 'crowd': 1931, 'older': 3304, 'mid': 3144, '30s': 28, 'AGGRAVATING': 59, 'sals': 3832, 'amazing': 1325, 'reasonable': 3664, 'certainly': 1657, 'engineered': 2244, 'clever': 1737, 'construction': 1839, 'feels': 2388, 'revealing': 3766, 'electronics': 2216, 'available': 1404, 'FM': 410, 'Transmitters': 1111, 'littered': 3000, 'overt': 3348, 'racial': 3635, 'slurs': 4034, 'cast': 1638, 'members': 3122, 'whites': 4646, 'depicted': 2010, 'morons': 3189, 'boobs': 1523, 'different': 2054, 'earpieces': 2187, 'Jabra': 593, 'fits': 2427, 'comfortably': 1774, 'Anyway': 113, 'FS': 416, 'breakfast': 1548, 'barely': 1437, 'hear': 2666, 'constantly': 1837, 'Scream': 961, 'movies': 3202, 'ranks': 3639, 'Each': 365, 'day': 1964, 'week': 4632, 'Just': 616, 'consider': 1829, 'solid': 4059, 'look': 3017, 'added': 1285, 'bonuses': 1522, 'rge': 3772, 'fillet': 2403, 'relleno': 3716, 'plate': 3469, 'Reversible': 908, 'plug': 3487, 'Her': 529, 'role': 3798, 'played': 3471, 'looks': 3020, 'flimsy': 2447, 'scary': 3859, 'Nice': 764, 'design': 2021, 'errors': 2265, 'user': 4526, 'commented': 1780, 'cars': 1628, 'garage': 2526, 'Joe': 606, 'glasses': 2557, 'got': 2577, 'fact': 2343, 'facial': 2342, 'hair': 2623, 'configuration': 1818, 'change': 1662, 'Your': 1242, 'spends': 4098, 'talking': 4278, 'Which': 1212, 'precisely': 3532, 'giving': 2554, 'Poor': 862, 'Construction': 285, 'terrific': 4311, 'scenery': 3861, 'Bland': 188, 'flavorless': 2438, 'describing': 2015, 'tepid': 4308, 'iGo': 2758, 'brand': 1544, 'mp3': 3206, 'players': 3473, 'tragedy': 4389, 'struck': 4180, 'Delicious': 327, 'NYC': 753, 'bagels': 1426, 'selections': 3901, 'cream': 1912, 'cheese': 1694, 'Lox': 677, 'capers': 1616, 'Horrible': 543, 'worth': 4692, 'let': 2968, 'Sending': 968, 'FLY': 409, 'apple': 1354, 'juice': 2895, 'using': 4528, 'iriver': 2869, 'SPINN': 932, 'case': 1632, 'ambiance': 1327, 'second': 3891, 'sucked': 4214, 'expected': 2313, 'imagined': 2781, 'essentially': 2268, 'communications': 1786, 'tool': 4369, 'does': 2112, 'communicate': 1785, 'big': 1481, 'drawback': 2142, 'MP3': 689, 'player': 3472, 'buttons': 1592, 'cover': 1889, 'pause': 3399, 'skip': 4017, 'songs': 4067, 'seconds': 3893, 'Now': 777, 'pizza': 3457, 'peanut': 3403, 'sauce': 3845, 'tasty': 4287, 'Reliability': 905, 'speaker': 4092, 'low': 3043, 'ring': 3781, 'huge': 2743, 'military': 3146, 'discount': 2085, 'AYCE': 71, 'sushi': 4253, 'went': 4639, 'dit': 2105, 'Nokia': 771, '5320': 39, 'watch': 4614, 'consolations': 1835, 'actresses': 1279, 'playing': 3474, 'Anne': 109, 'sisters': 4004, 'roles': 3799, 'biscuit': 1489, 'battery': 1453, 'completely': 1799, 'useless': 4525, 'Strike': 1033, 'wants': 4596, 'rushed': 3819, 'notch': 3270, 'exactly': 2283, 'latched': 2941, 'endearing': 2236, 'memories': 3124, 'Instead': 573, 'bore': 1530, 'fest': 2397, 'whiny': 4644, 'spoiled': 4108, 'brat': 1545, 'babysitting': 1419, 'Cinematography': 266, 'shot': 3970, 'interesting': 2852, 'setting': 3934, 'protector': 3586, 'started': 4131, 'auto': 1403, 'reverse': 3767, 'tape': 4281, 'ate': 1385, 'visit': 4567, 'especially': 2267, 'salad': 3828, 'REAL': 883, 'honest': 2722, 'Yama': 1234, 'All': 92, 'Ha': 502, 'Long': 665, 'bit': 1491, 'flop': 2452, 'fresh': 2493, 'generous': 2539, 'portion': 3511, 'priced': 3550, 'prime': 3556, 'rib': 3773, 'dessert': 2031, 'section': 3894, 'decision': 1980, 'want': 4593, 'death': 1971, 'decay': 1975, 'Shakespears': 974, 'lyrics': 3051, 'choice': 1714, 'years': 4712, 'noise': 3260, 'cancellation': 1611, 'Krussel': 632, 'Although': 96, 'actual': 1280, 'performance': 3420, 'plays': 3475, 'Angela': 106, 'Bennett': 177, 'expert': 2320, 'home': 2719, 'Lame': 641, 'Razr': 896, 'buy': 1593, 'stories': 4165, 'unbelievable': 4452, 'showed': 3975, 'Florida': 438, 'appealing': 1350, 'Julian': 613, 'Fellowes': 427, 'triumphed': 4421, 'These': 1078, 'fabulous': 2338, 'lover': 3039, 'avoid': 1408, 'means': 3107, 'Incredible': 570, 'beef': 1462, 'cooked': 1868, 'fulfills': 2507, 'requirements': 3742, 'purchase': 3608, 'highlights': 2699, 'fundamental': 2515, 'flaws': 2444, 'legal': 2963, 'discovering': 2086, 'guilt': 2616, 'innocence': 2826, 'presents': 3541, 'court': 1886, 'Both': 196, 'truly': 4425, 'particular': 3382, 'character': 1667, 'delivering': 2005, 'convincing': 1865, 'pair': 3370, 'wise': 4664, 'Really': 897, 'Body': 194, 'Soul': 1002, '1947': 12, 'masterpiece': 3093, 'eaten': 2195, 'multiple': 3211, 'Gave': 473, 'crust': 1935, 'teeth': 4300, 'sore': 4074, 'pushed': 3618, 'hard': 2649, 'number': 3277, 'function': 2511, 'mother': 3191, 'brother': 1564, 'When': 1211, 'saw': 3850, 'Robert': 914, 'Ryan': 919, 'portraying': 3517, 'type': 4444, 'man': 3071, 'imitation': 2782, 'individual': 2812, 'lukewarm': 3048, 'sitting': 4010, 'waiting': 4586, 'correct': 1875, 'desserts': 2032, 'strange': 4169, 'Sprint': 1015, 'charges': 1675, 'guy': 2618, 'dialogue': 2047, 'potted': 3526, 'plants': 3467, 'incredibly': 2808, 'fish': 2423, 'prepared': 3537, 'Please': 859, 'dont': 2118, 'Audio': 129, 'Kind': 626, 'mess': 3136, 'self': 3902, 'portraits': 3513, 'exterior': 2329, 'display': 2096, 'shame': 3943, 'Thomerson': 1084, 'James': 595, 'living': 3005, 'None': 773, 'sizes': 4013, 'sent': 3913, 'ears': 2188, 'won': 4672, 'spoilers': 4110, 'Director': 336, 'Matthews': 712, 'wrote': 4708, 'directed': 2063, '1995': 17, 'monster': 3182, 'Grim': 494, 'clearly': 1736, 'pace': 3358, 'films': 2409, 'town': 4382, 'hit': 2706, 'run': 3816, 'bars': 1441, 'days': 1965, 'charging': 1676, 'Don': 346, 'watching': 4617, 'rubbish': 3812, 'non': 3263, 'researched': 3744, 'pancake': 3374, 'large': 2935, 'colors': 1765, 'About': 75, 'thoughts': 4331, 'working': 4686, 'replacement': 3738, 'ago': 1306, 'cutouts': 1950, 'placed': 3460, 'chosen': 1718, 'tortured': 4373, 'disgusting': 2089, 'blatant': 1501, 'propaganda': 3582, 'burgers': 1586, 'aren': 1361, 'used': 4523, 'doughy': 2127, 'allot': 1317, 'clearer': 1735, 'mic': 3142, 'atmosphere': 1386, 'purchasing': 3611, 'JX': 592, 'flawlessly': 2443, 'Moto': 733, 'figure': 2400, 'spicy': 4103, 'lacked': 2927, 'menu': 3130, 'agreed': 1307, 'Obviously': 788, 'terrible': 4309, 'Lassie': 644, 'sleep': 4021, 'FOREVER': 413, 'quickly': 3629, 'instruction': 2837, 'manual': 3076, 'lacking': 2928, 'charm': 1679, 'advertised': 1296, 'plastic': 3468, 'protection': 3585, 'sorry': 4076, 'bowl': 1539, 'Pho': 846, 'supposed': 4239, 'popcorn': 3509, 'comedy': 1770, 'mean': 3103, 'insult': 2840, 'intelligence': 2845, 'hackneyed': 2622, 'borders': 1529, 'offensive': 3296, 'calls': 1605, 'certain': 1656, 'places': 3461, 'Lewis': 655, 'Black': 185, 'considerable': 1830, 'talent': 4274, 'wasted': 4611, 'incendiary': 2797, 'unrestrained': 4505, 'PG': 815, '13': 5, 'allow': 1318, 'Drinks': 351, 'took': 4368, 'close': 1747, 'point': 3497, 'Has': 514, 'Piece': 850, 'Junk': 615, 'ergonomic': 2263, 'theory': 4321, 'stand': 4124, 'year': 4711, '2160': 23, 'Tracfone': 1110, 'dropped': 2163, 'ball': 1431, 'Thus': 1091, 'far': 2367, 'visited': 4568, 'driving': 2159, 'usually': 4530, 'loudest': 3031, 'THERE': 1050, 'IS': 560, 'NO': 746, 'PLOT': 820, 'OR': 784, 'STORYLINE': 938, 'sides': 3983, 'wine': 4657, 'plugged': 3488, 'darn': 1959, 'sister': 4003, 'loves': 3041, 'thumbs': 4341, 'seller': 3903, 'downright': 2130, 'Verizon': 1160, 'cingulair': 1723, 'nicer': 3255, 'noticed': 3274, 'sets': 3933, 'Thunderbirds': 1090, 'episode': 2257, 'couple': 1882, 'returned': 3764, 'meal': 3101, 'disappointment': 2078, 'waiter': 4585, 'insulted': 2841, 'Same': 947, 'mentioned': 3129, 'dealing': 1969, 'annoying': 1339, 'drunk': 2166, 'returning': 3765, 'Its': 588, 'total': 4374, 'package': 3362, 'Simple': 983, 'lightweight': 2984, 'fit': 2426, 'promptly': 3580, 'greeted': 2598, 'seated': 3889, 'Needless': 756, 'Full': 462, 'unconvincing': 4454, 'cardboard': 1621, 'blandly': 1499, 'written': 4706, 'Edward': 379, 'Chodorov': 261, 'produced': 3565, 'surprisingly': 4248, 'Jean': 601, 'Negulesco': 757, 'gotten': 2578, 'compliments': 1801, 'Another': 110, 'appearance': 1351, 'bland': 1498, 'model': 3169, 'At': 126, 'proceedings': 3561, 'Pros': 874, 'pictures': 3447, 'styles': 4195, 'exemplars': 2304, 'set': 3932, 'designer': 2023, 'Dessert': 331, 'Panna': 829, 'Cotta': 291, 'Could': 293, 'strong': 4179, 'signal': 3985, 'changing': 1664, 'Of': 789, 'footage': 2469, '70s': 45, 'grainy': 2584, 'enhanced': 2245, 'pathetic': 3393, 'attempts': 1393, 'depth': 2013, 'rest': 3750, 'compromise': 1804, 'QWERTY': 880, 'basic': 1446, 'keypad': 2906, 'reheated': 3704, 'ok': 3302, 'wedges': 4631, 'cold': 1757, 'soggy': 4055, 'pure': 3612, 'disaster': 2080, 'editing': 2201, 'seen': 3899, 'confuses': 1822, 'waited': 4584, 'vain': 4534, 'Do': 342, 'flawed': 2442, 'hole': 2714, 'wall': 4591, 'Mexican': 720, 'street': 4173, 'tacos': 4270, 'happened': 2644, 'tracking': 4386, 'Americans': 101, 'hatred': 2655, 'admitted': 1292, 'Linked': 659, 'effort': 2209, 'Non': 772, 'linear': 2992, 'narration': 3225, 'flashbacks': 2433, 'articulated': 1370, 'trust': 4428, 'website': 4629, 'support': 4237, 'range': 3638, 'able': 1247, 'roam': 3791, 'house': 2741, 'room': 3804, 'Those': 1086, 'beautiful': 1459, 'uplifting': 4513, 'Highly': 533, 'unprofessional': 4500, 'rude': 3813, 'loyal': 3045, 'patron': 3397, 'sergeant': 3920, 'pepper': 3415, 'sandwich': 3838, 'auju': 1400, 'decor': 1982, 'Chinese': 259, 'calligraphy': 1603, 'paper': 3378, 'stars': 4129, 'Even': 395, 'BMW': 145, 'fairly': 2350, 'quiet': 3630, 'hearing': 2668, 'lines': 2993, 'cuts': 1951, 'worse': 4690, 'encourage': 2234, 'louder': 3030, 'size': 4012, 'charismatic': 1678, 'actor': 1276, 'bose': 1534, 'cancelling': 1612, 'important': 2786, 'commuter': 1787, 'natural': 3231, 'Pizza': 853, 'Salads': 945, 'tuna': 4434, 'brownish': 1566, 'color': 1762, 'obviously': 3288, 'Phoenix': 847, 'definately': 1991, 'Ordered': 800, 'appetizer': 1352, 'main': 3058, 'mesmerising': 3134, 'H500': 497, 'Arrived': 121, 'sold': 4056, 'switch': 4259, 'Waitress': 1189, 'preparing': 3538, 'VERY': 1150, 'operates': 3311, 'network': 3251, 'tasteless': 4286, 'mouths': 3197, 'bellies': 1473, 'pleased': 3478, 'flavourful': 2440, 'pleather': 3482, 'directing': 2064, 'Sanyo': 951, 'survived': 4251, 'dozens': 2135, 'drops': 2165, 'blacktop': 1497, 'ill': 2774, 'effect': 2205, 'classic': 1729, 'viewing': 4559, 'sharing': 3946, 'nearly': 3237, 'charged': 1672, 'hybrid': 2755, 'palmtop': 3373, 'cellphone': 1649, 'excels': 2289, 'Every': 397, 'caring': 1623, 'teamwork': 4293, 'professional': 3571, 'degree': 1995, 'Tonight': 1101, 'Elk': 383, 'Filet': 429, 'seeing': 3898, 'ending': 2238, 'SO': 930, 'shed': 3951, 'tear': 4294, 'thrilled': 4335, 'forget': 2476, 'CLASSIC': 223, 'underneath': 4461, 'Malta': 699, 'settings': 3935, 'barren': 1440, 'hockey': 2709, 'defensemen': 1990, 'goalies': 2562, 'diving': 2106, 'shots': 3971, 'feet': 2389, 'wide': 4649, 'net': 3250, 'haven': 2658, 'To': 1096, 'ridiculous': 3777, 'Started': 1021, 'In': 569, 'relationship': 3708, 'bakery': 1427, 'assistant': 1380, 'superficial': 4234, 'stagey': 4121, 'storyline': 4167, 'stage': 4120, 'farce': 2368, 'pyromaniac': 3621, 'waylaid': 4621, 'bored': 1531, 'switched': 4260, 'Glad': 480, 'Didn': 335, 'smile': 4043, 'yawn': 4710, 'educational': 2203, 'children': 1706, 'Barney': 160, 'DE': 308, 'duper': 2175, 'Babie': 153, 'Bop': 195, 'cute': 1947, 'kids': 2910, 'Storm': 1029, 'Trooper': 1115, 'list': 2994, 'wonderfully': 4676, 'runs': 3818, 'Come': 275, 'hungry': 2752, 'stuffed': 4188, 'followed': 2463, 'directions': 2066, 'idyllic': 2772, 'ups': 4517, 'downs': 2131, 'lives': 3004, 'strawberry': 4172, 'tea': 4290, 'acted': 1271, 'TV': 1058, 'Cute': 306, 'quaint': 3622, 'Wow': 1233, 'Lousy': 673, 'WARNING': 1168, 'Yeah': 1236, 'drag': 2137, 'clip': 1744, 'causing': 1644, 'discomfort': 2083, 'example': 2285, 'idea': 2765, 'greasy': 2591, 'unhealthy': 4479, 'journey': 2890, 'touches': 4378, 'serivce': 3923, 'shows': 3977, 'Surefire': 1042, 'GX2': 468, 'humor': 2751, 'pitiful': 3455, 'dosen': 2122, 'bear': 1455, 'thinking': 4327, 'basically': 1447, 'involves': 2866, 'Vulcan': 1165, 'stealing': 4144, 'Enterprise': 388, 'god': 2564, 'seriously': 3922, 'oh': 3300, 'Uhura': 1133, 'belly': 1474, 'dance': 1955, 'distract': 2102, 'male': 3068, 'guards': 2613, 'handy': 2639, 'features': 2384, 'garlic': 2530, 'fondue': 2467, 'edible': 2200, 'Then': 1076, 'debated': 1972, 'sack': 3822, 'trumpeter': 4426, 'falsely': 2356, 'accused': 1267, 'murder': 3212, 'despite': 2030, 'exceptional': 2290, 'additional': 1287, 'costs': 1879, 'owning': 3355, 'official': 3299, 'OEM': 779, 'steve': 4150, 'martin': 3085, 'delivers': 2006, 'middle': 3145, 'aged': 1304, 'upper': 4516, 'class': 1728, 'uptight': 4519, 'thanks': 4314, 'Dylan': 356, 'recommendation': 3683, 'tummy': 4433, 'Hands': 508, 'Free': 451, 'Device': 333, 'crashed': 1904, 'replaced': 3737, 'Mark': 706, 'words': 4681, 'Evil': 400, 'Dead': 319, 'Phantasm': 844, 'falling': 2354, '20': 19, 'line': 2991, 'instructions': 2838, 'explain': 2321, 'jack': 2876, 'crisp': 1924, 'received': 3672, 'sending': 3906, 'Whatever': 1210, 'producer': 3566, 'entirely': 2254, 'Overpriced': 809, 'witty': 4669, 'delightful': 2001, 'adaptation': 1282, 'Dr': 349, 'Seuss': 972, 'brilliantly': 1557, 'animated': 1337, 'UPA': 1128, 'finest': 2416, 'thoroughly': 4329, 'deserving': 2020, 'Academy': 77, 'Award': 132, 'opens': 3309, 'connection': 1826, 'broken': 1562, 'turned': 4437, 'BEST': 142, 'cheesecurds': 1696, 'kept': 2903, 'bloddy': 1504, 'mary': 3087, 'soon': 4069, 'hypocrisy': 2757, 'vomit': 4580, 'Any': 112, 'tone': 4365, 'regret': 3700, 'So': 992, 'restart': 3752, 'talk': 4277, 'hated': 2654, 'failed': 2347, 'convey': 1863, 'broad': 1560, 'sweep': 4257, 'landscapes': 2933, 'fixes': 2428, 'constructed': 1838, 'menus': 3131, 'difficult': 2055, 'navigate': 3234, 'recessed': 3678, 'push': 3617, 'round': 3808, 'awesome': 1413, 'presentation': 3540, 'act': 1270, 'gonna': 2570, 'drift': 2153, 'away': 1412, 'earth': 2189, 'continue': 1848, 'pairing': 3372, 'periodically': 3425, 'dropping': 2164, 'hosting': 2735, 'voice': 4575, 'overs': 3347, 'monotonous': 3181, 'guests': 2615, 'given': 2552, 'godfathers': 2565, 'zero': 4726, 'Over': 807, 'serving': 3931, 'dripping': 2157, 'grease': 2590, 'recognition': 3681, 'handset': 2637, 'easy': 2193, 'simply': 3996, 'lower': 3044, 'wasting': 4613, 'despicable': 2028, 'Only': 799, 'buildings': 1580, 'locations': 3011, 'MAYBE': 685, 'hummh': 2748, 'friends': 2497, 'figured': 2401, 'joke': 2888, 'publicly': 3599, 'loudly': 3032, 'known': 2923, 'psyched': 3594, 'appointments': 1356, 'contacts': 1841, 'mature': 3096, 'neighbour': 3247, 'girl': 2549, 'misplace': 3160, 'Foreigner': 444, 'hello': 2680, 'Headset': 521, 'packaged': 3363, 'nicely': 3254, 'damage': 1953, 'Italian': 585, 'thrillers': 4337, 'early': 2184, 'fan': 2362, 'Rice': 909, 'sensitivities': 3911, 'treatments': 4410, 'typical': 4445, 'bar': 1436, 'surf': 4244, 'wave': 4619, 'space': 4088, '1998': 18, 'Deep': 322, 'Impact': 566, 'Armageddon': 119, 'fails': 2348, 'Buffet': 208, 'beat': 1456, 'riot': 3785, 'Hugo': 550, 'Weaving': 1202, 'sex': 3940, 'obsessed': 3286, 'gay': 2533, 'estate': 2271, 'salesman': 3830, 'uses': 4527, 'clients': 1741, 'houses': 2742, 'trysts': 4431, 'flaming': 2431, 'Darren': 317, 'Hollander': 539, 'deeply': 1986, 'Would': 1232, 'fourth': 2485, 'comfortable': 1773, 'HATED': 498, 'Comfortable': 277, 'Range': 891, 'Life': 656, 'Made': 694, 'sturdy': 4193, 'checked': 1689, 'felt': 2393, 'Ireland': 578, 'squibs': 4117, 'camp': 1609, 'value': 4535, 'taste': 4284, 'Mom': 728, 'multi': 3210, 'grain': 2583, 'pumpkin': 3604, 'pancakes': 3375, 'pecan': 3408, 'butter': 1590, 'fluffy': 2455, 'boyfriend': 1541, 'recent': 3675, 'transformed': 4398, 'organizational': 3322, 'capability': 1614, 'easier': 2191, 'vegetables': 4540, 'authentic': 1401, 'Thai': 1069, 'experienced': 2317, 'Frenchman': 455, 'Favorite': 424, 'shawarrrrrrma': 3950, 'intelligent': 2846, 'masterful': 3092, 'imagination': 2778, 'sense': 3907, 'attempt': 1391, 'human': 2744, 'nature': 3232, 'hollow': 2717, 'shell': 3954, 'clean': 1733, 'dirty': 2072, 'oysters': 3357, 'bunch': 1584, 'meats': 3110, 'choose': 1717, 'fully': 2508, 'bed': 1461, 'blue': 1509, 'tooth': 4370, 'wi': 4648, 'fi': 2398, 'left': 2961, 'morning': 3188, 'Couldn': 294, 'Cover': 296, 'Girl': 478, 'exploit': 2324, 'women': 4671, 'financial': 2413, 'gain': 2522, 'stretch': 4174, 'Talk': 1063, 'Time': 1095, 'Performance': 839, 'ability': 1246, 'hereas': 2686, 'tribute': 4414, 'event': 2275, 'held': 2677, 'negatively': 3244, 'handles': 2634, 'dignity': 2056, 'grace': 2581, 'shocking': 3961, 'spoiler': 4109, 'Characters': 252, 'dimensional': 2057, 'guys': 2619, 'worthless': 4693, 'Stanwyck': 1017, 'Morgan': 731, 'ways': 4622, 'modern': 3170, 'equivalent': 2261, 'Dickens': 334, 'Carol': 244, 'sensibility': 3909, 'mode': 3168, 'button': 1591, 'tracfonewebsite': 4383, 'toactivate': 4355, 'zillion': 4727, 'reality': 3659, 'gratuity': 2589, 'larger': 2937, 'tip': 4353, 'song': 4066, 'emotions': 2230, 'subjects': 4201, 'Jay': 600, 'Adams': 82, 'unfortunate': 4475, 'subject': 4200, 'Old': 793, 'Man': 700, 'Neil': 758, 'Young': 1241, 'evokes': 2282, 'ringtones': 3783, 'form': 2481, 'existing': 2308, 'CDs': 221, 'internet': 2857, 'efficient': 2208, 'Due': 353, 'happening': 2645, 'forced': 2471, 'stop': 4160, 'leaves': 2959, 'desired': 2025, 'peculiarity': 3409, 'true': 4424, 'lead': 2952, 'martini': 3086, 'W810i': 1166, 'SUPERB': 940, 'fries': 2499, 'bother': 1536, 'volcano': 4577, 'Los': 670, 'Angeles': 107, 'nonsense': 3265, 'faceplates': 2340, 'elegant': 2217, 'bought': 1538, 'Subway': 1036, 'meet': 3114, 'expectations': 2312, 'drinks': 2156, 'WEAK': 1174, 'Too': 1103, 'politically': 3504, 'shrimp': 3978, 'opinion': 3313, 'entrees': 2256, 'GC': 464, 'vibe': 4554, 'moments': 3176, 'excruciatingly': 2299, 'moving': 3203, 'restaurants': 3754, 'dine': 2058, 'weekend': 4633, 'unacceptable': 4450, 'Unless': 1137, 'area': 1360, 'Blue': 190, 'Ant': 111, 'Kathy': 620, 'Bates': 163, 'subtle': 4207, 'desperation': 2027, 'escapism': 2266, 'variation': 4537, 'Play': 858, 'Fields': 428, 'Lord': 668, 'feel': 2386, 'college': 1761, 'cooking': 1869, 'disapppointment': 2079, 'stereotypes': 4148, 'jokes': 2889, 'offend': 3295, 'row': 3810, 'unmoving': 4494, 'homemade': 2720, 'hand': 2629, 'pastas': 3391, 'pizzas': 3458, 'creaks': 1911, 'wooden': 4679, 'floor': 2451, 'reading': 3654, 'badly': 1425, 'underwater': 4467, 'repeated': 3732, 'thousand': 4332, 'Also': 95, 'seamlessly': 3884, 'woven': 4698, 'dogs': 2115, 'splendid': 4106, 'rent': 3729, 'view': 4557, 'documentaries': 2110, 'looking': 3019, 'relationships': 3709, 'marriage': 3083, 'premise': 3536, 'sidelined': 3982, 'inexplicable': 2821, 'focus': 2459, 'documentary': 2111, 'crew': 1922, 'Regardless': 903, 'levels': 2973, 'People': 836, 'European': 393, 'art': 1368, 'action': 1273, 'unneeded': 4496, 'controversy': 1856, 'motor': 3193, 'control': 1855, 'center': 1652, 'voltage': 4578, 'humming': 2749, 'equipment': 2260, 'Pitch': 852, 'Sounds': 1004, 'reasonably': 3665, 'effective': 2206, 'leather': 2957, 'beware': 1480, 'finds': 2414, 'reccomendation': 3669, 'relative': 3710, 'Sooooo': 999, 'checking': 1690, 'practically': 3531, 'add': 1284, 'boost': 1525, 'redeeming': 3687, 'qualities': 3623, 'Protects': 875, 'slightest': 4026, 'uniqueness': 4486, 'Worked': 1227, 'clips': 1745, 'defeats': 1987, 'purpose': 3615, 'Uncomfortable': 1134, 'Ear': 366, 'LG': 634, 'VX9900': 1152, 'EnV': 386, 'Lovely': 676, 'thriller': 4336, 'Hitchcock': 538, 'shenanigans': 3956, 'surrounding': 4249, 'murdered': 3213, 'spy': 4116, 'kidnapped': 2909, 'child': 1704, 'foreign': 2474, 'random': 3637, 'taxidermists': 4289, 'Must': 742, 'disrespected': 2098, 'suggests': 4225, 'occasionally': 3289, 'brings': 1559, 'dramatic': 2140, 'underlying': 4460, 'tensions': 4307, 'performances': 3421, 'apart': 1344, 'odd': 3294, 'inappropriate': 2796, 'smiling': 4044, 'Keira': 621, 'Knightley': 629, 'prone': 3581, 'direction': 2065, 'inexpensive': 2820, 'boot': 1526, 'honestly': 2723, 'blown': 1507, 'glove': 2559, 'secure': 3895, 'durable': 2176, 'WHITE': 1178, 'colored': 1763, 'DEAD': 309, 'hoursTHe': 2740, 'lasts': 2939, 'thereplacement': 4323, 'shifting': 3957, 'bubbling': 1571, 'peeling': 3411, 'scratch': 3870, 'couldn': 1880, 'happier': 2646, 'Droid': 352, 'adventure': 1295, 'hope': 2724, 'sticks': 4151, 'Reception': 899, 'suffered': 4218, 'needed': 3240, 'poisoning': 3501, 'shelves': 3955, 'store': 4164, 'slide': 4024, 'grip': 2602, 'prevents': 3547, 'slipping': 4030, 'videos': 4556, 'witnessed': 4667, 'Love': 674, 'margaritas': 3079, 'functionality': 2513, 'hype': 2756, 'assumed': 1381, 'Go': 481, 'Ryans': 920, 'portrayed': 3516, 'father': 2375, 'schizophrenic': 3863, 'affected': 1300, 'war': 4597, 'paced': 3359, 'understated': 4464, 'themes': 4320, 'simmering': 3993, 'boiling': 1516, 'warts': 4605, 'study': 4186, 'poet': 3494, 'bohemian': 1515, 'wartime': 4604, 'span': 4090, 'aerial': 1298, 'bombardments': 1518, 'London': 664, 'outward': 3338, 'tranquillity': 4392, 'Welsh': 1206, 'coastal': 1751, 'retreat': 3762, 'borderlines': 1528, 'friendship': 2498, 'lust': 3050, 'dedication': 1985, 'versus': 4552, 'practical': 3530, 'concerns': 1811, 'jealousy': 2879, 'rivalry': 3789, 'cowardice': 1894, 'egotism': 2214, 'heroism': 2689, 'sacrifice': 3823, 'torture': 4372, 'paired': 3371, '700w': 44, 'Skype': 986, 'PC': 811, 'Bluetooth': 192, 'transceiver': 4393, 'heard': 2667, 'exceeding': 2286, 'dreamed': 2145, 'twist': 4441, 'light': 2979, 'situation': 4011, 'interior': 2855, 'Maria': 703, 'samsung': 3836, 'crap': 1902, 'crappy': 1903, 'Samsung': 948, 'E715': 358, 'seeen': 3897, 'Third': 1082, 'flops': 2454, 'extra': 2332, 'carry': 1627, 'cut': 1946, 'Display': 340, 'ordered': 3319, 'servers': 3927, 'forth': 2483, 'Are': 116, 'helped': 2682, 'passed': 3387, 'mark': 3080, 'signs': 3989, 'wear': 4625, '100': 2, 'functional': 2512, 'hoped': 2725, 'advise': 1297, 'Case': 247, 'originally': 3325, 'discarded': 2082, 'scratched': 3871, 'clear': 1734, 'shattered': 3949, 'recover': 3685, 'folks': 2461, 'Otto': 803, 'welcome': 4638, 'Can': 234, 'numbers': 3278, 'SIM': 929, 'inspiring': 2834, 'DVD': 314, 'reviewer': 3769, 'called': 1602, 'cashier': 1635, 'wayyy': 4623, 'Perfect': 838, 'ice': 2763, 'colder': 1758, 'Angel': 105, 'Scamp': 956, 'His': 537, 'yelps': 4716, 'hes': 2690, 'scared': 3858, 'funniest': 2516, 'parts': 3385, 'caught': 1642, 'curtain': 1943, 'singing': 3997, 'Ive': 589, 'Never': 760, 'Had': 504, 'Feeling': 425, 'edition': 2202, 'June': 614, 'scamp': 3856, 'lid': 2975, 'immediately': 2783, 'manager': 3074, 'doing': 2116, 'fireball': 2422, 'Ians': 563, 'NOBODY': 747, 'identifies': 2769, 'predictably': 3535, 'gross': 2605, 'Waited': 1186, 'future': 2518, 'goremeister': 2575, 'Lucio': 678, 'Fulci': 461, 'addition': 1286, 'sub': 4199, 'genre': 2541, 'Generous': 475, 'Product': 873, 'described': 2014, 'rocked': 3794, 'social': 4053, 'physical': 3441, 'outlets': 3332, 'Avoid': 131, 'thats': 4315, 'Buyer': 217, 'flush': 2456, 'toilet': 4359, 'Penne': 835, 'vodka': 4574, '350': 30, 'Jabra350': 594, 'TOTAL': 1057, 'WASTE': 1169, 'TIME': 1055, 'impressive': 2790, 'hasn': 2651, 'closed': 1748, 'ya': 4709, 'Peter': 843, 'Watkins': 1198, 'accessible': 1257, 'leftover': 2962, 'STALE': 935, 'crazy': 1910, 'guacamole': 2612, 'puréed': 3616, 'healthy': 2665, 'ethic': 2272, 'Today': 1098, 'Crema': 298, 'Café': 228, 'expanded': 2309, 'bills': 1484, 'pricing': 3553, 'plans': 3466, 'goat': 2563, 'taco': 4269, 'skimp': 4016, 'wow': 4699, 'FLAVOR': 408, 'hamburger': 2628, 'horrified': 2732, 'sympathetic': 4264, 'crawfish': 1906, 'Paying': 834, '85': 49, 'hot': 2736, 'dog': 2114, 'kid': 2908, 'Wienerschnitzel': 1216, 'Stopped': 1028, 'Madison': 695, 'Ironman': 580, 'Loved': 675, 'nano': 3224, 'stated': 4134, 'dissapointed': 2099, 'HBO': 500, 'privileged': 3557, 'Everyone': 398, 'treated': 4409, 'equally': 2259, 'waaay': 4582, 'Steiners': 1023, 'Bought': 200, 'mainly': 3059, 'grtting': 2611, '44': 34, 'V3c': 1147, 'law': 2949, 'mall': 3070, 'sick': 3981, 'Editing': 378, 'phenomenal': 3433, 'yellowtail': 4715, 'carpaccio': 1624, 'melt': 3119, 'Exceptionally': 405, 'Items': 587, 'included': 2798, 'ARE': 65, 'INCLUDED': 556, 'pretext': 3544, 'texture': 4313, 'unfolds': 4473, '18th': 11, 'century': 1655, 'Jutland': 617, 'instruments': 2839, 'touch': 4377, 'beers': 1464, 'tap': 4279, 'highlight': 2697, 'smallest': 4038, 'stays': 4140, 'Doesn': 345, 'Generally': 474, 'OMG': 782, 'delicioso': 1998, 'Cant': 238, 'binge': 1485, 'drinking': 2155, 'carbs': 1619, 'stomach': 4158, 'exquisite': 2326, 'visual': 4570, 'composition': 1803, 'moment': 3175, 'inventive': 2863, 'angle': 1332, 'including': 2800, 'pointillistic': 3498, 'faux': 2377, 'wonder': 4673, 'joy': 2891, 'behold': 1469, 'AMAZON': 62, 'memory': 3126, 'card': 1620, 'receives': 3673, 'APPETIZERS': 64, 'Conclusion': 282, 'sharp': 3947, 'graphics': 2585, 'copier': 1871, 'hold': 2710, 'Costco': 290, 'lacks': 2929, 'owned': 3352, 'mobile': 3167, 'surely': 4243, 'coherent': 1756, 'screenwriter': 3875, 'Air': 88, 'Force': 443, 'obliged': 3285, 'write': 4702, 'sum': 4226, 'bartender': 1442, 'personable': 3430, 'AND': 63, 'writer': 4703, 'Gorman': 487, 'Bechard': 169, 'undoubtedly': 4469, 'homework': 2721, 'references': 3690, 'industry': 2817, 'appropriate': 1358, 'Item': 586, 'Does': 344, 'Match': 710, 'Picture': 849, 'shelf': 3953, 'Frankly': 450, 'Cotton': 292, 'club': 1749, 'Unfaithful': 1135, 'embarrassing': 2224, 'Lane': 642, 'Gere': 477, 'BAD': 137, 'pho': 3434, 'memorized': 3125, 'grossed': 2606, 'sole': 4058, 'bright': 1554, 'Jonah': 609, 'Hill': 536, 'unrecognizable': 4502, 'Superbad': 1040, 'weight': 4636, 'interim': 2854, 'fair': 2349, 'PERFECT': 814, 'sit': 4005, 'informative': 2824, 'CONCLUSION': 224, 'meals': 3102, 'pull': 3601, 'earphone': 2185, 'defect': 1988, 'risk': 3788, 'built': 1581, 'hip': 2704, 'maintaining': 3062, 'coziness': 1895, 'loosely': 3023, 'public': 3598, 'Later': 649, 'power': 3528, 'assure': 1382, 'reflected': 3692, 'par': 3380, 'borrowed': 1533, 'earlier': 2183, 'Duris': 354, 'wholesome': 4647, 'gives': 2553, 'market': 3081, 'Thank': 1071, 'complaint': 1795, 'standard': 4125, 'dedicated': 1984, 'boba': 1514, 'spots': 4113, 'Jenni': 602, 'reviews': 3770, 'proud': 3587, 'tolerate': 4363, 'political': 3503, 'incorrectness': 2805, 'artistic': 1373, 'freedom': 2490, 'suspension': 4255, 'disbelief': 2081, 'Slavic': 987, 'female': 2394, 'outlet': 3331, 'Provides': 876, 'classy': 1732, 'regarding': 3698, 'posted': 3522, 'detailed': 2035, 'comments': 1781, 'grey': 2599, 'Fire': 432, 'Red': 902, 'Lucy': 679, 'Bell': 173, 'higher': 2695, 'sink': 4000, 'depressing': 2012, 'parents': 3381, 'similar': 3992, 'silently': 3991, 'THey': 1054, 'theater': 4316, 'lilt': 2988, 'step': 4146, 'race': 3634, 'relax': 3712, 'Personally': 842, 'learn': 2956, 'involving': 2867, 'issue': 2872, 'rests': 3757, 'lightly': 2982, 'consistent': 1834, 'OVERPRICED': 786, 'tying': 4443, 'loose': 3022, 'ends': 2240, 'Problem': 872, 'loops': 3021, 'material': 3094, 'easily': 2192, 'sloppy': 4031, 'Mediterranean': 715, 'Chicken': 257, 'Salad': 944, 'fell': 2391, 'opportunity': 3314, 'today': 4358, 'sample': 3835, 'balanced': 1430, 'enjoyment': 2249, 'dangerous': 1957, 'nicest': 3256, 'owners': 3354, 'near': 3236, 'conversation': 1860, 'provoking': 3593, 'Fantastic': 420, 'Left': 650, 'frustrated': 2503, 'Fans': 419, 'heaven': 2673, 'aluminum': 1321, 'Palm': 827, 'VX': 1151, 'protected': 3584, 'handheld': 2631, 'bargain': 1438, 'dislike': 2092, 'sounded': 4080, 'OK': 781, 'wife': 4650, 'unintelligible': 4481, 'nachos': 3223, 'MUST': 690, 'HAVE': 499, 'brain': 1542, 'shut': 3979, 'primal': 3554, 'impulse': 2795, 'preservation': 3542, 'Was': 1193, 'Hoping': 542, 'More': 730, 'inconspicuous': 2804, 'Rip': 912, 'shipping': 3960, 'dozen': 2134, 'wings': 4659, 'satisfied': 3843, 'units': 4488, 'Seller': 967, 'shipped': 3959, 'cheaper': 1684, 'competitors': 1792, 'inexcusable': 2819, 'carriers': 1626, 'bluetoooth': 1510, 'maintain': 3061, 'monkeys': 3179, 'shouldn': 3972, 'share': 3945, 'DNA': 311, 'copy': 1872, 'humans': 2746, 'duck': 2169, 'pink': 3452, 'char': 1666, 'Portable': 864, 'rocks': 3796, 'rough': 3807, 'draft': 2136, 'shooting': 3964, 'began': 1465, 'finished': 2421, 'completed': 1798, 'Will': 1219, 'distinction': 2100, 'highlighted': 2698, 'unique': 4485, 'Excellently': 404, 'Sci': 959, 'producers': 3567, 'Scot': 960, 'Vandiver': 1156, 'fear': 2382, 'losing': 3025, 'imaginative': 2779, 'considering': 1832, 'located': 3009, 'Crystals': 302, 'shopping': 3966, 'Aria': 118, 'grilled': 2601, 'reminded': 3720, 'legit': 2965, 'Sadly': 942, 'Gordon': 486, 'Ramsey': 890, 'Steak': 1022, 'shall': 3942, 'sharply': 3948, 'install': 2835, 'egg': 2211, 'Furthermore': 463, 'operation': 3312, 'cafe': 1599, 'serves': 3928, 'surprised': 4246, 'Monica': 729, 'Bellucci': 174, 'miserable': 3157, 'laughable': 2947, 'predictable': 3534, 'stinker': 4152, 'smells': 4042, 'direct': 2062, 'release': 3714, 'excuse': 2301, 'WORTHWHILE': 1183, 'suck': 4213, 'Excalibur': 402, 'common': 1784, 'iced': 2764, 'length': 2966, 'minute': 3155, 'drive': 2158, 'spinach': 4105, 'avocado': 1407, 'ingredients': 2825, 'dressing': 2150, 'literally': 2999, '15': 6, 'favor': 2379, 'falls': 2355, 'casting': 1639, 'Jimmy': 605, 'science': 3867, 'teacher': 4291, 'Rita': 913, 'Hayworth': 519, 'pedestal': 3410, 'Being': 171, '90': 52, 'proudly': 3588, 'classical': 1730, 'WB': 1172, 'cartoons': 1631, 'smoking': 4046, 'Far': 421, 'chick': 1702, 'flick': 2445, 'bendingly': 1476, 'created': 1915, 'GREAT': 467, 'promise': 3576, 'disappoint': 2075, 'IT': 561, 'REALLY': 884, 'EASY': 359, 'marbles': 3078, 'implausible': 2785, 'Hated': 515, 'Setup': 971, 'smoothly': 4048, 'ideal': 2766, 'sensitive': 3910, 'wouldnt': 4697, 'free': 2489, 'company': 1788, 'brick': 1551, 'oven': 3339, 'bread': 1546, 'app': 1347, 'text': 4312, 'messaging': 3139, 'tricky': 4415, 'riingtones': 3780, 'Muddy': 739, 'casing': 1636, 'wire': 4661, 'insert': 2829, 'glued': 2560, 'slid': 4023, 'balance': 1429, 'outshining': 3335, 'Halibut': 506, 'Def': 323, 'tater': 4288, 'tots': 4376, 'southwest': 4087, 'Still': 1027, 'empowerment': 2233, 'complain': 1793, 'wake': 4589, 'normal': 3267, 'messages': 3138, 'web': 4628, 'browsing': 1568, 'significantly': 3988, 'previous': 3548, 'patio': 3395, 'outstanding': 3337, 'Pita': 851, 'Attempting': 128, 'artiness': 1371, 'angles': 1333, 'existent': 2306, 'workers': 4685, 'tapas': 4280, 'dishes': 2091, 'HS850': 501, 'pocket': 3493, 'sure': 4242, 'achievement': 1268, 'timers': 4349, 'Simply': 984, 'customers': 1945, 'sat': 3842, 'FANTASTIC': 407, 'Amazon': 98, 'chef': 1699, 'Logitech': 663, 'football': 2470, 'perplexing': 3428, 'static': 4135, 'donut': 2119, 'correction': 1876, 'Heimer': 523, 'weekly': 4634, 'haunt': 2657, 'gels': 2535, 'finish': 2420, 'catching': 1640, 'seat': 3888, 'Despite': 330, 'businesses': 1588, 'slim': 4028, 'alarm': 1313, 'clock': 1746, 'docking': 2108, 'removing': 3724, 'Macbeth': 693, 'Jason': 598, 'moved': 3198, 'tears': 4295, 'final': 2410, 'monolog': 3180, 'brief': 1552, 'candle': 1613, 'sphere': 4100, 'forces': 2472, 'face': 2339, 'ambience': 1328, 'start': 4130, 'restocking': 3755, 'fee': 2385, 'refund': 3694, 'afraid': 1301, 'subtitles': 4206, 'aversion': 1406, 'therapy': 4322, 'Tungsten': 1122, 'E2': 357, 'fliptop': 2449, 'wobbly': 4670, 'eventually': 2277, 'receive': 3671, 'drivng': 2160, 'starts': 4132, 'ringing': 3782, 'Cumbersome': 303, 'Awkward': 135, 'unreliable': 4503, 'Hard': 512, 'judge': 2892, 'melted': 3120, 'styrofoam': 4198, 'confusing': 1823, 'subplots': 4205, 'native': 3230, 'americans': 1329, 'brainsucking': 1543, 'steaks': 4143, 'loving': 3042, 'EarGels': 367, 'Errol': 390, 'Flynn': 440, 'brilliant': 1556, 'Custer': 304, 'favourite': 2381, 'cause': 1643, 'Actors': 80, 'LOVED': 638, 'mussels': 3219, 'reduction': 3688, 'bites': 1494, 'refused': 3697, 'anymore': 1342, 'tiny': 4352, 'elegantly': 2218, 'decorated': 1983, 'Cool': 287, 'WRITTEN': 1185, 'um': 4449, 'She': 976, 'toasted': 4357, 'English': 387, 'muffin': 3208, 'untoasted': 4508, 'ignored': 2773, 'hostess': 2734, 'Basically': 162, 'airline': 1309, 'Clever': 269, 'pleaser': 3479, 'Mickey': 722, '80': 46, 'Saw': 955, 'loudspeaker': 3033, 'option': 3315, 'bumpers': 1583, 'lights': 2983, 'speak': 4091, 'meaning': 3105, 'phrase': 3440, 'history': 2705, 'conflict': 1820, 'owed': 3350, 'lovely': 3038, 'usual': 4529, 'cutie': 1949, 'Update': 1139, 'Adapter': 83, 'provide': 3590, 'current': 1940, 'filmmaker': 2407, 'director': 2068, 'hide': 2693, 'head': 2660, 'spent': 4099, 'fo': 2458, 'refill': 3691, 'water': 4618, 'struggle': 4182, 'crack': 1896, 'Thoroughly': 1085, 'Went': 1207, 'concrete': 1814, 'knock': 2920, 'wood': 4678, 'commercials': 1783, 'misleading': 3159, '3o': 31, 'taped': 4282, 'episodes': 2258, 'accident': 1260, 'Im': 565, 'AZ': 72, 'unbelievably': 4453, 'deserves': 2019, 'coupon': 1884, 'irritating': 2870, 'dustpan': 2178, 'indoors': 2814, 'disposable': 2097, 'Dont': 347, 'disapoinment': 2074, 'particularly': 3383, 'Dwight': 355, 'Schultz': 958, 'cellphones': 1650, 'planning': 3465, 'dialing': 2045, 'evening': 2274, 'drastically': 2141, 'personally': 3432, 'hummus': 2750, 'pita': 3454, 'baklava': 1428, 'falafels': 2352, 'Baba': 152, 'Ganoush': 470, 'eggplant': 2212, 'postinos': 3523, 'Otherwise': 802, 'Hot': 545, 'Sour': 1006, 'Egg': 381, 'Flower': 439, 'Soups': 1005, 'Stars': 1020, 'slackers': 4018, 'excuses': 2302, 'actions': 1274, 'recall': 3668, 'flavored': 2436, 'laptop': 2934, 'IR': 559, 'sturdiness': 4192, 'ordeal': 3317, 'begin': 1466, 'matter': 3095, 'progresses': 3575, 'anguish': 1335, 'suffering': 4219, 'Light': 657, 'notice': 3273, 'composed': 1802, 'Poorly': 863, 'contstruct': 1857, 'hinge': 2703, 'Caballero': 227, 'driest': 2152, 'damn': 1954, 'Utterly': 1144, 'merit': 3133, 'level': 2972, 'akin': 1311, 'Earset': 369, 'outgoing': 3329, 'build': 1577, 'unlike': 4491, 'breaks': 1550, 'Happy': 511, 'Based': 161, 'gratitude': 2588, 'business': 1587, 'rocketed': 3795, 'unit': 4487, 'destination': 2033, 'unknown': 4489, 'mixed': 3165, 'mushrooms': 3216, 'yukon': 4722, 'gold': 2568, 'puree': 3613, 'corn': 1874, 'beateous': 1457, 'realized': 3661, 'brilliance': 1555, 'depicts': 2011, 'Tucson': 1121, 'stinks': 4153, 'aspect': 1378, 'uninteresting': 4483, 'forgettable': 2477, 'understanding': 4463, 'patient': 3394, 'commentary': 1779, 'Exactly': 401, 'elaborately': 2215, 'aesthetically': 1299, 'sculpture': 3880, 'Once': 797, 'dinners': 2061, 'extensive': 2328, 'provides': 3592, 'Plan': 855, 'ordering': 3320, 'Albondigas': 90, 'soup': 4083, 'tasted': 4285, 'tomato': 4364, 'frozen': 2502, 'meatballs': 3109, 'Wasted': 1195, 'Armand': 120, 'Assante': 125, 'summary': 4228, 'busy': 1589, 'building': 1579, 'FREEZING': 415, 'anytime': 1343, 'lousy': 3034, 'puppets': 3607, 'track': 4384, 'commands': 1778, 'sentiment': 3914, 'contributing': 1852, 'shouting': 3974, 'telephone': 4301, 'stopped': 4161, 'idiot': 2771, 'produce': 3564, 'season': 3885, 'prompt': 3579, 'verizon': 4549, 'performed': 3422, 'apologize': 1346, 'accompanied': 1262, 'Bacon': 156, 'hella': 2679, 'salty': 3834, 'Voodoo': 1164, 'gluten': 2561, 'Burger': 211, 'Perabo': 837, 'energy': 2242, 'Reasonably': 898, 'greatest': 2594, 'moods': 3186, 'artist': 1372, 'exclaim': 2298, 'Whoa': 1214, 'Bouchon': 199, 'Gotta': 488, 'slimy': 4029, 'drooling': 2161, 'joint': 2887, 'Leopard': 652, 'Print': 870, 'Soggy': 993, 'contains': 1844, 'cheesiness': 1697, 'unethical': 4472, 'normally': 3268, 'NC': 744, '17': 9, 'avoiding': 1410, 'gyros': 2621, 'missing': 3162, 'refried': 3693, 'beans': 1454, 'dried': 2151, 'crusty': 1936, 'embarassing': 2222, 'hurt': 2753, 'genuinely': 2543, 'pleasant': 3476, 'enthusiastic': 2252, 'treat': 4408, 'article': 1369, 'read': 3652, 'focused': 2460, 'spices': 4102, 'Star': 1018, 'Trek': 1112, 'Frontier': 459, 'Rock': 916, 'Casino': 248, 'WILL': 1179, 'NEVER': 745, 'EVER': 362, 'STEP': 937, 'FORWARD': 414, 'IN': 555, 'AGAIN': 58, 'waitresses': 4588, 'entertaining': 2251, 'nonetheless': 3264, 'red': 3686, 'bamboo': 1433, 'shoots': 3965, 'double': 2123, 'cheeseburger': 1695, 'Macarons': 692, 'insanely': 2828, 'STEAMBOAT': 936, 'WILLIE': 1180, 'amazingly': 1326, 'wanting': 4595, 'Hopefully': 541, 'Cox': 297, 'win': 4655, 'Worse': 1229, 'humiliated': 2747, 'worker': 4684, 'Bunch': 210, 'callings': 1604, 'seperated': 3915, 'mere': 3132, 'ft': 2506, 'excessive': 2292, 'garbled': 2528, 'accountant': 1264, 'screwed': 3876, 'holder': 2711, 'Level': 654, 'spice': 4101, 'whelm': 4642, 'coverage': 1890, 'upstairs': 4518, 'basement': 1445, 'Coming': 278, 'experiencing': 2319, 'parties': 3384, 'ask': 1375, 'Jennifer': 603, 'Rubin': 918, 'Jamie': 596, 'Harris': 513, 'changes': 1663, 'nervous': 3249, 'starlet': 4128, 'beginning': 1467, 'events': 2276, 'Utter': 1143, 'Sound': 1003, 'TERRIBLE': 1046, 'stayed': 4138, 'US': 1129, 'converter': 1862, 'Virgin': 1162, 'Wireless': 1221, 'Voice': 1163, 'tremendous': 4411, 'geeky': 2534, 'toast': 4356, 'oozes': 3307, 'embedded': 2226, 'sleek': 4020, 'stylish': 4197, 'refuse': 3696, 'tick': 4342, 'background': 1421, 'Think': 1081, 'plan': 3463, 'MOTO': 687, 'Total': 1107, 'letdown': 2969, 'Camelback': 232, 'Shop': 979, 'Cartel': 246, 'Coffee': 271, 'bruschetta': 1570, 'devine': 2044, 'realised': 3657, 'Watching': 1196, 'washing': 4608, 'twirling': 4440, 'acknowledged': 1269, '35': 29, 'forgetting': 2478, 'Shakespear': 973, 'Han': 507, 'Nan': 754, 'Used': 1141, 'wit': 4666, 'Schrader': 957, 'Mishima': 725, 'complex': 1800, 'modest': 3171, 'craving': 1905, 'Linksys': 660, 'exchange': 2294, 'refurb': 3695, 'Tied': 1093, 'lasting': 2938, '45': 35, 'MAJOR': 683, 'PROBLEMS': 821, 'rubber': 3811, 'ahead': 1308, 'warmer': 4599, 'AccessoryOne': 78, '25': 25, 'timeless': 4347, 'jiggle': 2884, 'Bela': 172, 'Lugosi': 680, 'extraneous': 2333, 'intoning': 2860, 'Saggy': 943, 'floppy': 2453, 'Trying': 1120, 'exercise': 2305, 'Brilliant': 205, 'Perhaps': 841, 'defective': 1989, 'Customer': 305, 'Ever': 396, 'First': 434, 'bathrooms': 1450, 'Seat': 964, 'covers': 1892, 'replenished': 3739, 'plain': 3462, 'yucky': 4721, 'AVOID': 68, 'THIS': 1053, 'ESTABLISHMENT': 361, 'vehicle': 4542, 'cradle': 1898, 'belt': 1475, 'Bloody': 189, 'Mary': 708, 'accept': 1254, 'cassette': 1637, 'Breeders': 203, 'cheaply': 1685, 'Ebola': 372, 'virus': 4566, 'chewy': 1701, 'Seriously': 969, 'includes': 2799, 'Shatner': 975, 'Nimoy': 766, 'washed': 4607, 'tacky': 4268, 'Spock': 1014, 'rescue': 3743, 'Kirk': 628, 'jet': 2883, 'pack': 3361, 'mountain': 3194, 'earpiece': 2186, 'RUDE': 889, 'INCONSIDERATE': 557, 'MANAGEMENT': 684, 'antena': 1341, 'allowing': 1319, '1971': 14, 'format': 2482, 'mini': 3152, 'baaaaaad': 1417, 'Cape': 239, 'Cod': 270, 'ravoli': 3649, 'cranberry': 1901, 'mmmm': 3166, 'Mouse': 736, 'following': 2464, 'silent': 3990, 'PLANE': 819, 'CRAZY': 226, 'famous': 2361, 'ground': 2607, 'Clear': 268, 'Irons': 581, 'behing': 1468, '5020': 37, 'comfortible': 1775, '24': 24, 'pain': 3365, 'fond': 2466, 'magnetic': 3055, 'strap': 4170, 'Than': 1070, 'putting': 3619, 'sequel': 3916, 'Join': 608, 'email': 2221, 'Large': 643, 'dough': 2126, 'beats': 1458, 'fingers': 2419, 'contract': 1850, 'Shot': 980, 'Southern': 1008, 'California': 229, 'desert': 2018, 'patent': 3392, 'creates': 1916, 'Wife': 1217, 'coconut': 1754, 'weren': 4640, 'megapixels': 3116, 'renders': 3726, 'images': 2776, 'relatively': 3711, 'resolution': 3747, 'activated': 1275, 'suddenly': 4217, 'died': 2052, 'serve': 3924, 'Indian': 571, 'naan': 3222, 'pine': 3451, 'nut': 3282, 'halfway': 2626, 'embarrassed': 2223, 'Howell': 548, 'Sat': 952, 'Sun': 1038, 'trunk': 4427, 'carried': 1625, 'hitch': 2707, 'hang': 2640, 'appalling': 1348, 'mains': 3060, 'uninspired': 4480, 'Noca': 770, 'secondary': 3892, 'incomprehensible': 2802, 'relation': 3707, 'primary': 3555, 'mystifying': 3221, 'brought': 1565, 'owner': 3353, 'Japanese': 597, 'dude': 2170, 'vinaigrette': 4563, 'overall': 3341, 'Work': 1226, 'Eclectic': 375, 'Insults': 574, 'profound': 3573, 'deuchebaggery': 2038, 'smoke': 4045, 'solidify': 4060, 'stood': 4159, 'awkwardly': 1415, 'transmission': 4401, 'Metro': 719, 'PCS': 812, 'SCH': 924, 'r450': 3633, 'slider': 4025, 'Sony': 998, 'Premium': 866, 'plugs': 3489, 'With': 1222, 'Call': 230, 'Telly': 1067, 'Savalas': 953, 'Boyle': 202, '54': 40, 'sheer': 3952, 'tedium': 4298, 'melodrama': 3118, 'sinking': 4001, 'GOOD': 466, 'LORD': 635, 'WHAT': 1177, 'WERE': 1176, 'THEY': 1051, 'THINKING': 1052, 'Lots': 672, 'holes': 2715, 'single': 3998, 'decisions': 1981, 'atrocious': 1387, 'abysmal': 1253, 'Trouble': 1116, 'impossible': 2787, 'establish': 2269, 'watchable': 4615, 'theme': 4319, 'follows': 2465, 'band': 1434, 'Mansonites': 702, 'reporter': 3740, 'anniversary': 1338, 'killings': 2913, 'dumb': 2173, 'pointless': 3499, 'spoil': 4107, 'indication': 2809, 'meld': 3117, 'volatile': 4576, 'temperaments': 4304, 'seamless': 3883, 'union': 4484, 'creativity': 1918, 'result': 3758, 'powerhouse': 3529, 'timely': 4348, 'culture': 1939, 'disturbing': 2104, 'fascination': 2371, 'celebrity': 1647, 'distorted': 2101, 'interpretations': 2859, 'fame': 2357, 'forgotten': 2480, 'Kevin': 623, 'Spacey': 1010, 'verbal': 4546, 'tsunami': 4432, 'Buddy': 206, 'Ackerman': 79, 'scripting': 3878, 'unmatched': 4493, 'ages': 1305, 'younger': 4718, 'appreciate': 1357, 'galley': 2523, 'pm': 3491, '8pm': 51, '15pm': 8, 'forwarded': 2484, 'remaining': 3717, 'Either': 382, 'sucks': 4216, 'horrendously': 2729, 'Captain': 240, 'Howdy': 547, 'hell': 2678, 'semi': 3904, 'truck': 4423, 'Linda': 658, 'Cardellini': 242, 'poised': 3500, 'Dee': 321, 'Snider': 991, 'villains': 4562, 'pacing': 3360, 'FX': 417, 'sophisticated': 4073, 'miserably': 3158, 'utterly': 4532, 'unoriginal': 4497, 'cinematic': 1721, 'captured': 1617, 'celluloid': 1651, 'supernatural': 4236, 'zombie': 4728, 'Season': 963, 'Five': 435, 'thread': 4333, 'holding': 2712, 'Leni': 651, 'Parker': 832, 'Anita': 108, 'LaSelva': 640, 'Taelons': 1061, 'idealogical': 2767, 'Horror': 544, 'centers': 1653, 'Puppet': 879, 'Master': 709, 'flicks': 2446, 'lame': 2932, 'explains': 2322, 'sinister': 3999, 'origins': 3326, 'asleep': 1377, 'insomniacs': 2832, 'heartwarming': 2671, 'chasing': 1682, 'dreams': 2146, 'Nurse': 778, 'Betty': 181, 'unpredictability': 4498, 'superbly': 4233, 'betty': 1479, 'jean': 2880, 'smart': 4039, 'GO': 465, 'NOW': 752, 'S11': 921, 'professionals': 3572, 'Drago': 350, 'Debbie': 320, 'Rochon': 915, 'contributory': 1853, 'dialog': 2046, 'chimp': 1710, 'tolerable': 4361, 'Prices': 868, 'flavors': 2439, 'slaw': 4019, 'drenched': 2148, 'mayo': 3099, 'Motorolas': 735, 'UGLY': 1125, 'corded': 1873, 'wireless': 4663, 'bitpim': 1495, 'program': 3574, 'transfer': 4396, 'data': 1960, 'Someone': 996, 'shouldve': 3973, 'invented': 2862, 'sooner': 4070, 'deliver': 2004, 'uneasy': 4470, 'Nobu': 769, 'cases': 1633, 'haul': 2656, 'Hackneyed': 503, 'wind': 4656, 'helps': 2685, 'maybe': 3098, 'savant': 3847, 'adhesive': 1289, 'Predictable': 865, 'ARGUING': 66, 'WITH': 1181, 'VERIZON': 1149, 'REGARDING': 885, 'THE': 1049, 'DROPPED': 313, 'CALLS': 220, 'WE': 1173, 'RETURNED': 887, 'PHONES': 817, 'TWO': 1059, 'flaw': 2441, 'correctly': 1877, 'central': 1654, 'ineptly': 2818, 'stereotypically': 4149, 'repair': 3731, 'reactions': 3651, 'nuts': 3283, 'bitchy': 1492, 'boss': 1535, 'Omelets': 794, 'die': 2051, 'angry': 1334, 'Awful': 134, 'shower': 3976, 'rinse': 3784, 'nude': 3276, 'NOKIA': 748, '99': 54, 'bigger': 1482, 'Cooked': 286, 'perfection': 3418, 'impeccable': 2784, 'Essentially': 391, 'Microsoft': 723, 'tech': 4296, 'WAY': 1171, 'sugary': 4222, 'interested': 2851, 'sins': 4002, 'industrial': 2816, 'suggestions': 4224, 'crayon': 1908, 'pencil': 3412, 'drawings': 2143, 'colorful': 1764, 'fanciful': 2363, 'according': 1263, 'applifies': 1355, 'devices': 2043, 'Interesting': 575, 'flavorful': 2437, 'delights': 2002, 'reccommend': 3670, 'SCREAMS': 925, 'LEGIT': 633, 'somethat': 4063, 'Raw': 893, 'sublimely': 4203, 'iPODs': 2760, 'Phenomenal': 845, 'Waiter': 1187, 'jerk': 2881, 'peachy': 3401, 'keen': 2901, 'plus': 3490, 'numerous': 3279, 'structure': 4181, 'tightly': 4344, 'vitally': 4572, 'occurs': 3293, 'content': 1845, 'highest': 2696, 'superlative': 4235, 'imaginable': 2777, 'Yes': 1238, 'require': 3741, 'significant': 3987, 'puzzle': 3620, 'solving': 4062, 'pieces': 3449, 'create': 1914, 'pulls': 3603, 'punches': 3605, 'Graphics': 490, 'game': 2524, 'TH': 1047, 'insane': 2827, 'massive': 3090, 'unlockable': 4492, 'Actually': 81, 'Canada': 235, 'aye': 1416, 'Buy': 216, 'PURE': 825, 'BRILLIANCE': 146, 'doomed': 2120, 'conception': 1808, 'minor': 3153, 'confirm': 1819, 'unfunny': 4477, 'generic': 2538, 'managed': 3072, 'ENTIRE': 360, 'exaggerating': 2284, 'trailer': 4390, 'talented': 4275, 'Carrell': 245, 'save': 3848, 'Freeman': 452, 'Ed': 376, 'Helms': 526, 'lazy': 2951, 'presence': 3539, 'animals': 1336, 'integration': 2844, 'obvious': 3287, 'green': 2596, 'cost': 1878, 'translate': 4399, 'succeeds': 4211, 'meagre': 3100, 'lesser': 2967, 'French': 454, 'Cancan': 236, 'boasts': 1513, 'cutest': 1948, 'leading': 2953, 'ladies': 2930, 'heels': 2675, 'insipid': 2831, 'efforts': 2210, 'Totally': 1108, 'Heche': 522, 'Sam': 946, 'Shepard': 977, 'gung': 2617, 'ho': 2708, 'Marine': 704, 'sobering': 4052, 'riveted': 3790, 'resounding': 3748, 'Hanks': 510, 'fingernails': 2418, 'chalkboard': 1660, 'unnecessary': 4495, 'train': 4391, 'roller': 3801, 'coaster': 1752, 'warmth': 4600, 'grates': 2587, 'nerves': 3248, 'improved': 2792, 'improvisation': 2794, 'worry': 4689, 'Often': 790, 'follow': 2462, 'surroundings': 4250, 'crackles': 1897, 'unpredictable': 4499, 'youthful': 4719, 'concentrate': 1806, 'meanders': 3104, 'builders': 1578, 'cross': 1929, 'cliche': 1738, 'choices': 1715, 'predict': 3533, 'verbatim': 4547, 'chills': 1708, 'Alexander': 91, 'Nevsky': 762, 'lived': 3003, 'pretentious': 3543, 'planned': 3464, 'Dodge': 343, 'stratus': 4171, 'Shots': 981, 'help': 2681, 'makers': 3065, 'restrained': 3756, 'Québec': 882, 'Value': 1154, 'Internet': 576, 'excrutiatingly': 2300, 'proclaimed': 3563, 'coffee': 1755, 'wildly': 4653, 'credit': 1921, '1986': 16, 'version': 4551, 'marred': 3082, 'constant': 1836, 'studio': 4185, 'indoor': 2813, 'exteriors': 2330, 'familiar': 2359, 'block': 1503, 'roasted': 3792, 'bone': 1520, 'marrow': 3084, 'favorite': 2380, 'purchases': 3610, 'descriptions': 2017, 'yum': 4723, 'eel': 2204, 'NONE': 749, 'sauces': 3846, 'AFter': 57, 'dead': 1966, 'Awsome': 136, 'access': 1256, 'detachable': 2034, 'Tasted': 1064, 'dirt': 2071, 'key': 2904, 'pad': 3364, 'lit': 2998, 'quit': 3631, '18': 10, 'purchased': 3609, 'combination': 1767, 'pears': 3406, 'almonds': 1320, 'Disappointed': 337, 'Plater': 857, 'Crostini': 300, 'stale': 4123, 'genius': 2540, 'letting': 2970, 'passion': 3388, 'Art': 122, 'taking': 4272, 'Well': 1205, 'intended': 2847, 'Helen': 524, 'Baxendale': 165, 'credible': 1920, 'lady': 2931, 'cheerfull': 1692, 'naughty': 3233, 'deadly': 1967, 'blood': 1505, 'evil': 2280, 'Greek': 492, 'creamy': 1913, 'orders': 3321, 'excited': 2296, 'source': 4085, 'Magical': 696, 'Help': 527, 'grocery': 2604, 'month': 3183, 'SETS': 927, 'oy': 3356, 'vey': 4553, 'nutshell': 3284, 'restaraunt': 3751, 'sewer': 3939, 'scripts': 3879, 'consumer': 1840, 'occasions': 3290, 'medium': 3113, 'bloodiest': 1506, 'Thumbs': 1089, 'Up': 1138, 'live': 3002, 'Fridays': 456, 'blows': 1508, 'StarTac': 1019, 'regretted': 3702, 'impression': 2789, 'engaging': 2243, 'exciting': 2297, 'flair': 2430, 'bartenders': 1443, 'romantic': 3803, 'charming': 1680, 'junkyard': 2897, 'laughed': 2948, 'LOVE': 637, '2MP': 26, 'pics': 3445, 'Counterfeit': 295, 'ones': 3306, 'shoe': 3962, 'Okay': 792, 'critic': 1925, 'creature': 1919, 'tremendously': 4412, 'horrendous': 2728, 'Looks': 667, 'Beautiful': 167, 'styling': 4196, 'evaluate': 2273, 'TMobile': 1056, 'murky': 3215, 'related': 3706, 'Aailiyah': 73, 'Akasha': 89, 'entrance': 2255, 'expecting': 2314, 'Oscar': 801, 'Chipotle': 260, 'BETTER': 143, 'luck': 3047, 'gloriously': 2558, 'accurate': 1265, 'raver': 3648, 'hopes': 2727, 'charcoal': 1670, 'grill': 2600, 'unfortunately': 4476, 'flat': 2434, 'jerky': 2882, 'movements': 3199, 'buffets': 1575, 'courteous': 1887, 'definitly': 1994, 'Cingular': 267, 'ATT': 67, '8525': 50, 'Makes': 698, 'wearing': 4627, 'Palms': 828, 'dancing': 1956, 'title': 4354, 'screamy': 3872, 'masculine': 3088, 'services': 3930, 'mood': 3185, 'bug': 1576, 'climbing': 1743, 'kitchen': 2916, 'Filmiing': 430, 'expansive': 2310, 'High': 532, 'CRAP': 225, 'Disappointing': 338, 'condescends': 1815, 'hearts': 2670, 'heavy': 2674, 'keeps': 2902, '680': 41, 'Place': 854, 'Gyros': 496, 'jabra': 2875, 'greater': 2593, 'ease': 2190, 'combo': 1768, 'ala': 1312, 'cart': 1629, 'yellow': 4714, 'saffron': 3825, 'seasoning': 3887, 'cheated': 1687, 'Company': 279, 'television': 4302, 'Rating': 892, 'Grade': 489, 'Note': 775, 'Show': 982, 'Is': 583, 'Mother': 732, 'Cast': 249, 'Pull': 877, 'Daughter': 318, 'Out': 805, 'frog': 2501, 'eye': 2335, 'interplay': 2858, 'Martin': 707, 'Emilio': 384, 'Wall': 1191, 'Street': 1032, 'Charlie': 254, 'WELL': 1175, 'IM': 553, 'SATISFIED': 923, 'youtube': 4720, 'vegetarian': 4541, 'array': 1365, '00': 0, 'fishnet': 2424, 'stockings': 4156, 'astonishingly': 1383, 'ham': 2627, 'fisted': 2425, 'throwback': 4338, 'student': 4184, '1980': 15, 'experiences': 2318, 'abroad': 1248, 'interacting': 2850, 'nationalities': 3229, 'circumstances': 1725, 'slightly': 4027, 'Omit': 795, 'vinegrette': 4564, 'greens': 2597, 'Paolo': 830, 'Sorrentino': 1000, 'loneliness': 3014, 'Tony': 1102, 'unforgettable': 4474, 'Almost': 94, 'fashioned': 2372, 'tuneful': 4435, 'plenty': 3484, 'capacity': 1615, 'confortable': 1821, 'somewhat': 4064, 'extended': 2327, 'periods': 3426, 'Mobile': 727, 'caterpillar': 1641, 'writers': 4704, 'smack': 4035, 'bonus': 1521, 'OWNERS': 787, 'soooooo': 4072, 'wrap': 4700, 'freaking': 2488, 'papers': 3379, 'cutting': 1952, 'edge': 2199, 'Punishment': 878, 'Park': 831, 'iphone': 2868, 'recharge': 3679, 'iPhone': 2761, '4s': 36, 'connecting': 1825, 'sources': 4086, 'iMac': 2759, 'external': 2331, 'brunch': 1569, 'crêpe': 1937, 'delicate': 1997, 'Using': 1142, 'possesed': 3519, 'Outstanding': 806, 'team': 4292, 'kinda': 2915, 'weird': 4637, 'min': 3149, 'milkshake': 3148, 'chocolate': 1713, 'milk': 3147, 'travled': 4405, 'swivel': 4261, 'holster': 2718, 'Blackberry': 186, 'flip': 2448, 'Interview': 577, 'Vampire': 1155, 'Lestat': 653, 'Stuart': 1035, 'Townsend': 1109, 'Cruise': 301, 'summarize': 4227, 'nay': 3235, 'transcendant': 4395, 'pneumatic': 3492, 'condiment': 1816, 'dispenser': 2095, 'crumby': 1934, 'Oh': 791, 'sublime': 4202, 'explanation': 2323, 'atrocity': 1388, 'decide': 1977, 'blanket': 1500, 'moz': 3204, 'subpar': 4204, 'upload': 4514, 'Jawbone': 599, 'Era': 389, 'attractive': 1397, 'pleasing': 3480, 'gem': 2536, 'Absolutely': 76, 'loads': 3007, 'Cheap': 255, 'hey': 2691, 'pleasantly': 3477, 'suprised': 4241, 'Juano': 612, 'Hernandez': 531, 'supporting': 4238, 'era': 2262, 'murdering': 3214, 'villain': 4561, 'Michael': 721, 'Ironside': 582, 'faultless': 2376, 'underappreciated': 4456, 'Brian': 204, 'Keith': 622, 'bully': 1582, 'Teddy': 1066, 'vivid': 4573, 'excellently': 2288, 'tops': 4371, 'ratings': 3646, 'sci': 3866, 'Won': 1224, 'Con': 280, 'spotty': 4114, 'Try': 1119, 'airport': 1310, 'speedy': 4096, 'absolute': 1249, 'daughters': 1963, 'paint': 3368, 'photograph': 3438, 'answer': 1340, 'suffers': 4220, 'frequentyly': 2492, 'Tools': 1105, 'bipolarity': 1487, 'thug': 4340, 'Luv': 682, 'diaper': 2048, 'commercial': 1782, 'grab': 2580, 'bite': 1493, 'pub': 3597, 'improve': 2791, 'leaks': 2954, 'Things': 1080, 'happen': 2643, 'personalities': 3431, 'twists': 4442, 'occur': 3292, 'Feelings': 426, 'Gabriel': 469, 'intangibles': 2842, 'leap': 2955, 'viewer': 4558, 'grasp': 2586, 'glance': 2556, 'school': 3864, 'pile': 3450, 'armband': 1364, 'velvet': 4544, 'cake': 1600, 'ohhh': 3301, 'lose': 3024, 'Estevez': 392, 'debut': 1973, 'development': 2040, 'suggest': 4223, 'sounds': 4081, 'sketchy': 4014, 'technology': 4297, 'employee': 2232, 'adapters': 1283, 'Speaking': 1011, 'unbearably': 4451, 'kitchy': 2917, '95': 53, 'theatres': 4317, 'receiving': 3674, 'respect': 3749, 'outlandish': 3330, 'psychotic': 3596, 'lovable': 3035, 'charisma': 1677, 'Songs': 997, 'Muppets': 740, 'Hilarious': 535, 'Kabuki': 618, 'unhappy': 4478, 'crowds': 1932, 'downtown': 2133, 'juries': 2898, 'lawyers': 2950, 'BARGAIN': 138, 'schoolers': 3865, 'whine': 4643, 'cocktails': 1753, 'handmade': 2635, 'simpler': 3995, 'Finally': 431, 'spring': 4115, 'latch': 2940, 'visor': 4569, 'jalapeno': 2877, 'classics': 1731, 'sorely': 4075, 'im': 2775, 'Who': 1213, 'Painful': 826, 'dual': 2168, 'Ticker': 1092, 'routine': 3809, 'based': 1444, 'Cole': 273, 'hankering': 2641, 'Mirrormask': 724, 'unsatisfactory': 4506, 'AWFUL': 70, 'sort': 4077, 'question': 3625, 'threshold': 4334, 'satisfying': 3844, 'Sorry': 1001, 'ribeye': 3774, 'mesquite': 3135, 'accessing': 1258, 'downloading': 2129, 'performing': 3423, 'functions': 2514, 'products': 3570, 'sensor': 3912, 'sporting': 4111, 'walls': 4592, 'covered': 1891, 'scallop': 3855, 'V265': 1145, 'dying': 2179, 'Artless': 123, 'endlessly': 2239, 'ugliest': 4446, 'Damian': 315, 'versatile': 4550, 'Waiting': 1188, 'recieve': 3680, 'clicks': 1740, 'mechanism': 3111, 'Forgeries': 445, 'Abound': 74, 'mins': 3154, 'Small': 989, 'setup': 3936, 'ample': 1330, 'storage': 4163, 'government': 2579, 'scientist': 3868, 'argued': 1363, 'humanity': 2745, 'reasons': 3666, 'trippy': 4420, 'Worth': 1231, 'penny': 3413, 'securly': 3896, 'painful': 3366, 'wired': 4662, 'arts': 1374, 'Dissapointing': 341, 'chai': 1658, 'latte': 2945, 'Turkey': 1123, 'Straw': 1031, 'cruel': 1933, 'apparently': 1349, 'salt': 3833, 'Back': 155, 'BBQ': 139, 'lighter': 2980, 'Echo': 374, 'Lasted': 646, 'Walkman': 1190, 'pissd': 3453, 'allergy': 1316, 'warnings': 4602, 'clue': 1750, 'contain': 1842, 'peanuts': 3404, 'Ben': 176, 'Affleck': 84, 'Sandra': 950, 'Bullock': 209, 'leaving': 2960, 'knocked': 2921, 'Nargile': 755, 'convoluted': 1866, 'convince': 1864, 'questioning': 3626, 'EVERYONE': 363, 'BE': 140, 'FOOLED': 411, 'USELESS': 1131, 'Bar': 158, 'Edinburgh': 377, 'revisiting': 3771, 'actress': 1278, 'repeating': 3733, 'robotic': 3793, 'moves': 3200, 'keypads': 2907, 'tinny': 4351, 'reach': 3650, 'cheapy': 1686, 'sunglasses': 4230, 'Hell': 525, 'Gold': 483, 'Standard': 1016, 'ceases': 1645, 'alert': 1314, 'decipher': 1979, 'meanings': 3106, '2005': 21, 'S710a': 922, 'WOW': 1184, 'vomited': 4581, 'accessory': 1259, 'manufacturer': 3077, 'surprise': 4245, 'Denny': 328, 'Initially': 572, 'local': 3008, 'sites': 4008, 'filmed': 2406, 'Buffalo': 207, 'intrigued': 2861, 'picked': 3444, 'speed': 4095, 'specs': 4094, 'handed': 2630, 'listed': 2995, 'connoisseur': 1828, 'difference': 2053, 'bluetooths': 1512, 'listener': 2996, 'tolerance': 4362, 'polite': 3502, 'wash': 4606, 'factor': 2344, 'campy': 1610, 'dream': 2144, 'eggs': 2213, 'gooodd': 2573, 'shameful': 3944, 'gyro': 2620, 'lettuce': 2971, 'readers': 3653, 'Miyazaki': 726, 'worthwhile': 4694, 'summer': 4229, 'outdoor': 3328, 'colleague': 1759, 'disgraceful': 2087, 'From': 458, 'Widmark': 1215, 'unintentionally': 4482, 'comical': 1776, 'stir': 4154, 'fried': 2494, 'noodles': 3266, 'bottowm': 1537, 'gimmick': 2548, 'steep': 4145, 'Experience': 406, 'evinced': 2281, 'faithful': 2351, 'Joyce': 611, 'acclaimed': 1261, 'novella': 3275, 'Stewart': 1025, 'hero': 2687, 'rips': 3786, 'climax': 1742, 'embassy': 2225, 'brooding': 1563, 'menace': 3127, 'traditional': 4388, 'Hunan': 551, 'Performed': 840, 'muffled': 3209, 'incoming': 2801, 'severe': 3938, 'echo': 2197, 'proven': 3589, 'heat': 2672, 'exchanged': 2295, 'Recommend': 900, 'confidence': 1817, 'rolled': 3800, 'CG': 222, 'opening': 3308, 'sequence': 3918, 'Slideshow': 988, 'God': 482, 'sake': 3827, 'Have': 516, '2007': 22, 'cashew': 1634, 'undercooked': 4458, 'Design': 329, 'Flaw': 437, 'dressed': 2149, 'rudely': 3814, 'Choice': 262, 'PURCHASE': 824, 'warranty': 4603, 'reoccure': 3730, 'Bottom': 198, 'Iam': 562, 'ticking': 4343, 'noises': 3261, 'drop': 2162, 'stops': 4162, 'intermittently': 2856, 'Last': 645, 'Nevertheless': 761, 'master': 3091, 'stable': 4118, 'Matrix': 711, 'sequels': 3917, 'mindblowing': 3151, 'RI': 888, 'calamari': 1601, 'warn': 4601, 'RENT': 886, 'MOVIE': 688, 'dumbest': 2174, 'Damn': 316, 'scare': 3857, 'Point': 861, 'finger': 2417, 'resistant': 3746, 'Because': 168, 'occupied': 3291, 'distracting': 2103, 'wondered': 4674, 'shortlist': 3969, 'pap': 3377, 'screened': 3874, 'afternoon': 1302, 'punish': 3606, 'unemployed': 4471, 'jobs': 2886, 'Weird': 1204, 'Top': 1106, 'Tigerlilly': 1094, 'Ray': 894, 'Charles': 253, 'legendary': 2964, 'biographical': 1486, 'musician': 3218, 'Ironically': 579, 'Secondly': 965, 'perfected': 3417, 'chase': 1681, 'pandering': 3376, 'sabotages': 3821, 'Hence': 528, 'rumbles': 3815, 'desperately': 2026, 'depending': 2008, 'logic': 3013, 'chilly': 1709, 'unremarkable': 4504, 'author': 1402, 'abstruse': 1252, 'reenactments': 3689, 'emotionally': 2229, 'adrift': 1294, 'stagy': 4122, 'sits': 4009, 'soldiers': 4057, 'masculinity': 3089, 'pledge': 3483, 'hairsplitting': 2624, 'purity': 3614, 'admiration': 1291, 'swords': 4262, 'kill': 2911, 'momentum': 3177, 'quicker': 3628, 'resume': 3760, 'amateurish': 1322, '80s': 47, 'fascinated': 2370, 'contained': 1843, 'inconsistencies': 2803, 'frankly': 2487, 'horrid': 2731, 'realistic': 3658, 'ballet': 1432, 'repertory': 3735, 'developments': 2041, 'Woa': 1223, 'sappiest': 3840, 'unwatchable': 4510, 'filmography': 2408, 'site': 4007, 'chance': 1661, 'intentions': 2849, 'undertone': 4466, 'fifties': 2399, 'existential': 2307, 'weariness': 4626, 'ought': 3327, 'senses': 3908, 'Regrettably': 904, 'expression': 2325, 'celebration': 1646, 'patriotism': 3396, 'underlines': 4459, 'Allison': 93, 'Yet': 1239, 'soundtrack': 4082, 'concert': 1812, 'sequences': 3919, 'ridiculousness': 3778, 'SPOILERS': 934, 'SURFACE': 941, 'stunning': 4189, 'fx': 2519, 'state': 4133, 'Conceptually': 281, 'everybody': 2278, 'fantasy': 2366, 'sour': 4084, 'considered': 1831, 'Thanks': 1072, 'mexican': 3141, 'understood': 4465, 'identified': 2768, 'noir': 3259, 'crime': 1923, 'Belmondo': 175, 'Lino': 661, 'Ventura': 1159, 'psychological': 3595, 'portrayals': 3515, 'detailing': 2036, 'loyalty': 3046, 'treachery': 4406, 'Melville': 717, 'soul': 4078, 'BLACK': 144, 'WATER': 1170, 'manages': 3075, 'transcend': 4394, 'limitations': 2989, 'indie': 2811, 'continually': 1846, 'subverting': 4209, 'emerge': 2227, 'intense': 2848, 'gripping': 2603, 'crocdodile': 1927, 'Water': 1197, 'believed': 1472, 'crocs': 1928, 'swamp': 4256, 'Christopher': 265, 'Eccleston': 373, 'TARDIS': 1045, 'continuation': 1847, 'succeeded': 4210, 'Again': 87, 'pi': 3442, 'ed': 2198, 'camerawork': 1608, 'Summary': 1037, 'witticisms': 4668, 'Billy': 184, 'Bob': 193, 'rise': 3787, 'Camerawork': 233, 'AMAZING': 61, 'finale': 2411, 'trilogy': 4418, 'Kieslowski': 625, 'amaze': 1323, 'directors': 2070, 'colours': 1766, 'flag': 2429, 'Three': 1088, 'visually': 4571, 'connections': 1827, 'SPOILER': 933, 'survivors': 4252, 'ferry': 2396, 'Valentine': 1153, 'young': 4717, 'solidifying': 4061, 'happiness': 2647, 'dealt': 1970, 'roth': 3806, 'pearls': 3405, 'awarded': 1411, 'eloquently': 2220, 'Francis': 448, 'ford': 2473, 'Coppola': 288, 'gradually': 2582, 'develop': 2039, 'lies': 2976, 'contrast': 1851, 'Nicola': 765, 'roeg': 3797, 'wih': 4651, 'translating': 4400, 'strives': 4177, 'greatness': 2595, 'poetry': 3495, 'muddled': 3207, 'disparate': 2094, 'accurately': 1266, 'defined': 1992, 'fav': 2378, 'Trumbull': 1117, 'LUCY': 639, 'Owner': 810, 'designed': 2022, 'upbeat': 4512, 'IQ': 558, 'mollusk': 3173, 'usage': 4521, 'treo': 4413, 'snug': 4051, 'LOT': 636, 'SEE': 926, 'Appears': 115, 'outperform': 3333, 'China': 258, 'V325i': 1146, 'overacting': 3340, 'underacting': 4455, 'Burrittos': 212, 'Blah': 187, 'Earbud': 368, 'noteworthy': 3272, 'views': 4560, 'Barcelona': 159, 'famed': 2358, 'Gaudi': 472, 'towers': 4381, 'excessively': 2293, 'phony': 3437, 'contrived': 1854, 'wont': 4677, 'transfers': 4397, 'realize': 3660, 'douchey': 2125, 'garden': 2529, 'peaking': 3402, 'Columbo': 274, 'PS3': 823, 'wines': 4658, 'rice': 3775, 'choked': 1716, 'chains': 1659, 'inspired': 2833, 'Kris': 630, 'Kristoffersen': 631, 'Shirley': 978, 'Jones': 610, 'rendition': 3727, 'Way': 1200, 'mega': 3115, 'pixel': 3456, 'good7': 2572, 'sony': 4068, 'ericson': 2264, 'z500a': 4725, 'PS': 822, 'shiny': 3958, 'late': 2942, 'May': 713, 'bank': 1435, 'holiday': 2716, 'Rick': 910, 'Defective': 324, 'slowly': 4033, 'Check': 256, 'prettier': 3545, 'absolutley': 1251, 'spaghetti': 4089, 'Firehouse': 433, 'Calls': 231, 'perpared': 3427, 'giant': 2547, 'slices': 4022, 'Toast': 1097, 'dusted': 2177, 'powdered': 3527, 'sugar': 4221, 'Att': 127, 'yell': 4713, 'Rickman': 911, 'Stowe': 1030, 'hilt': 2702, 'childrens': 1707, 'subversive': 4208, 'tract': 4387, 'comparably': 1789, 'offering': 3297, 'Pricing': 869, 'concern': 1809, 'Mellow': 716, 'Mushroom': 741, 'painfully': 3367, 'dreary': 2147, 'waster': 4612, 'sibling': 3980, 'bond': 1519, 'mac': 3052, 'convention': 1859, 'UNfunny': 1127, 'unrealistic': 4501, 'utter': 4531, '70000': 43, 'BT250v': 149, 'comfort': 1772, 'Soyo': 1009, 'smartphone': 4040, 'IMDB': 554, 'listening': 2997, 'cingular': 1724, '8125': 48, 'croutons': 1930, 'overdue': 3342, 'Tale': 1062, 'Two': 1124, 'Sisters': 985, 'hopeless': 2726, 'hat': 2652, 'theft': 4318, 'smudged': 4049, 'patty': 3398, 'uploaded': 4515, 'investment': 2864, 'ultra': 4448, 'Strip': 1034, 'Comes': 276, 'flash': 2432, 'SOS': 931, 'signals': 3986, 'Garbo': 471, 'bat': 1448, 'talents': 4276, 'Netflix': 759, 'stocking': 4155, 'plethora': 3485, 'salads': 3829, 'sandwiches': 3839, 'seal': 3882, 'approval': 1359, 'promote': 3578, 'duet': 2171, 'astronaut': 1384, 'doctor': 2109, 'considers': 1833, 'Cold': 272, 'War': 1192, 'USSR': 1132, 'WORST': 1182, 'EXPERIENCE': 364, 'Car': 241, 'AC': 55, 'Highy': 534, 'Lastly': 647, 'mozzarella': 3205, 'national': 3228, 'treasure': 4407, 'improvement': 2793, 'andddd': 1331, 'date': 1961, 'terribly': 4310, 'pleasure': 3481, 'neighborhood': 3246, 'unusable': 4509, 'cow': 1893, 'tongue': 4367, 'cheek': 1691, 'Research': 906, 'Development': 332, 'division': 2107, 'knows': 2924, 'piano': 3443, 'forgot': 2479, 'Casting': 250, 'Trond': 1114, 'Fausa': 423, 'Aurvåg': 130, 'Bothersome': 197, 'Carly': 243, 'downside': 2132, 'barking': 1439, 'mad': 3054, 'Taylor': 1065, 'Mandalay': 701, 'mail': 3057, 'backlight': 1422, 'message': 3137, 'negligent': 3245, 'unwelcome': 4511, 'relate': 3705, 'delivery': 2007, 'BlueAnt': 191, 'Supertooth': 1041, 'AWESOME': 69, 'saving': 3849, 'Kindle': 627, 'excerpts': 2291, 'swung': 4263, 'Buttons': 215, 'success': 4212, 'depends': 2009, 'Sydney': 1044, 'Greenstreet': 493, 'Yardley': 1235, 'Crisp': 299, 'buyers': 1594, 'remorse': 3722, 'smeared': 4041, 'stepped': 4147, 'tracked': 4385, 'bird': 1488, 'poop': 3505, 'Lot': 671, 'emperor': 2231, 'spend': 4097, 'childhood': 1705, 'gosh': 2576, 'renowned': 3728, 'Frances': 447, 'Marion': 705}\n",
      "Vocabulary words:  dict_keys(['Were', 'JERKS', 'phone', 'Great', 'time', 'family', 'dinner', 'Sunday', 'night', 'Very', 'disappointing', 'place', 'eat', 'reminds', 'little', 'mom', 'pop', 'shops', 'San', 'Francisco', 'Bay', 'Area', 'How', 'piece', 'trash', 'released', 'acting', 'story', 'characters', 'supposedly', 'special', 'effects', 'ALL', 'wrong', 'movie', 'makes', 'lot', 'mistakes', 'The', 'bathroom', 'just', 'door', 'nice', 'food', 'wasn', 'good', 'websites', 'rating', 'handsfree', 'works', 'fine', 'car', 'tries', 'download', 'address', 'book', 'Treo', 'reboots', 'Overall', 'rate', 'device', 'high', 'It', 'pretty', 'surprising', 'wonderful', 'film', '1949', 'Hollywood', 'generally', 'collective', 'heads', 'sand', 'concerning', 'black', 'white', 'issues', 'suspense', 'feeling', 'frustration', 'retarded', 'girls', 'really', 'liked', 'Give', 'try', 'happy', 'did', 'Before', 'gave', 'star', 'know', 'eating', 'Bachi', 'burger', 'writing', 'review', 'If', 'like', 'loud', 'buzzing', 'override', 'conversations', 'My', 'friend', 'loved', 'salmon', 'tartar', 'Tom', 'Wilkinson', 'broke', 'heart', 'end', 'judging', 'fumbling', 'hankies', 'hands', 'going', 'faces', 'males', 'females', 'alike', 'eargels', 'channel', 'sound', 'directly', 'ear', 'increase', 'volume', 'clarity', 'experience', 'underwhelming', 'think', 'll', 'Ninja', 'Sushi', 'See', 'We', 've', 'tried', '10', 'times', 'Unfortunately', 'virtue', 'production', 'work', 'lost', 'regrettable', 'script', 'chicken', 'deliciously', 'seasoned', 'perfect', 'fry', 'outside', 'moist', 'inside', 'lunch', 'spot', 'That', 'said', 'camera', 'cool', 'play', 'video', 'decent', 'Their', 'screen', 'chemistry', 'critical', 'entire', 'genuine', 'guess', 'details', 'dysfunction', 'believable', 'Bad', 'Quality', 'Good', 'Service', 'check', 'drain', 'weak', 'snap', 'You', 'need', 'operate', 'This', 'software', 'interface', 'decade', 'old', 'compete', 'new', 'designs', 'stupid', 'buying', 'chargers', 'cradles', 'headphones', 'kits', 'comes', 'Frozen', 'pucks', 'disgust', 'worst', 'people', 'register', 'Ursula', 'Burton', 'portrayal', 'nun', 'touching', 'funny', 'making', 'fun', 'nuns', 'church', 'watched', 'recently', 'Fox', 'Movie', 'Channel', 'disappointed', 'Save', 'money', 'item', '11', 'months', 'tough', 'short', 'flavor', 'PIECE', 'OF', 'JUNK', 'THAT', 'BROKE', 'AFTER', 'BEING', 'ON', 'MY', 'PHONE', 'FOR', 'DAYS', 'What', 'SHOULD', 'hilarious', 'yummy', 'Christmas', 'Eve', 'remember', 'biggest', 'fail', 'trip', 'Battery', 'life', 'long', 'Motorola', 'Razor', 'V3i', 'Easily', 'cartoon', 'laugh', 'tender', 'way', 'getting', 'dark', 'sitcoms', 'oriented', 'teenagers', 'He', 'came', 'regularly', 'excellent', 'service', 'Eew', 'location', 'needs', 'complete', 'overhaul', 'Del', 'Taco', 'nasty', 'avoided', 'possible', 'Always', 'great', 'Dos', 'Gringos', 'poor', 'batter', 'meat', 'ratio', 'tenders', 'unsatisfying', 'Freezes', 'frequently4', 'possibly', 'creative', 'horror', 'wanted', 'Plantronics', '510', 'right', 'There', 'bad', 'say', 'headset', 'glad', 'worked', 'use', 'cheap', 'cheerless', 'heist', 'characterisation', 'lots', 'underbite', 'style', 'stoic', 'emoting', 'Chow', 'Yun', 'Fat', 'Better', 'Tomorrow', 'cheesy', 'clichés', 'thrown', 'abandoned', 'factory', 'ready', 'poorly', 'executed', 'flying', 'judo', 'rolls', 'la', 'John', 'Woo', 'DO', 'NOT', 'BUY', 'BUYIT', 'SUCKS', 'Returned', 'hours', 'later', 'absolutely', 'horrible', 'reception', 'apartment', 'phones', 'problem', 'Phone', 'Lordy', 'Khao', 'Soi', 'dish', 'missed', 'curry', 'lovers', 'isn', 'small', 'restaurant', 'dining', 'establishment', 'Having', 'trouble', 'An', 'Awesome', 'New', 'Look', 'For', 'Fall', '2000', 'Disappointment', 'hate', 'goes', 'price', 'gone', 'mortified', 'Beware', 'trashy', 'cult', 'period', 'things', 'quality', 'olives', 'impressed', 'concept', 'charger', 'arrived', 'promised', 'timeframe', 'Ample', 'portions', 'prices', 'But', 'thought', 'skilled', 'girlfriend', 'veal', 'Spend', 'Though', 'Wind', 'Lion', 'told', 'largely', 'eyes', 'son', 'member', 'identify', 'Sean', 'Connery', 'noble', 'brigand', 'Candace', 'Bergen', 'feisty', 'heroine', 'Huston', 'wily', 'Hay', 'Steve', 'Kanaly', 'spiffy', 'radiant', 'ruthless', 'lieutenant', 'Roosevelt', 'Big', 'Stick', 'Best', 'rotating', 'feature', 'helpful', 'tell', 'slow', 'seating', 'reservation', 'Jim', 'Connor', 'energetic', 'George', 'dull', 'garbage', 'Works', 'amazed', 'quick', 'arrival', 'original', 'lg', 'cell', 'batteries', 'fraction', 'They', 'forever', 'overly', 'expensive', 'replace', 'Easy', 'better', 'DELETE', 'mind', 'lighting', 'awful', 'poignant', 'Maybe', 'Vegetarian', 'fare', 'twice', 'average', 'best', 'Special', 'mention', 'superb', 'music', 'score', 'integral', 'element', 'helping', 'make', 'memorable', 'enjoyable', 'come', 'WAAAAAAyyyyyyyyyy', 'rated', 'saying', 'As', 'courtroom', 'drama', 'compelling', 'indictment', 'American', 'justice', 'frightening', 'Terrible', 'product', 'waste', 'weeks', 'break', 'blew', 'budget', 'evidently', 'limited', 'staff', 'delish', 'incredible', 'beer', 'selection', 'And', 'tones', 'acceptable', 'involved', 'knew', 'string', 'narrative', 'By', 'ended', 'disliked', 'despised', 'asked', 'leave', 'didn', 'bring', 'Everything', 'infatuated', 'real', 'killer', 'course', 'breaking', 'overpriced', 'mediocre', 'inflate', 'smaller', 'management', 'attitudes', 'grow', 'rapidly', 'usable', 'keyboard', 'actually', 'turns', 'PDA', 'world', 'useful', 'machine', 'instead', 'neat', 'gadget', 'friendly', 'wait', 'served', 'says', 'hi', 'minutes', 'walked', 'faster', 'Meredith', 'Plus', 'bucks', 'Worst', 'customer', 'potato', 'chip', 'order', 'sad', 'probably', 'count', 'chips', 'box', '12', 'Nothing', 'magnificent', 'photography', 'cinematography', 'wild', 'stuff', 'highly', 'recommended', 'fans', 'giallo', 'cinema', 'Google', 'imagine', 'Smashburger', 'On', 'positive', 'note', 'server', 'attentive', 'provided', 'series', 'sexy', 'party', 'mouth', 'outrageously', 'flirting', 'hottest', 'person', 'scale', 'hardly', 'decided', 'send', 'waitress', 'looked', 'verge', 'having', 'attack', 'Lately', 'extremely', 'deal', 'file', 'browser', 'offers', 'options', 'Handsfree', 'enjoyed', 'mouthful', 'relaxed', 'venue', 'couples', 'groups', 'baby', 'owls', 'adorable', 'Took', 'hour', 'tables', 'Luke', 'warm', 'Our', 'sever', 'running', 'totally', 'overwhelmed', 'No', 'complaints', 'Anyways', 'definitely', 'filling', 'pay', 'expect', 'Much', 'jawbone', 'bluetooth', 'Excellent', 'pulled', 'pork', 'soooo', 'delicious', 'standout', 'scene', 'sashimi', 'wish', 'enter', 'negative', 'values', 'admins', 'complained', 'microphone', 'charge', 'quite', 'However', 'BT', 'headsets', 'currently', 'games', 'shooters', 'audio', 'delay', 'messes', 'After', 'trying', 'gadgets', 'finally', 'rare', 'maker', 'takes', 'worthy', 'moral', 'tale', 'care', 'love', 'doesn', 'fall', 'trap', 'syrupy', 'indulgent', 'super', '30', 'drink', 'longer', 'arepas', 'latest', 'OS', 'v1', '15g', 'likes', 'crawl', 'lock', 'thing', 'perfectly', 'Pretty', 'junk', 'thorn', 'abhor', 'Some', 'buffet', 'pricey', 'Food', 'boring', 'problems', 'stay', 'connected', 'disconnected', 'believe', 'South', 'Africa', 'understand', 'past', 'attempted', 'Truth', 'Reconciliation', 'process', 'biscuits', 'group', '70', 'claimed', '40', 'handled', 'beautifully', 'eyed', 'peas', 'sweet', 'potatoes', 'UNREAL', 'Improper', 'description', 'return', 'NOTHING', 'motion', 'needlessly', 'repeats', 'backed', 'kind', 'word', 'continuity', 'scenes', 'reason', 'whatsoever', 'vehicles', 'Corn', 'Flakes', 'directorial', 'bordered', 'stupidity', 'remake', 'Friends', 'Wedding', 'Definitely', 'turn', 'doubt', 'unless', 'bacon', 'wrapped', 'dates', 'results', 'stuck', 'max', 'mute', 'plot', 'holds', 'attention', 'fantastic', 'Emily', 'Watson', 'actors', 'ugly', 'crafted', 'Paul', 'Haggis', 'handle', 'bold', 'strokes', 'storytelling', 'picture', 'painted', 'crayons', 'nokia', 'CA', '42', 'USB', 'cable', 'Probably', 'coming', 'wouldn', 'recommend', 'Boy', 'sucker', 'dry', 'mistake', 'convenient', 'simple', 'gets', 'job', 'ride', 'smoother', 'table', 'fast', 'Not', 'seafood', 'strings', 'pasta', 'Here', 'rendering', 'America', 'Imperial', 'age', 'winner', 'attached', 'gas', 'station', 'rarely', 'sign', 'staying', 'MGM', 'audience', 'applauded', 'conclusion', 'Vegas', 'steakhouse', 'properly', 'cook', 'steak', 'don', 'cables', 'computer', 'iPod', 'half', 'One', 'aspects', 'lack', 'notable', 'gore', 'disagree', 'fellow', 'Yelpers', 'husband', 'Waste', 'remotely', 'Main', 'enjoy', 'crowd', 'older', 'mid', '30s', 'AGGRAVATING', 'sals', 'amazing', 'reasonable', 'certainly', 'engineered', 'clever', 'construction', 'feels', 'revealing', 'electronics', 'available', 'FM', 'Transmitters', 'littered', 'overt', 'racial', 'slurs', 'cast', 'members', 'whites', 'depicted', 'morons', 'boobs', 'different', 'earpieces', 'Jabra', 'fits', 'comfortably', 'Anyway', 'FS', 'breakfast', 'barely', 'hear', 'constantly', 'Scream', 'movies', 'ranks', 'Each', 'day', 'week', 'Just', 'consider', 'solid', 'look', 'added', 'bonuses', 'rge', 'fillet', 'relleno', 'plate', 'Reversible', 'plug', 'Her', 'role', 'played', 'looks', 'flimsy', 'scary', 'Nice', 'design', 'errors', 'user', 'commented', 'cars', 'garage', 'Joe', 'glasses', 'got', 'fact', 'facial', 'hair', 'configuration', 'change', 'Your', 'spends', 'talking', 'Which', 'precisely', 'giving', 'Poor', 'Construction', 'terrific', 'scenery', 'Bland', 'flavorless', 'describing', 'tepid', 'iGo', 'brand', 'mp3', 'players', 'tragedy', 'struck', 'Delicious', 'NYC', 'bagels', 'selections', 'cream', 'cheese', 'Lox', 'capers', 'Horrible', 'worth', 'let', 'Sending', 'FLY', 'apple', 'juice', 'using', 'iriver', 'SPINN', 'case', 'ambiance', 'second', 'sucked', 'expected', 'imagined', 'essentially', 'communications', 'tool', 'does', 'communicate', 'big', 'drawback', 'MP3', 'player', 'buttons', 'cover', 'pause', 'skip', 'songs', 'seconds', 'Now', 'pizza', 'peanut', 'sauce', 'tasty', 'Reliability', 'speaker', 'low', 'ring', 'huge', 'military', 'discount', 'AYCE', 'sushi', 'went', 'dit', 'Nokia', '5320', 'watch', 'consolations', 'actresses', 'playing', 'Anne', 'sisters', 'roles', 'biscuit', 'battery', 'completely', 'useless', 'Strike', 'wants', 'rushed', 'notch', 'exactly', 'latched', 'endearing', 'memories', 'Instead', 'bore', 'fest', 'whiny', 'spoiled', 'brat', 'babysitting', 'Cinematography', 'shot', 'interesting', 'setting', 'protector', 'started', 'auto', 'reverse', 'tape', 'ate', 'visit', 'especially', 'salad', 'REAL', 'honest', 'Yama', 'All', 'Ha', 'Long', 'bit', 'flop', 'fresh', 'generous', 'portion', 'priced', 'prime', 'rib', 'dessert', 'section', 'decision', 'want', 'death', 'decay', 'Shakespears', 'lyrics', 'choice', 'years', 'noise', 'cancellation', 'Krussel', 'Although', 'actual', 'performance', 'plays', 'Angela', 'Bennett', 'expert', 'home', 'Lame', 'Razr', 'buy', 'stories', 'unbelievable', 'showed', 'Florida', 'appealing', 'Julian', 'Fellowes', 'triumphed', 'These', 'fabulous', 'lover', 'avoid', 'means', 'Incredible', 'beef', 'cooked', 'fulfills', 'requirements', 'purchase', 'highlights', 'fundamental', 'flaws', 'legal', 'discovering', 'guilt', 'innocence', 'presents', 'court', 'Both', 'truly', 'particular', 'character', 'delivering', 'convincing', 'pair', 'wise', 'Really', 'Body', 'Soul', '1947', 'masterpiece', 'eaten', 'multiple', 'Gave', 'crust', 'teeth', 'sore', 'pushed', 'hard', 'number', 'function', 'mother', 'brother', 'When', 'saw', 'Robert', 'Ryan', 'portraying', 'type', 'man', 'imitation', 'individual', 'lukewarm', 'sitting', 'waiting', 'correct', 'desserts', 'strange', 'Sprint', 'charges', 'guy', 'dialogue', 'potted', 'plants', 'incredibly', 'fish', 'prepared', 'Please', 'dont', 'Audio', 'Kind', 'mess', 'self', 'portraits', 'exterior', 'display', 'shame', 'Thomerson', 'James', 'living', 'None', 'sizes', 'sent', 'ears', 'won', 'spoilers', 'Director', 'Matthews', 'wrote', 'directed', '1995', 'monster', 'Grim', 'clearly', 'pace', 'films', 'town', 'hit', 'run', 'bars', 'days', 'charging', 'Don', 'watching', 'rubbish', 'non', 'researched', 'pancake', 'large', 'colors', 'About', 'thoughts', 'working', 'replacement', 'ago', 'cutouts', 'placed', 'chosen', 'tortured', 'disgusting', 'blatant', 'propaganda', 'burgers', 'aren', 'used', 'doughy', 'allot', 'clearer', 'mic', 'atmosphere', 'purchasing', 'JX', 'flawlessly', 'Moto', 'figure', 'spicy', 'lacked', 'menu', 'agreed', 'Obviously', 'terrible', 'Lassie', 'sleep', 'FOREVER', 'quickly', 'instruction', 'manual', 'lacking', 'charm', 'advertised', 'plastic', 'protection', 'sorry', 'bowl', 'Pho', 'supposed', 'popcorn', 'comedy', 'mean', 'insult', 'intelligence', 'hackneyed', 'borders', 'offensive', 'calls', 'certain', 'places', 'Lewis', 'Black', 'considerable', 'talent', 'wasted', 'incendiary', 'unrestrained', 'PG', '13', 'allow', 'Drinks', 'took', 'close', 'point', 'Has', 'Piece', 'Junk', 'ergonomic', 'theory', 'stand', 'year', '2160', 'Tracfone', 'dropped', 'ball', 'Thus', 'far', 'visited', 'driving', 'usually', 'loudest', 'THERE', 'IS', 'NO', 'PLOT', 'OR', 'STORYLINE', 'sides', 'wine', 'plugged', 'darn', 'sister', 'loves', 'thumbs', 'seller', 'downright', 'Verizon', 'cingulair', 'nicer', 'noticed', 'sets', 'Thunderbirds', 'episode', 'couple', 'returned', 'meal', 'disappointment', 'waiter', 'insulted', 'Same', 'mentioned', 'dealing', 'annoying', 'drunk', 'returning', 'Its', 'total', 'package', 'Simple', 'lightweight', 'fit', 'promptly', 'greeted', 'seated', 'Needless', 'Full', 'unconvincing', 'cardboard', 'blandly', 'written', 'Edward', 'Chodorov', 'produced', 'surprisingly', 'Jean', 'Negulesco', 'gotten', 'compliments', 'Another', 'appearance', 'bland', 'model', 'At', 'proceedings', 'Pros', 'pictures', 'styles', 'exemplars', 'set', 'designer', 'Dessert', 'Panna', 'Cotta', 'Could', 'strong', 'signal', 'changing', 'Of', 'footage', '70s', 'grainy', 'enhanced', 'pathetic', 'attempts', 'depth', 'rest', 'compromise', 'QWERTY', 'basic', 'keypad', 'reheated', 'ok', 'wedges', 'cold', 'soggy', 'pure', 'disaster', 'editing', 'seen', 'confuses', 'waited', 'vain', 'Do', 'flawed', 'hole', 'wall', 'Mexican', 'street', 'tacos', 'happened', 'tracking', 'Americans', 'hatred', 'admitted', 'Linked', 'effort', 'Non', 'linear', 'narration', 'flashbacks', 'articulated', 'trust', 'website', 'support', 'range', 'able', 'roam', 'house', 'room', 'Those', 'beautiful', 'uplifting', 'Highly', 'unprofessional', 'rude', 'loyal', 'patron', 'sergeant', 'pepper', 'sandwich', 'auju', 'decor', 'Chinese', 'calligraphy', 'paper', 'stars', 'Even', 'BMW', 'fairly', 'quiet', 'hearing', 'lines', 'cuts', 'worse', 'encourage', 'louder', 'size', 'charismatic', 'actor', 'bose', 'cancelling', 'important', 'commuter', 'natural', 'Pizza', 'Salads', 'tuna', 'brownish', 'color', 'obviously', 'Phoenix', 'definately', 'Ordered', 'appetizer', 'main', 'mesmerising', 'H500', 'Arrived', 'sold', 'switch', 'Waitress', 'preparing', 'VERY', 'operates', 'network', 'tasteless', 'mouths', 'bellies', 'pleased', 'flavourful', 'pleather', 'directing', 'Sanyo', 'survived', 'dozens', 'drops', 'blacktop', 'ill', 'effect', 'classic', 'viewing', 'sharing', 'nearly', 'charged', 'hybrid', 'palmtop', 'cellphone', 'excels', 'Every', 'caring', 'teamwork', 'professional', 'degree', 'Tonight', 'Elk', 'Filet', 'seeing', 'ending', 'SO', 'shed', 'tear', 'thrilled', 'forget', 'CLASSIC', 'underneath', 'Malta', 'settings', 'barren', 'hockey', 'defensemen', 'goalies', 'diving', 'shots', 'feet', 'wide', 'net', 'haven', 'To', 'ridiculous', 'Started', 'In', 'relationship', 'bakery', 'assistant', 'superficial', 'stagey', 'storyline', 'stage', 'farce', 'pyromaniac', 'waylaid', 'bored', 'switched', 'Glad', 'Didn', 'smile', 'yawn', 'educational', 'children', 'Barney', 'DE', 'duper', 'Babie', 'Bop', 'cute', 'kids', 'Storm', 'Trooper', 'list', 'wonderfully', 'runs', 'Come', 'hungry', 'stuffed', 'followed', 'directions', 'idyllic', 'ups', 'downs', 'lives', 'strawberry', 'tea', 'acted', 'TV', 'Cute', 'quaint', 'Wow', 'Lousy', 'WARNING', 'Yeah', 'drag', 'clip', 'causing', 'discomfort', 'example', 'idea', 'greasy', 'unhealthy', 'journey', 'touches', 'serivce', 'shows', 'Surefire', 'GX2', 'humor', 'pitiful', 'dosen', 'bear', 'thinking', 'basically', 'involves', 'Vulcan', 'stealing', 'Enterprise', 'god', 'seriously', 'oh', 'Uhura', 'belly', 'dance', 'distract', 'male', 'guards', 'handy', 'features', 'garlic', 'fondue', 'edible', 'Then', 'debated', 'sack', 'trumpeter', 'falsely', 'accused', 'murder', 'despite', 'exceptional', 'additional', 'costs', 'owning', 'official', 'OEM', 'steve', 'martin', 'delivers', 'middle', 'aged', 'upper', 'class', 'uptight', 'thanks', 'Dylan', 'recommendation', 'tummy', 'Hands', 'Free', 'Device', 'crashed', 'replaced', 'Mark', 'words', 'Evil', 'Dead', 'Phantasm', 'falling', '20', 'line', 'instructions', 'explain', 'jack', 'crisp', 'received', 'sending', 'Whatever', 'producer', 'entirely', 'Overpriced', 'witty', 'delightful', 'adaptation', 'Dr', 'Seuss', 'brilliantly', 'animated', 'UPA', 'finest', 'thoroughly', 'deserving', 'Academy', 'Award', 'opens', 'connection', 'broken', 'turned', 'BEST', 'cheesecurds', 'kept', 'bloddy', 'mary', 'soon', 'hypocrisy', 'vomit', 'Any', 'tone', 'regret', 'So', 'restart', 'talk', 'hated', 'failed', 'convey', 'broad', 'sweep', 'landscapes', 'fixes', 'constructed', 'menus', 'difficult', 'navigate', 'recessed', 'push', 'round', 'awesome', 'presentation', 'act', 'gonna', 'drift', 'away', 'earth', 'continue', 'pairing', 'periodically', 'dropping', 'hosting', 'voice', 'overs', 'monotonous', 'guests', 'given', 'godfathers', 'zero', 'Over', 'serving', 'dripping', 'grease', 'recognition', 'handset', 'easy', 'simply', 'lower', 'wasting', 'despicable', 'Only', 'buildings', 'locations', 'MAYBE', 'hummh', 'friends', 'figured', 'joke', 'publicly', 'loudly', 'known', 'psyched', 'appointments', 'contacts', 'mature', 'neighbour', 'girl', 'misplace', 'Foreigner', 'hello', 'Headset', 'packaged', 'nicely', 'damage', 'Italian', 'thrillers', 'early', 'fan', 'Rice', 'sensitivities', 'treatments', 'typical', 'bar', 'surf', 'wave', 'space', '1998', 'Deep', 'Impact', 'Armageddon', 'fails', 'Buffet', 'beat', 'riot', 'Hugo', 'Weaving', 'sex', 'obsessed', 'gay', 'estate', 'salesman', 'uses', 'clients', 'houses', 'trysts', 'flaming', 'Darren', 'Hollander', 'deeply', 'Would', 'fourth', 'comfortable', 'HATED', 'Comfortable', 'Range', 'Life', 'Made', 'sturdy', 'checked', 'felt', 'Ireland', 'squibs', 'camp', 'value', 'taste', 'Mom', 'multi', 'grain', 'pumpkin', 'pancakes', 'pecan', 'butter', 'fluffy', 'boyfriend', 'recent', 'transformed', 'organizational', 'capability', 'easier', 'vegetables', 'authentic', 'Thai', 'experienced', 'Frenchman', 'Favorite', 'shawarrrrrrma', 'intelligent', 'masterful', 'imagination', 'sense', 'attempt', 'human', 'nature', 'hollow', 'shell', 'clean', 'dirty', 'oysters', 'bunch', 'meats', 'choose', 'fully', 'bed', 'blue', 'tooth', 'wi', 'fi', 'left', 'morning', 'Couldn', 'Cover', 'Girl', 'exploit', 'women', 'financial', 'gain', 'stretch', 'Talk', 'Time', 'Performance', 'ability', 'hereas', 'tribute', 'event', 'held', 'negatively', 'handles', 'dignity', 'grace', 'shocking', 'spoiler', 'Characters', 'dimensional', 'guys', 'worthless', 'Stanwyck', 'Morgan', 'ways', 'modern', 'equivalent', 'Dickens', 'Carol', 'sensibility', 'mode', 'button', 'tracfonewebsite', 'toactivate', 'zillion', 'reality', 'gratuity', 'larger', 'tip', 'song', 'emotions', 'subjects', 'Jay', 'Adams', 'unfortunate', 'subject', 'Old', 'Man', 'Neil', 'Young', 'evokes', 'ringtones', 'form', 'existing', 'CDs', 'internet', 'efficient', 'Due', 'happening', 'forced', 'stop', 'leaves', 'desired', 'peculiarity', 'true', 'lead', 'martini', 'W810i', 'SUPERB', 'fries', 'bother', 'volcano', 'Los', 'Angeles', 'nonsense', 'faceplates', 'elegant', 'bought', 'Subway', 'meet', 'expectations', 'drinks', 'WEAK', 'Too', 'politically', 'shrimp', 'opinion', 'entrees', 'GC', 'vibe', 'moments', 'excruciatingly', 'moving', 'restaurants', 'dine', 'weekend', 'unacceptable', 'Unless', 'area', 'Blue', 'Ant', 'Kathy', 'Bates', 'subtle', 'desperation', 'escapism', 'variation', 'Play', 'Fields', 'Lord', 'feel', 'college', 'cooking', 'disapppointment', 'stereotypes', 'jokes', 'offend', 'row', 'unmoving', 'homemade', 'hand', 'pastas', 'pizzas', 'creaks', 'wooden', 'floor', 'reading', 'badly', 'underwater', 'repeated', 'thousand', 'Also', 'seamlessly', 'woven', 'dogs', 'splendid', 'rent', 'view', 'documentaries', 'looking', 'relationships', 'marriage', 'premise', 'sidelined', 'inexplicable', 'focus', 'documentary', 'crew', 'Regardless', 'levels', 'People', 'European', 'art', 'action', 'unneeded', 'controversy', 'motor', 'control', 'center', 'voltage', 'humming', 'equipment', 'Pitch', 'Sounds', 'reasonably', 'effective', 'leather', 'beware', 'finds', 'reccomendation', 'relative', 'Sooooo', 'checking', 'practically', 'add', 'boost', 'redeeming', 'qualities', 'Protects', 'slightest', 'uniqueness', 'Worked', 'clips', 'defeats', 'purpose', 'Uncomfortable', 'Ear', 'LG', 'VX9900', 'EnV', 'Lovely', 'thriller', 'Hitchcock', 'shenanigans', 'surrounding', 'murdered', 'spy', 'kidnapped', 'child', 'foreign', 'random', 'taxidermists', 'Must', 'disrespected', 'suggests', 'occasionally', 'brings', 'dramatic', 'underlying', 'tensions', 'performances', 'apart', 'odd', 'inappropriate', 'smiling', 'Keira', 'Knightley', 'prone', 'direction', 'inexpensive', 'boot', 'honestly', 'blown', 'glove', 'secure', 'durable', 'WHITE', 'colored', 'DEAD', 'hoursTHe', 'lasts', 'thereplacement', 'shifting', 'bubbling', 'peeling', 'scratch', 'couldn', 'happier', 'Droid', 'adventure', 'hope', 'sticks', 'Reception', 'suffered', 'needed', 'poisoning', 'shelves', 'store', 'slide', 'grip', 'prevents', 'slipping', 'videos', 'witnessed', 'Love', 'margaritas', 'functionality', 'hype', 'assumed', 'Go', 'Ryans', 'portrayed', 'father', 'schizophrenic', 'affected', 'war', 'paced', 'understated', 'themes', 'simmering', 'boiling', 'warts', 'study', 'poet', 'bohemian', 'wartime', 'span', 'aerial', 'bombardments', 'London', 'outward', 'tranquillity', 'Welsh', 'coastal', 'retreat', 'borderlines', 'friendship', 'lust', 'dedication', 'versus', 'practical', 'concerns', 'jealousy', 'rivalry', 'cowardice', 'egotism', 'heroism', 'sacrifice', 'torture', 'paired', '700w', 'Skype', 'PC', 'Bluetooth', 'transceiver', 'heard', 'exceeding', 'dreamed', 'twist', 'light', 'situation', 'interior', 'Maria', 'samsung', 'crap', 'crappy', 'Samsung', 'E715', 'seeen', 'Third', 'flops', 'extra', 'carry', 'cut', 'Display', 'ordered', 'servers', 'forth', 'Are', 'helped', 'passed', 'mark', 'signs', 'wear', '100', 'functional', 'hoped', 'advise', 'Case', 'originally', 'discarded', 'scratched', 'clear', 'shattered', 'recover', 'folks', 'Otto', 'welcome', 'Can', 'numbers', 'SIM', 'inspiring', 'DVD', 'reviewer', 'called', 'cashier', 'wayyy', 'Perfect', 'ice', 'colder', 'Angel', 'Scamp', 'His', 'yelps', 'hes', 'scared', 'funniest', 'parts', 'caught', 'curtain', 'singing', 'Ive', 'Never', 'Had', 'Feeling', 'edition', 'June', 'scamp', 'lid', 'immediately', 'manager', 'doing', 'fireball', 'Ians', 'NOBODY', 'identifies', 'predictably', 'gross', 'Waited', 'future', 'goremeister', 'Lucio', 'Fulci', 'addition', 'sub', 'genre', 'Generous', 'Product', 'described', 'rocked', 'social', 'physical', 'outlets', 'Avoid', 'thats', 'Buyer', 'flush', 'toilet', 'Penne', 'vodka', '350', 'Jabra350', 'TOTAL', 'WASTE', 'TIME', 'impressive', 'hasn', 'closed', 'ya', 'Peter', 'Watkins', 'accessible', 'leftover', 'STALE', 'crazy', 'guacamole', 'puréed', 'healthy', 'ethic', 'Today', 'Crema', 'Café', 'expanded', 'bills', 'pricing', 'plans', 'goat', 'taco', 'skimp', 'wow', 'FLAVOR', 'hamburger', 'horrified', 'sympathetic', 'crawfish', 'Paying', '85', 'hot', 'dog', 'kid', 'Wienerschnitzel', 'Stopped', 'Madison', 'Ironman', 'Loved', 'nano', 'stated', 'dissapointed', 'HBO', 'privileged', 'Everyone', 'treated', 'equally', 'waaay', 'Steiners', 'Bought', 'mainly', 'grtting', '44', 'V3c', 'law', 'mall', 'sick', 'Editing', 'phenomenal', 'yellowtail', 'carpaccio', 'melt', 'Exceptionally', 'Items', 'included', 'ARE', 'INCLUDED', 'pretext', 'texture', 'unfolds', '18th', 'century', 'Jutland', 'instruments', 'touch', 'beers', 'tap', 'highlight', 'smallest', 'stays', 'Doesn', 'Generally', 'OMG', 'delicioso', 'Cant', 'binge', 'drinking', 'carbs', 'stomach', 'exquisite', 'visual', 'composition', 'moment', 'inventive', 'angle', 'including', 'pointillistic', 'faux', 'wonder', 'joy', 'behold', 'AMAZON', 'memory', 'card', 'receives', 'APPETIZERS', 'Conclusion', 'sharp', 'graphics', 'copier', 'hold', 'Costco', 'lacks', 'owned', 'mobile', 'surely', 'coherent', 'screenwriter', 'Air', 'Force', 'obliged', 'write', 'sum', 'bartender', 'personable', 'AND', 'writer', 'Gorman', 'Bechard', 'undoubtedly', 'homework', 'references', 'industry', 'appropriate', 'Item', 'Does', 'Match', 'Picture', 'shelf', 'Frankly', 'Cotton', 'club', 'Unfaithful', 'embarrassing', 'Lane', 'Gere', 'BAD', 'pho', 'memorized', 'grossed', 'sole', 'bright', 'Jonah', 'Hill', 'unrecognizable', 'Superbad', 'weight', 'interim', 'fair', 'PERFECT', 'sit', 'informative', 'CONCLUSION', 'meals', 'pull', 'earphone', 'defect', 'risk', 'built', 'hip', 'maintaining', 'coziness', 'loosely', 'public', 'Later', 'power', 'assure', 'reflected', 'par', 'borrowed', 'earlier', 'Duris', 'wholesome', 'gives', 'market', 'Thank', 'complaint', 'standard', 'dedicated', 'boba', 'spots', 'Jenni', 'reviews', 'proud', 'tolerate', 'political', 'incorrectness', 'artistic', 'freedom', 'suspension', 'disbelief', 'Slavic', 'female', 'outlet', 'Provides', 'classy', 'regarding', 'posted', 'detailed', 'comments', 'grey', 'Fire', 'Red', 'Lucy', 'Bell', 'higher', 'sink', 'depressing', 'parents', 'similar', 'silently', 'THey', 'theater', 'lilt', 'step', 'race', 'relax', 'Personally', 'learn', 'involving', 'issue', 'rests', 'lightly', 'consistent', 'OVERPRICED', 'tying', 'loose', 'ends', 'Problem', 'loops', 'material', 'easily', 'sloppy', 'Mediterranean', 'Chicken', 'Salad', 'fell', 'opportunity', 'today', 'sample', 'balanced', 'enjoyment', 'dangerous', 'nicest', 'owners', 'near', 'conversation', 'provoking', 'Fantastic', 'Left', 'frustrated', 'Fans', 'heaven', 'aluminum', 'Palm', 'VX', 'protected', 'handheld', 'bargain', 'dislike', 'sounded', 'OK', 'wife', 'unintelligible', 'nachos', 'MUST', 'HAVE', 'brain', 'shut', 'primal', 'impulse', 'preservation', 'Was', 'Hoping', 'More', 'inconspicuous', 'Rip', 'shipping', 'dozen', 'wings', 'satisfied', 'units', 'Seller', 'shipped', 'cheaper', 'competitors', 'inexcusable', 'carriers', 'bluetoooth', 'maintain', 'monkeys', 'shouldn', 'share', 'DNA', 'copy', 'humans', 'duck', 'pink', 'char', 'Portable', 'rocks', 'rough', 'draft', 'shooting', 'began', 'finished', 'completed', 'Will', 'distinction', 'highlighted', 'unique', 'Excellently', 'Sci', 'producers', 'Scot', 'Vandiver', 'fear', 'losing', 'imaginative', 'considering', 'located', 'Crystals', 'shopping', 'Aria', 'grilled', 'reminded', 'legit', 'Sadly', 'Gordon', 'Ramsey', 'Steak', 'shall', 'sharply', 'install', 'egg', 'Furthermore', 'operation', 'cafe', 'serves', 'surprised', 'Monica', 'Bellucci', 'miserable', 'laughable', 'predictable', 'stinker', 'smells', 'direct', 'release', 'excuse', 'WORTHWHILE', 'suck', 'Excalibur', 'common', 'iced', 'length', 'minute', 'drive', 'spinach', 'avocado', 'ingredients', 'dressing', 'literally', '15', 'favor', 'falls', 'casting', 'Jimmy', 'science', 'teacher', 'Rita', 'Hayworth', 'pedestal', 'Being', '90', 'proudly', 'classical', 'WB', 'cartoons', 'smoking', 'Far', 'chick', 'flick', 'bendingly', 'created', 'GREAT', 'promise', 'disappoint', 'IT', 'REALLY', 'EASY', 'marbles', 'implausible', 'Hated', 'Setup', 'smoothly', 'ideal', 'sensitive', 'wouldnt', 'free', 'company', 'brick', 'oven', 'bread', 'app', 'text', 'messaging', 'tricky', 'riingtones', 'Muddy', 'casing', 'wire', 'insert', 'glued', 'slid', 'balance', 'outshining', 'Halibut', 'Def', 'tater', 'tots', 'southwest', 'Still', 'empowerment', 'complain', 'wake', 'normal', 'messages', 'web', 'browsing', 'significantly', 'previous', 'patio', 'outstanding', 'Pita', 'Attempting', 'artiness', 'angles', 'existent', 'workers', 'tapas', 'dishes', 'HS850', 'pocket', 'sure', 'achievement', 'timers', 'Simply', 'customers', 'sat', 'FANTASTIC', 'Amazon', 'chef', 'Logitech', 'football', 'perplexing', 'static', 'donut', 'correction', 'Heimer', 'weekly', 'haunt', 'gels', 'finish', 'catching', 'seat', 'Despite', 'businesses', 'slim', 'alarm', 'clock', 'docking', 'removing', 'Macbeth', 'Jason', 'moved', 'tears', 'final', 'monolog', 'brief', 'candle', 'sphere', 'forces', 'face', 'ambience', 'start', 'restocking', 'fee', 'refund', 'afraid', 'subtitles', 'aversion', 'therapy', 'Tungsten', 'E2', 'fliptop', 'wobbly', 'eventually', 'receive', 'drivng', 'starts', 'ringing', 'Cumbersome', 'Awkward', 'unreliable', 'Hard', 'judge', 'melted', 'styrofoam', 'confusing', 'subplots', 'native', 'americans', 'brainsucking', 'steaks', 'loving', 'EarGels', 'Errol', 'Flynn', 'brilliant', 'Custer', 'favourite', 'cause', 'Actors', 'LOVED', 'mussels', 'reduction', 'bites', 'refused', 'anymore', 'tiny', 'elegantly', 'decorated', 'Cool', 'WRITTEN', 'um', 'She', 'toasted', 'English', 'muffin', 'untoasted', 'ignored', 'hostess', 'Basically', 'airline', 'Clever', 'pleaser', 'Mickey', '80', 'Saw', 'loudspeaker', 'option', 'bumpers', 'lights', 'speak', 'meaning', 'phrase', 'history', 'conflict', 'owed', 'lovely', 'usual', 'cutie', 'Update', 'Adapter', 'provide', 'current', 'filmmaker', 'director', 'hide', 'head', 'spent', 'fo', 'refill', 'water', 'struggle', 'crack', 'Thoroughly', 'Went', 'concrete', 'knock', 'wood', 'commercials', 'misleading', '3o', 'taped', 'episodes', 'accident', 'Im', 'AZ', 'unbelievably', 'deserves', 'coupon', 'irritating', 'dustpan', 'indoors', 'disposable', 'Dont', 'disapoinment', 'particularly', 'Dwight', 'Schultz', 'cellphones', 'planning', 'dialing', 'evening', 'drastically', 'personally', 'hummus', 'pita', 'baklava', 'falafels', 'Baba', 'Ganoush', 'eggplant', 'postinos', 'Otherwise', 'Hot', 'Sour', 'Egg', 'Flower', 'Soups', 'Stars', 'slackers', 'excuses', 'actions', 'recall', 'flavored', 'laptop', 'IR', 'sturdiness', 'ordeal', 'begin', 'matter', 'progresses', 'anguish', 'suffering', 'Light', 'notice', 'composed', 'Poorly', 'contstruct', 'hinge', 'Caballero', 'driest', 'damn', 'Utterly', 'merit', 'level', 'akin', 'Earset', 'outgoing', 'build', 'unlike', 'breaks', 'Happy', 'Based', 'gratitude', 'business', 'rocketed', 'unit', 'destination', 'unknown', 'mixed', 'mushrooms', 'yukon', 'gold', 'puree', 'corn', 'beateous', 'realized', 'brilliance', 'depicts', 'Tucson', 'stinks', 'aspect', 'uninteresting', 'forgettable', 'understanding', 'patient', 'commentary', 'Exactly', 'elaborately', 'aesthetically', 'sculpture', 'Once', 'dinners', 'extensive', 'provides', 'Plan', 'ordering', 'Albondigas', 'soup', 'tasted', 'tomato', 'frozen', 'meatballs', 'Wasted', 'Armand', 'Assante', 'summary', 'busy', 'building', 'FREEZING', 'anytime', 'lousy', 'puppets', 'track', 'commands', 'sentiment', 'contributing', 'shouting', 'telephone', 'stopped', 'idiot', 'produce', 'season', 'prompt', 'verizon', 'performed', 'apologize', 'accompanied', 'Bacon', 'hella', 'salty', 'Voodoo', 'gluten', 'Burger', 'Perabo', 'energy', 'Reasonably', 'greatest', 'moods', 'artist', 'exclaim', 'Whoa', 'Bouchon', 'Gotta', 'slimy', 'drooling', 'joint', 'Leopard', 'Print', 'Soggy', 'contains', 'cheesiness', 'unethical', 'normally', 'NC', '17', 'avoiding', 'gyros', 'missing', 'refried', 'beans', 'dried', 'crusty', 'embarassing', 'hurt', 'genuinely', 'pleasant', 'enthusiastic', 'treat', 'article', 'read', 'focused', 'spices', 'Star', 'Trek', 'Frontier', 'Rock', 'Casino', 'WILL', 'NEVER', 'EVER', 'STEP', 'FORWARD', 'IN', 'AGAIN', 'waitresses', 'entertaining', 'nonetheless', 'red', 'bamboo', 'shoots', 'double', 'cheeseburger', 'Macarons', 'insanely', 'STEAMBOAT', 'WILLIE', 'amazingly', 'wanting', 'Hopefully', 'Cox', 'win', 'Worse', 'humiliated', 'worker', 'Bunch', 'callings', 'seperated', 'mere', 'ft', 'excessive', 'garbled', 'accountant', 'screwed', 'holder', 'Level', 'spice', 'whelm', 'coverage', 'upstairs', 'basement', 'Coming', 'experiencing', 'parties', 'ask', 'Jennifer', 'Rubin', 'Jamie', 'Harris', 'changes', 'nervous', 'starlet', 'beginning', 'events', 'Utter', 'Sound', 'TERRIBLE', 'stayed', 'US', 'converter', 'Virgin', 'Wireless', 'Voice', 'tremendous', 'geeky', 'toast', 'oozes', 'embedded', 'sleek', 'stylish', 'refuse', 'tick', 'background', 'Think', 'plan', 'MOTO', 'Total', 'letdown', 'Camelback', 'Shop', 'Cartel', 'Coffee', 'bruschetta', 'devine', 'realised', 'Watching', 'washing', 'twirling', 'acknowledged', '35', 'forgetting', 'Shakespear', 'Han', 'Nan', 'Used', 'wit', 'Schrader', 'Mishima', 'complex', 'modest', 'craving', 'Linksys', 'exchange', 'refurb', 'Tied', 'lasting', '45', 'MAJOR', 'PROBLEMS', 'rubber', 'ahead', 'warmer', 'AccessoryOne', '25', 'timeless', 'jiggle', 'Bela', 'Lugosi', 'extraneous', 'intoning', 'Saggy', 'floppy', 'Trying', 'exercise', 'Brilliant', 'Perhaps', 'defective', 'Customer', 'Ever', 'First', 'bathrooms', 'Seat', 'covers', 'replenished', 'plain', 'yucky', 'AVOID', 'THIS', 'ESTABLISHMENT', 'vehicle', 'cradle', 'belt', 'Bloody', 'Mary', 'accept', 'cassette', 'Breeders', 'cheaply', 'Ebola', 'virus', 'chewy', 'Seriously', 'includes', 'Shatner', 'Nimoy', 'washed', 'tacky', 'Spock', 'rescue', 'Kirk', 'jet', 'pack', 'mountain', 'earpiece', 'RUDE', 'INCONSIDERATE', 'MANAGEMENT', 'antena', 'allowing', '1971', 'format', 'mini', 'baaaaaad', 'Cape', 'Cod', 'ravoli', 'cranberry', 'mmmm', 'Mouse', 'following', 'silent', 'PLANE', 'CRAZY', 'famous', 'ground', 'Clear', 'Irons', 'behing', '5020', 'comfortible', '24', 'pain', 'fond', 'magnetic', 'strap', 'Than', 'putting', 'sequel', 'Join', 'email', 'Large', 'dough', 'beats', 'fingers', 'contract', 'Shot', 'Southern', 'California', 'desert', 'patent', 'creates', 'Wife', 'coconut', 'weren', 'megapixels', 'renders', 'images', 'relatively', 'resolution', 'activated', 'suddenly', 'died', 'serve', 'Indian', 'naan', 'pine', 'nut', 'halfway', 'embarrassed', 'Howell', 'Sat', 'Sun', 'trunk', 'carried', 'hitch', 'hang', 'appalling', 'mains', 'uninspired', 'Noca', 'secondary', 'incomprehensible', 'relation', 'primary', 'mystifying', 'brought', 'owner', 'Japanese', 'dude', 'vinaigrette', 'overall', 'Work', 'Eclectic', 'Insults', 'profound', 'deuchebaggery', 'smoke', 'solidify', 'stood', 'awkwardly', 'transmission', 'Metro', 'PCS', 'SCH', 'r450', 'slider', 'Sony', 'Premium', 'plugs', 'With', 'Call', 'Telly', 'Savalas', 'Boyle', '54', 'sheer', 'tedium', 'melodrama', 'sinking', 'GOOD', 'LORD', 'WHAT', 'WERE', 'THEY', 'THINKING', 'Lots', 'holes', 'single', 'decisions', 'atrocious', 'abysmal', 'Trouble', 'impossible', 'establish', 'watchable', 'theme', 'follows', 'band', 'Mansonites', 'reporter', 'anniversary', 'killings', 'dumb', 'pointless', 'spoil', 'indication', 'meld', 'volatile', 'temperaments', 'seamless', 'union', 'creativity', 'result', 'powerhouse', 'timely', 'culture', 'disturbing', 'fascination', 'celebrity', 'distorted', 'interpretations', 'fame', 'forgotten', 'Kevin', 'Spacey', 'verbal', 'tsunami', 'Buddy', 'Ackerman', 'scripting', 'unmatched', 'ages', 'younger', 'appreciate', 'galley', 'pm', '8pm', '15pm', 'forwarded', 'remaining', 'Either', 'sucks', 'horrendously', 'Captain', 'Howdy', 'hell', 'semi', 'truck', 'Linda', 'Cardellini', 'poised', 'Dee', 'Snider', 'villains', 'pacing', 'FX', 'sophisticated', 'miserably', 'utterly', 'unoriginal', 'cinematic', 'captured', 'celluloid', 'supernatural', 'zombie', 'Season', 'Five', 'thread', 'holding', 'Leni', 'Parker', 'Anita', 'LaSelva', 'Taelons', 'idealogical', 'Horror', 'centers', 'Puppet', 'Master', 'flicks', 'lame', 'explains', 'sinister', 'origins', 'asleep', 'insomniacs', 'heartwarming', 'chasing', 'dreams', 'Nurse', 'Betty', 'unpredictability', 'superbly', 'betty', 'jean', 'smart', 'GO', 'NOW', 'S11', 'professionals', 'Drago', 'Debbie', 'Rochon', 'contributory', 'dialog', 'chimp', 'tolerable', 'Prices', 'flavors', 'slaw', 'drenched', 'mayo', 'Motorolas', 'UGLY', 'corded', 'wireless', 'bitpim', 'program', 'transfer', 'data', 'Someone', 'shouldve', 'invented', 'sooner', 'deliver', 'uneasy', 'Nobu', 'cases', 'haul', 'Hackneyed', 'wind', 'helps', 'maybe', 'savant', 'adhesive', 'Predictable', 'ARGUING', 'WITH', 'VERIZON', 'REGARDING', 'THE', 'DROPPED', 'CALLS', 'WE', 'RETURNED', 'PHONES', 'TWO', 'flaw', 'correctly', 'central', 'ineptly', 'stereotypically', 'repair', 'reactions', 'nuts', 'bitchy', 'boss', 'Omelets', 'die', 'angry', 'Awful', 'shower', 'rinse', 'nude', 'NOKIA', '99', 'bigger', 'Cooked', 'perfection', 'impeccable', 'Essentially', 'Microsoft', 'tech', 'WAY', 'sugary', 'interested', 'sins', 'industrial', 'suggestions', 'crayon', 'pencil', 'drawings', 'colorful', 'fanciful', 'according', 'applifies', 'devices', 'Interesting', 'flavorful', 'delights', 'reccommend', 'SCREAMS', 'LEGIT', 'somethat', 'Raw', 'sublimely', 'iPODs', 'Phenomenal', 'Waiter', 'jerk', 'peachy', 'keen', 'plus', 'numerous', 'structure', 'tightly', 'vitally', 'occurs', 'content', 'highest', 'superlative', 'imaginable', 'Yes', 'require', 'significant', 'puzzle', 'solving', 'pieces', 'create', 'pulls', 'punches', 'Graphics', 'game', 'TH', 'insane', 'massive', 'unlockable', 'Actually', 'Canada', 'aye', 'Buy', 'PURE', 'BRILLIANCE', 'doomed', 'conception', 'minor', 'confirm', 'unfunny', 'generic', 'managed', 'ENTIRE', 'exaggerating', 'trailer', 'talented', 'Carrell', 'save', 'Freeman', 'Ed', 'Helms', 'lazy', 'presence', 'animals', 'integration', 'obvious', 'green', 'cost', 'translate', 'succeeds', 'meagre', 'lesser', 'French', 'Cancan', 'boasts', 'cutest', 'leading', 'ladies', 'heels', 'insipid', 'efforts', 'Totally', 'Heche', 'Sam', 'Shepard', 'gung', 'ho', 'Marine', 'sobering', 'riveted', 'resounding', 'Hanks', 'fingernails', 'chalkboard', 'unnecessary', 'train', 'roller', 'coaster', 'warmth', 'grates', 'nerves', 'improved', 'improvisation', 'worry', 'Often', 'follow', 'surroundings', 'crackles', 'unpredictable', 'youthful', 'concentrate', 'meanders', 'builders', 'cross', 'cliche', 'choices', 'predict', 'verbatim', 'chills', 'Alexander', 'Nevsky', 'lived', 'pretentious', 'planned', 'Dodge', 'stratus', 'Shots', 'help', 'makers', 'restrained', 'Québec', 'Value', 'Internet', 'excrutiatingly', 'proclaimed', 'coffee', 'wildly', 'credit', '1986', 'version', 'marred', 'constant', 'studio', 'indoor', 'exteriors', 'familiar', 'block', 'roasted', 'bone', 'marrow', 'favorite', 'purchases', 'descriptions', 'yum', 'eel', 'NONE', 'sauces', 'AFter', 'dead', 'Awsome', 'access', 'detachable', 'Tasted', 'dirt', 'key', 'pad', 'lit', 'quit', '18', 'purchased', 'combination', 'pears', 'almonds', 'Disappointed', 'Plater', 'Crostini', 'stale', 'genius', 'letting', 'passion', 'Art', 'taking', 'Well', 'intended', 'Helen', 'Baxendale', 'credible', 'lady', 'cheerfull', 'naughty', 'deadly', 'blood', 'evil', 'Greek', 'creamy', 'orders', 'excited', 'source', 'Magical', 'Help', 'grocery', 'month', 'SETS', 'oy', 'vey', 'nutshell', 'restaraunt', 'sewer', 'scripts', 'consumer', 'occasions', 'medium', 'bloodiest', 'Thumbs', 'Up', 'live', 'Fridays', 'blows', 'StarTac', 'regretted', 'impression', 'engaging', 'exciting', 'flair', 'bartenders', 'romantic', 'charming', 'junkyard', 'laughed', 'LOVE', '2MP', 'pics', 'Counterfeit', 'ones', 'shoe', 'Okay', 'critic', 'creature', 'tremendously', 'horrendous', 'Looks', 'Beautiful', 'styling', 'evaluate', 'TMobile', 'murky', 'related', 'Aailiyah', 'Akasha', 'entrance', 'expecting', 'Oscar', 'Chipotle', 'BETTER', 'luck', 'gloriously', 'accurate', 'raver', 'hopes', 'charcoal', 'grill', 'unfortunately', 'flat', 'jerky', 'movements', 'buffets', 'courteous', 'definitly', 'Cingular', 'ATT', '8525', 'Makes', 'wearing', 'Palms', 'dancing', 'title', 'screamy', 'masculine', 'services', 'mood', 'bug', 'climbing', 'kitchen', 'Filmiing', 'expansive', 'High', 'CRAP', 'Disappointing', 'condescends', 'hearts', 'heavy', 'keeps', '680', 'Place', 'Gyros', 'jabra', 'greater', 'ease', 'combo', 'ala', 'cart', 'yellow', 'saffron', 'seasoning', 'cheated', 'Company', 'television', 'Rating', 'Grade', 'Note', 'Show', 'Is', 'Mother', 'Cast', 'Pull', 'Daughter', 'Out', 'frog', 'eye', 'interplay', 'Martin', 'Emilio', 'Wall', 'Street', 'Charlie', 'WELL', 'IM', 'SATISFIED', 'youtube', 'vegetarian', 'array', '00', 'fishnet', 'stockings', 'astonishingly', 'ham', 'fisted', 'throwback', 'student', '1980', 'experiences', 'abroad', 'interacting', 'nationalities', 'circumstances', 'slightly', 'Omit', 'vinegrette', 'greens', 'Paolo', 'Sorrentino', 'loneliness', 'Tony', 'unforgettable', 'Almost', 'fashioned', 'tuneful', 'plenty', 'capacity', 'confortable', 'somewhat', 'extended', 'periods', 'Mobile', 'caterpillar', 'writers', 'smack', 'bonus', 'OWNERS', 'soooooo', 'wrap', 'freaking', 'papers', 'cutting', 'edge', 'Punishment', 'Park', 'iphone', 'recharge', 'iPhone', '4s', 'connecting', 'sources', 'iMac', 'external', 'brunch', 'crêpe', 'delicate', 'Using', 'possesed', 'Outstanding', 'team', 'kinda', 'weird', 'min', 'milkshake', 'chocolate', 'milk', 'travled', 'swivel', 'holster', 'Blackberry', 'flip', 'Interview', 'Vampire', 'Lestat', 'Stuart', 'Townsend', 'Cruise', 'summarize', 'nay', 'transcendant', 'pneumatic', 'condiment', 'dispenser', 'crumby', 'Oh', 'sublime', 'explanation', 'atrocity', 'decide', 'blanket', 'moz', 'subpar', 'upload', 'Jawbone', 'Era', 'attractive', 'pleasing', 'gem', 'Absolutely', 'loads', 'Cheap', 'hey', 'pleasantly', 'suprised', 'Juano', 'Hernandez', 'supporting', 'era', 'murdering', 'villain', 'Michael', 'Ironside', 'faultless', 'underappreciated', 'Brian', 'Keith', 'bully', 'Teddy', 'vivid', 'excellently', 'tops', 'ratings', 'sci', 'Won', 'Con', 'spotty', 'Try', 'airport', 'speedy', 'absolute', 'daughters', 'paint', 'photograph', 'answer', 'suffers', 'frequentyly', 'Tools', 'bipolarity', 'thug', 'Luv', 'diaper', 'commercial', 'grab', 'bite', 'pub', 'improve', 'leaks', 'Things', 'happen', 'personalities', 'twists', 'occur', 'Feelings', 'Gabriel', 'intangibles', 'leap', 'viewer', 'grasp', 'glance', 'school', 'pile', 'armband', 'velvet', 'cake', 'ohhh', 'lose', 'Estevez', 'debut', 'development', 'suggest', 'sounds', 'sketchy', 'technology', 'employee', 'adapters', 'Speaking', 'unbearably', 'kitchy', '95', 'theatres', 'receiving', 'respect', 'outlandish', 'psychotic', 'lovable', 'charisma', 'Songs', 'Muppets', 'Hilarious', 'Kabuki', 'unhappy', 'crowds', 'downtown', 'juries', 'lawyers', 'BARGAIN', 'schoolers', 'whine', 'cocktails', 'handmade', 'simpler', 'Finally', 'spring', 'latch', 'visor', 'jalapeno', 'classics', 'sorely', 'im', 'Who', 'Painful', 'dual', 'Ticker', 'routine', 'based', 'Cole', 'hankering', 'Mirrormask', 'unsatisfactory', 'AWFUL', 'sort', 'question', 'threshold', 'satisfying', 'Sorry', 'ribeye', 'mesquite', 'accessing', 'downloading', 'performing', 'functions', 'products', 'sensor', 'sporting', 'walls', 'covered', 'scallop', 'V265', 'dying', 'Artless', 'endlessly', 'ugliest', 'Damian', 'versatile', 'Waiting', 'recieve', 'clicks', 'mechanism', 'Forgeries', 'Abound', 'mins', 'Small', 'setup', 'ample', 'storage', 'government', 'scientist', 'argued', 'humanity', 'reasons', 'trippy', 'Worth', 'penny', 'securly', 'painful', 'wired', 'arts', 'Dissapointing', 'chai', 'latte', 'Turkey', 'Straw', 'cruel', 'apparently', 'salt', 'Back', 'BBQ', 'lighter', 'Echo', 'Lasted', 'Walkman', 'pissd', 'allergy', 'warnings', 'clue', 'contain', 'peanuts', 'Ben', 'Affleck', 'Sandra', 'Bullock', 'leaving', 'knocked', 'Nargile', 'convoluted', 'convince', 'questioning', 'EVERYONE', 'BE', 'FOOLED', 'USELESS', 'Bar', 'Edinburgh', 'revisiting', 'actress', 'repeating', 'robotic', 'moves', 'keypads', 'tinny', 'reach', 'cheapy', 'sunglasses', 'Hell', 'Gold', 'Standard', 'ceases', 'alert', 'decipher', 'meanings', '2005', 'S710a', 'WOW', 'vomited', 'accessory', 'manufacturer', 'surprise', 'Denny', 'Initially', 'local', 'sites', 'filmed', 'Buffalo', 'intrigued', 'picked', 'speed', 'specs', 'handed', 'listed', 'connoisseur', 'difference', 'bluetooths', 'listener', 'tolerance', 'polite', 'wash', 'factor', 'campy', 'dream', 'eggs', 'gooodd', 'shameful', 'gyro', 'lettuce', 'readers', 'Miyazaki', 'worthwhile', 'summer', 'outdoor', 'colleague', 'disgraceful', 'From', 'Widmark', 'unintentionally', 'comical', 'stir', 'fried', 'noodles', 'bottowm', 'gimmick', 'steep', 'Experience', 'evinced', 'faithful', 'Joyce', 'acclaimed', 'novella', 'Stewart', 'hero', 'rips', 'climax', 'embassy', 'brooding', 'menace', 'traditional', 'Hunan', 'Performed', 'muffled', 'incoming', 'severe', 'echo', 'proven', 'heat', 'exchanged', 'Recommend', 'confidence', 'rolled', 'CG', 'opening', 'sequence', 'Slideshow', 'God', 'sake', 'Have', '2007', 'cashew', 'undercooked', 'Design', 'Flaw', 'dressed', 'rudely', 'Choice', 'PURCHASE', 'warranty', 'reoccure', 'Bottom', 'Iam', 'ticking', 'noises', 'drop', 'stops', 'intermittently', 'Last', 'Nevertheless', 'master', 'stable', 'Matrix', 'sequels', 'mindblowing', 'RI', 'calamari', 'warn', 'RENT', 'MOVIE', 'dumbest', 'Damn', 'scare', 'Point', 'finger', 'resistant', 'Because', 'occupied', 'distracting', 'wondered', 'shortlist', 'pap', 'screened', 'afternoon', 'punish', 'unemployed', 'jobs', 'Weird', 'Top', 'Tigerlilly', 'Ray', 'Charles', 'legendary', 'biographical', 'musician', 'Ironically', 'Secondly', 'perfected', 'chase', 'pandering', 'sabotages', 'Hence', 'rumbles', 'desperately', 'depending', 'logic', 'chilly', 'unremarkable', 'author', 'abstruse', 'reenactments', 'emotionally', 'adrift', 'stagy', 'sits', 'soldiers', 'masculinity', 'pledge', 'hairsplitting', 'purity', 'admiration', 'swords', 'kill', 'momentum', 'quicker', 'resume', 'amateurish', '80s', 'fascinated', 'contained', 'inconsistencies', 'frankly', 'horrid', 'realistic', 'ballet', 'repertory', 'developments', 'Woa', 'sappiest', 'unwatchable', 'filmography', 'site', 'chance', 'intentions', 'undertone', 'fifties', 'existential', 'weariness', 'ought', 'senses', 'Regrettably', 'expression', 'celebration', 'patriotism', 'underlines', 'Allison', 'Yet', 'soundtrack', 'concert', 'sequences', 'ridiculousness', 'SPOILERS', 'SURFACE', 'stunning', 'fx', 'state', 'Conceptually', 'everybody', 'fantasy', 'sour', 'considered', 'Thanks', 'mexican', 'understood', 'identified', 'noir', 'crime', 'Belmondo', 'Lino', 'Ventura', 'psychological', 'portrayals', 'detailing', 'loyalty', 'treachery', 'Melville', 'soul', 'BLACK', 'WATER', 'manages', 'transcend', 'limitations', 'indie', 'continually', 'subverting', 'emerge', 'intense', 'gripping', 'crocdodile', 'Water', 'believed', 'crocs', 'swamp', 'Christopher', 'Eccleston', 'TARDIS', 'continuation', 'succeeded', 'Again', 'pi', 'ed', 'camerawork', 'Summary', 'witticisms', 'Billy', 'Bob', 'rise', 'Camerawork', 'AMAZING', 'finale', 'trilogy', 'Kieslowski', 'amaze', 'directors', 'colours', 'flag', 'Three', 'visually', 'connections', 'SPOILER', 'survivors', 'ferry', 'Valentine', 'young', 'solidifying', 'happiness', 'dealt', 'roth', 'pearls', 'awarded', 'eloquently', 'Francis', 'ford', 'Coppola', 'gradually', 'develop', 'lies', 'contrast', 'Nicola', 'roeg', 'wih', 'translating', 'strives', 'greatness', 'poetry', 'muddled', 'disparate', 'accurately', 'defined', 'fav', 'Trumbull', 'LUCY', 'Owner', 'designed', 'upbeat', 'IQ', 'mollusk', 'usage', 'treo', 'snug', 'LOT', 'SEE', 'Appears', 'outperform', 'China', 'V325i', 'overacting', 'underacting', 'Burrittos', 'Blah', 'Earbud', 'noteworthy', 'views', 'Barcelona', 'famed', 'Gaudi', 'towers', 'excessively', 'phony', 'contrived', 'wont', 'transfers', 'realize', 'douchey', 'garden', 'peaking', 'Columbo', 'PS3', 'wines', 'rice', 'choked', 'chains', 'inspired', 'Kris', 'Kristoffersen', 'Shirley', 'Jones', 'rendition', 'Way', 'mega', 'pixel', 'good7', 'sony', 'ericson', 'z500a', 'PS', 'shiny', 'late', 'May', 'bank', 'holiday', 'Rick', 'Defective', 'slowly', 'Check', 'prettier', 'absolutley', 'spaghetti', 'Firehouse', 'Calls', 'perpared', 'giant', 'slices', 'Toast', 'dusted', 'powdered', 'sugar', 'Att', 'yell', 'Rickman', 'Stowe', 'hilt', 'childrens', 'subversive', 'tract', 'comparably', 'offering', 'Pricing', 'concern', 'Mellow', 'Mushroom', 'painfully', 'dreary', 'waster', 'sibling', 'bond', 'mac', 'convention', 'UNfunny', 'unrealistic', 'utter', '70000', 'BT250v', 'comfort', 'Soyo', 'smartphone', 'IMDB', 'listening', 'cingular', '8125', 'croutons', 'overdue', 'Tale', 'Two', 'Sisters', 'hopeless', 'hat', 'theft', 'smudged', 'patty', 'uploaded', 'investment', 'ultra', 'Strip', 'Comes', 'flash', 'SOS', 'signals', 'Garbo', 'bat', 'talents', 'Netflix', 'stocking', 'plethora', 'salads', 'sandwiches', 'seal', 'approval', 'promote', 'duet', 'astronaut', 'doctor', 'considers', 'Cold', 'War', 'USSR', 'WORST', 'EXPERIENCE', 'Car', 'AC', 'Highy', 'Lastly', 'mozzarella', 'national', 'treasure', 'improvement', 'andddd', 'date', 'terribly', 'pleasure', 'neighborhood', 'unusable', 'cow', 'tongue', 'cheek', 'Research', 'Development', 'division', 'knows', 'piano', 'forgot', 'Casting', 'Trond', 'Fausa', 'Aurvåg', 'Bothersome', 'Carly', 'downside', 'barking', 'mad', 'Taylor', 'Mandalay', 'mail', 'backlight', 'message', 'negligent', 'unwelcome', 'relate', 'delivery', 'BlueAnt', 'Supertooth', 'AWESOME', 'saving', 'Kindle', 'excerpts', 'swung', 'Buttons', 'success', 'depends', 'Sydney', 'Greenstreet', 'Yardley', 'Crisp', 'buyers', 'remorse', 'smeared', 'stepped', 'tracked', 'bird', 'poop', 'Lot', 'emperor', 'spend', 'childhood', 'gosh', 'renowned', 'Frances', 'Marion'])\n",
      "Vocabulary index:  dict_values([1208, 590, 3435, 491, 4345, 2360, 2060, 1039, 3257, 1161, 2077, 3459, 2194, 3721, 3001, 3174, 3508, 3967, 949, 449, 166, 117, 546, 3448, 4403, 3715, 1272, 4166, 1669, 4240, 4093, 2207, 60, 4707, 3201, 3066, 3027, 3164, 1074, 1449, 2899, 2121, 3253, 2468, 4609, 2571, 4630, 3645, 2638, 4687, 2415, 1618, 4417, 2128, 1288, 1524, 1113, 3667, 808, 3643, 2042, 2694, 584, 3546, 4247, 4675, 2405, 13, 540, 2537, 1760, 2662, 3837, 1810, 1496, 4645, 2873, 4254, 2387, 2504, 3761, 2551, 3662, 2986, 479, 4429, 2648, 2049, 170, 2532, 4127, 2922, 2196, 154, 1585, 4705, 3768, 564, 2985, 3029, 1596, 3346, 1861, 743, 2495, 3037, 3831, 4283, 1099, 1218, 1561, 2669, 2235, 2893, 2509, 2642, 2636, 2567, 2341, 3069, 2395, 1315, 2182, 1665, 4079, 2067, 2181, 2806, 4579, 1727, 2316, 4468, 4326, 3006, 767, 1043, 966, 1201, 4538, 4416, 1, 4350, 1136, 4565, 3569, 4682, 3026, 3701, 3877, 1703, 2000, 3886, 3416, 2505, 3336, 3172, 2830, 3049, 4112, 1073, 3826, 1607, 1870, 3470, 4555, 1976, 1075, 3873, 1700, 1926, 2253, 2542, 2614, 2037, 2180, 1470, 157, 881, 484, 970, 1688, 2138, 4624, 4050, 1240, 3239, 3310, 1083, 4054, 2853, 1974, 3303, 1791, 3252, 2024, 4190, 1595, 1674, 1899, 2661, 2918, 1771, 460, 3600, 2088, 4691, 3414, 3699, 1140, 213, 3514, 3280, 4379, 2517, 3067, 2510, 3281, 1719, 4616, 3676, 446, 737, 251, 2076, 954, 3178, 2874, 3, 3184, 4380, 3968, 2435, 818, 780, 591, 1048, 147, 56, 141, 783, 691, 816, 412, 307, 1209, 928, 2701, 4724, 264, 394, 3719, 1483, 2346, 4419, 164, 2978, 3015, 734, 895, 1148, 370, 1630, 2946, 4305, 4620, 2545, 1958, 4006, 3323, 4299, 520, 1606, 3703, 2287, 3929, 380, 3010, 3242, 1797, 3343, 326, 1060, 3227, 1409, 3520, 97, 2592, 348, 495, 3506, 1451, 3108, 3647, 4306, 4507, 453, 2491, 3521, 1917, 2733, 4594, 856, 38, 3779, 1077, 1424, 3851, 2663, 2555, 4683, 4522, 1683, 1693, 2676, 1668, 3028, 4457, 4194, 4157, 2228, 263, 1243, 422, 180, 1100, 1698, 1739, 4339, 1244, 2345, 3655, 3507, 2303, 2457, 2894, 3802, 2925, 607, 1225, 312, 750, 150, 151, 939, 907, 2739, 2943, 1250, 2730, 3677, 1345, 3436, 3559, 848, 669, 624, 994, 2090, 3161, 1942, 3040, 2871, 4036, 3753, 2059, 2270, 517, 4422, 103, 133, 763, 666, 442, 418, 20, 339, 2653, 2566, 3549, 2569, 3190, 182, 4404, 1938, 3424, 4325, 3624, 3305, 2788, 1807, 1673, 1367, 3577, 4346, 102, 3512, 3551, 214, 4330, 4015, 2550, 4539, 1013, 1087, 1220, 662, 4360, 2936, 2337, 4065, 3121, 2770, 962, 283, 3258, 1553, 237, 178, 2390, 2688, 552, 4654, 518, 1024, 619, 4104, 3636, 3820, 2977, 917, 183, 1026, 179, 3805, 2383, 2683, 4303, 4032, 3890, 3745, 604, 284, 2241, 476, 2172, 2527, 1228, 1324, 3627, 1366, 3324, 2974, 1648, 1452, 2486, 1079, 2475, 3344, 2315, 3736, 371, 1478, 310, 3150, 2981, 1414, 3496, 714, 1158, 2369, 4439, 1405, 1477, 1012, 3128, 4232, 3217, 3869, 2843, 2219, 2684, 3063, 3123, 2247, 1769, 1167, 3644, 3852, 124, 1888, 2139, 1790, 2810, 100, 2900, 2500, 1068, 3568, 4610, 4635, 1547, 1502, 1573, 2279, 2990, 4119, 2003, 2807, 1463, 3900, 104, 4366, 1255, 2865, 2919, 4175, 3226, 218, 2237, 2093, 2029, 1376, 2958, 2050, 1558, 399, 2822, 3656, 2912, 1885, 1549, 3345, 3112, 2823, 4037, 3073, 1396, 2610, 3640, 4520, 2905, 1281, 4438, 813, 4688, 4524, 3053, 2836, 3238, 2520, 2496, 4583, 3925, 3853, 2692, 3156, 4590, 2374, 718, 860, 1572, 1230, 1944, 3524, 1711, 3318, 3824, 3558, 1881, 1712, 1540, 4, 776, 3056, 3439, 1722, 4652, 4187, 2700, 3684, 2364, 2546, 1720, 485, 2780, 990, 796, 3518, 3271, 3926, 1395, 3591, 3921, 3941, 3386, 3195, 3334, 2450, 2737, 3429, 3854, 2650, 1978, 3905, 4587, 3018, 4548, 2659, 1390, 648, 2334, 1968, 2402, 1567, 3298, 3316, 509, 2248, 3196, 3713, 4545, 1883, 2609, 1418, 3351, 1293, 1104, 2738, 4267, 681, 4598, 804, 3937, 3817, 4375, 3349, 768, 1796, 114, 1993, 2404, 3400, 2311, 738, 2878, 1511, 403, 3602, 3510, 4071, 1999, 4126, 3860, 3841, 4665, 2250, 3243, 4536, 1290, 1794, 3143, 1671, 3632, 549, 148, 2664, 1941, 2525, 3963, 1399, 1996, 3140, 86, 4430, 2521, 2412, 3641, 3064, 4271, 4695, 3187, 4273, 1622, 3036, 2113, 2353, 4402, 4265, 2815, 4231, 27, 2154, 3016, 1362, 2944, 785, 4533, 7, 2987, 1907, 3012, 4324, 3419, 867, 2896, 4328, 1245, 995, 1574, 3552, 441, 1532, 3560, 4137, 1824, 2084, 1471, 1007, 85, 4462, 3389, 1392, 1118, 901, 3562, 1490, 2608, 42, 1726, 32, 2633, 1460, 2336, 3407, 4258, 3525, 1126, 568, 2016, 3763, 751, 3192, 3241, 3734, 1420, 2914, 4680, 1849, 3862, 3663, 4641, 4543, 289, 436, 2069, 1527, 4191, 3718, 457, 1203, 325, 4436, 2124, 4490, 1423, 4701, 1962, 3759, 4183, 3097, 3220, 3486, 2713, 1394, 2365, 385, 1199, 1277, 4447, 1900, 833, 505, 2632, 1517, 4178, 4168, 3446, 3369, 1909, 3262, 219, 33, 1130, 1597, 871, 1777, 4696, 3682, 201, 4215, 2167, 3163, 1858, 3994, 2544, 2885, 3776, 4047, 4266, 2373, 774, 3881, 4176, 3390, 530, 3725, 99, 567, 1303, 4660, 1389, 2531, 4136, 3642, 3984, 4139, 686, 1398, 1353, 1813, 1157, 4142, 3583, 1867, 4141, 2117, 1598, 1805, 2762, 2625, 798, 1379, 2926, 3269, 2574, 2073, 2392, 1237, 2754, 1194, 3723, 697, 2246, 1931, 3304, 3144, 28, 59, 3832, 1325, 3664, 1657, 2244, 1737, 1839, 2388, 3766, 2216, 1404, 410, 1111, 3000, 3348, 3635, 4034, 1638, 3122, 4646, 2010, 3189, 1523, 2054, 2187, 593, 2427, 1774, 113, 416, 1548, 1437, 2666, 1837, 961, 3202, 3639, 365, 1964, 4632, 616, 1829, 4059, 3017, 1285, 1522, 3772, 2403, 3716, 3469, 908, 3487, 529, 3798, 3471, 3020, 2447, 3859, 764, 2021, 2265, 4526, 1780, 1628, 2526, 606, 2557, 2577, 2343, 2342, 2623, 1818, 1662, 1242, 4098, 4278, 1212, 3532, 2554, 862, 285, 4311, 3861, 188, 2438, 2015, 4308, 2758, 1544, 3206, 3473, 4389, 4180, 327, 753, 1426, 3901, 1912, 1694, 677, 1616, 543, 4692, 2968, 968, 409, 1354, 2895, 4528, 2869, 932, 1632, 1327, 3891, 4214, 2313, 2781, 2268, 1786, 4369, 2112, 1785, 1481, 2142, 689, 3472, 1592, 1889, 3399, 4017, 4067, 3893, 777, 3457, 3403, 3845, 4287, 905, 4092, 3043, 3781, 2743, 3146, 2085, 71, 4253, 4639, 2105, 771, 39, 4614, 1835, 1279, 3474, 109, 4004, 3799, 1489, 1453, 1799, 4525, 1033, 4596, 3819, 3270, 2283, 2941, 2236, 3124, 573, 1530, 2397, 4644, 4108, 1545, 1419, 266, 3970, 2852, 3934, 3586, 4131, 1403, 3767, 4281, 1385, 4567, 2267, 3828, 883, 2722, 1234, 92, 502, 665, 1491, 2452, 2493, 2539, 3511, 3550, 3556, 3773, 2031, 3894, 1980, 4593, 1971, 1975, 974, 3051, 1714, 4712, 3260, 1611, 632, 96, 1280, 3420, 3475, 106, 177, 2320, 2719, 641, 896, 1593, 4165, 4452, 3975, 438, 1350, 613, 427, 4421, 1078, 2338, 3039, 1408, 3107, 570, 1462, 1868, 2507, 3742, 3608, 2699, 2515, 2444, 2963, 2086, 2616, 2826, 3541, 1886, 196, 4425, 3382, 1667, 2005, 1865, 3370, 4664, 897, 194, 1002, 12, 3093, 2195, 3211, 473, 1935, 4300, 4074, 3618, 2649, 3277, 2511, 3191, 1564, 1211, 3850, 914, 919, 3517, 4444, 3071, 2782, 2812, 3048, 4010, 4586, 1875, 2032, 4169, 1015, 1675, 2618, 2047, 3526, 3467, 2808, 2423, 3537, 859, 2118, 129, 626, 3136, 3902, 3513, 2329, 2096, 3943, 1084, 595, 3005, 773, 4013, 3913, 2188, 4672, 4110, 336, 712, 4708, 2063, 17, 3182, 494, 1736, 3358, 2409, 4382, 2706, 3816, 1441, 1965, 1676, 346, 4617, 3812, 3263, 3744, 3374, 2935, 1765, 75, 4331, 4686, 3738, 1306, 1950, 3460, 1718, 4373, 2089, 1501, 3582, 1586, 1361, 4523, 2127, 1317, 1735, 3142, 1386, 3611, 592, 2443, 733, 2400, 4103, 2927, 3130, 1307, 788, 4309, 644, 4021, 413, 3629, 2837, 3076, 2928, 1679, 1296, 3468, 3585, 4076, 1539, 846, 4239, 3509, 1770, 3103, 2840, 2845, 2622, 1529, 3296, 1605, 1656, 3461, 655, 185, 1830, 4274, 4611, 2797, 4505, 815, 5, 1318, 351, 4368, 1747, 3497, 514, 850, 615, 2263, 4321, 4124, 4711, 23, 1110, 2163, 1431, 1091, 2367, 4568, 2159, 4530, 3031, 1050, 560, 746, 820, 784, 938, 3983, 4657, 3488, 1959, 4003, 3041, 4341, 3903, 2130, 1160, 1723, 3255, 3274, 3933, 1090, 2257, 1882, 3764, 3101, 2078, 4585, 2841, 947, 3129, 1969, 1339, 2166, 3765, 588, 4374, 3362, 983, 2984, 2426, 3580, 2598, 3889, 756, 462, 4454, 1621, 1499, 4706, 379, 261, 3565, 4248, 601, 757, 2578, 1801, 110, 1351, 1498, 3169, 126, 3561, 874, 3447, 4195, 2304, 3932, 2023, 331, 829, 291, 293, 4179, 3985, 1664, 789, 2469, 45, 2584, 2245, 3393, 1393, 2013, 3750, 1804, 880, 1446, 2906, 3704, 3302, 4631, 1757, 4055, 3612, 2080, 2201, 3899, 1822, 4584, 4534, 342, 2442, 2714, 4591, 720, 4173, 4270, 2644, 4386, 101, 2655, 1292, 659, 2209, 772, 2992, 3225, 2433, 1370, 4428, 4629, 4237, 3638, 1247, 3791, 2741, 3804, 1086, 1459, 4513, 533, 4500, 3813, 3045, 3397, 3920, 3415, 3838, 1400, 1982, 259, 1603, 3378, 4129, 395, 145, 2350, 3630, 2668, 2993, 1951, 4690, 2234, 3030, 4012, 1678, 1276, 1534, 1612, 2786, 1787, 3231, 853, 945, 4434, 1566, 1762, 3288, 847, 1991, 800, 1352, 3058, 3134, 497, 121, 4056, 4259, 1189, 3538, 1150, 3311, 3251, 4286, 3197, 1473, 3478, 2440, 3482, 2064, 951, 4251, 2135, 2165, 1497, 2774, 2205, 1729, 4559, 3946, 3237, 1672, 2755, 3373, 1649, 2289, 397, 1623, 4293, 3571, 1995, 1101, 383, 429, 3898, 2238, 930, 3951, 4294, 4335, 2476, 223, 4461, 699, 3935, 1440, 2709, 1990, 2562, 2106, 3971, 2389, 4649, 3250, 2658, 1096, 3777, 1021, 569, 3708, 1427, 1380, 4234, 4121, 4167, 4120, 2368, 3621, 4621, 1531, 4260, 480, 335, 4043, 4710, 2203, 1706, 160, 308, 2175, 153, 195, 1947, 2910, 1029, 1115, 2994, 4676, 3818, 275, 2752, 4188, 2463, 2066, 2772, 4517, 2131, 3004, 4172, 4290, 1271, 1058, 306, 3622, 1233, 673, 1168, 1236, 2137, 1744, 1644, 2083, 2285, 2765, 2591, 4479, 2890, 4378, 3923, 3977, 1042, 468, 2751, 3455, 2122, 1455, 4327, 1447, 2866, 1165, 4144, 388, 2564, 3922, 3300, 1133, 1474, 1955, 2102, 3068, 2613, 2639, 2384, 2530, 2467, 2200, 1076, 1972, 3822, 4426, 2356, 1267, 3212, 2030, 2290, 1287, 1879, 3355, 3299, 779, 4150, 3085, 2006, 3145, 1304, 4516, 1728, 4519, 4314, 356, 3683, 4433, 508, 451, 333, 1904, 3737, 706, 4681, 400, 319, 844, 2354, 19, 2991, 2838, 2321, 2876, 1924, 3672, 3906, 1210, 3566, 2254, 809, 4669, 2001, 1282, 349, 972, 1557, 1337, 1128, 2416, 4329, 2020, 77, 132, 3309, 1826, 1562, 4437, 142, 1696, 2903, 1504, 3087, 4069, 2757, 4580, 112, 4365, 3700, 992, 3752, 4277, 2654, 2347, 1863, 1560, 4257, 2933, 2428, 1838, 3131, 2055, 3234, 3678, 3617, 3808, 1413, 3540, 1270, 2570, 2153, 1412, 2189, 1848, 3372, 3425, 2164, 2735, 4575, 3347, 3181, 2615, 2552, 2565, 4726, 807, 3931, 2157, 2590, 3681, 2637, 2193, 3996, 3044, 4613, 2028, 799, 1580, 3011, 685, 2748, 2497, 2401, 2888, 3599, 3032, 2923, 3594, 1356, 1841, 3096, 3247, 2549, 3160, 444, 2680, 521, 3363, 3254, 1953, 585, 4337, 2184, 2362, 909, 3911, 4410, 4445, 1436, 4244, 4619, 4088, 18, 322, 566, 119, 2348, 208, 1456, 3785, 550, 1202, 3940, 3286, 2533, 2271, 3830, 4527, 1741, 2742, 4431, 2431, 317, 539, 1986, 1232, 2485, 1773, 498, 277, 891, 656, 694, 4193, 1689, 2393, 578, 4117, 1609, 4535, 4284, 728, 3210, 2583, 3604, 3375, 3408, 1590, 2455, 1541, 3675, 4398, 3322, 1614, 2191, 4540, 1401, 1069, 2317, 455, 424, 3950, 2846, 3092, 2778, 3907, 1391, 2744, 3232, 2717, 3954, 1733, 2072, 3357, 1584, 3110, 1717, 2508, 1461, 1509, 4370, 4648, 2398, 2961, 3188, 294, 296, 478, 2324, 4671, 2413, 2522, 4174, 1063, 1095, 839, 1246, 2686, 4414, 2275, 2677, 3244, 2634, 2056, 2581, 3961, 4109, 252, 2057, 2619, 4693, 1017, 731, 4622, 3170, 2261, 334, 244, 3909, 3168, 1591, 4383, 4355, 4727, 3659, 2589, 2937, 4353, 4066, 2230, 4201, 600, 82, 4475, 4200, 793, 700, 758, 1241, 2282, 3783, 2481, 2308, 221, 2857, 2208, 353, 2645, 2471, 4160, 2959, 2025, 3409, 4424, 2952, 3086, 1166, 940, 2499, 1536, 4577, 670, 107, 3265, 2340, 2217, 1538, 1036, 3114, 2312, 2156, 1174, 1103, 3504, 3978, 3313, 2256, 464, 4554, 3176, 2299, 3203, 3754, 2058, 4633, 4450, 1137, 1360, 190, 111, 620, 163, 4207, 2027, 2266, 4537, 858, 428, 668, 2386, 1761, 1869, 2079, 4148, 2889, 3295, 3810, 4494, 2720, 2629, 3391, 3458, 1911, 4679, 2451, 3654, 1425, 4467, 3732, 4332, 95, 3884, 4698, 2115, 4106, 3729, 4557, 2110, 3019, 3709, 3083, 3536, 3982, 2821, 2459, 2111, 1922, 903, 2973, 836, 393, 1368, 1273, 4496, 1856, 3193, 1855, 1652, 4578, 2749, 2260, 852, 1004, 3665, 2206, 2957, 1480, 2414, 3669, 3710, 999, 1690, 3531, 1284, 1525, 3687, 3623, 875, 4026, 4486, 1227, 1745, 1987, 3615, 1134, 366, 634, 1152, 386, 676, 4336, 538, 3956, 4249, 3213, 4116, 2909, 1704, 2474, 3637, 4289, 742, 2098, 4225, 3289, 1559, 2140, 4460, 4307, 3421, 1344, 3294, 2796, 4044, 621, 629, 3581, 2065, 2820, 1526, 2723, 1507, 2559, 3895, 2176, 1178, 1763, 309, 2740, 2939, 4323, 3957, 1571, 3411, 3870, 1880, 2646, 352, 1295, 2724, 4151, 899, 4218, 3240, 3501, 3955, 4164, 4024, 2602, 3547, 4030, 4556, 4667, 674, 3079, 2513, 2756, 1381, 481, 920, 3516, 2375, 3863, 1300, 4597, 3359, 4464, 4320, 3993, 1516, 4605, 4186, 3494, 1515, 4604, 4090, 1298, 1518, 664, 3338, 4392, 1206, 1751, 3762, 1528, 2498, 3050, 1985, 4552, 3530, 1811, 2879, 3789, 1894, 2214, 2689, 3823, 4372, 3371, 44, 986, 811, 192, 4393, 2667, 2286, 2145, 4441, 2979, 4011, 2855, 703, 3836, 1902, 1903, 948, 358, 3897, 1082, 2454, 2332, 1627, 1946, 340, 3319, 3927, 2483, 116, 2682, 3387, 3080, 3989, 4625, 2, 2512, 2725, 1297, 247, 3325, 2082, 3871, 1734, 3949, 3685, 2461, 803, 4638, 234, 3278, 929, 2834, 314, 3769, 1602, 1635, 4623, 838, 2763, 1758, 105, 956, 537, 4716, 2690, 3858, 2516, 3385, 1642, 1943, 3997, 589, 760, 504, 425, 2202, 614, 3856, 2975, 2783, 3074, 2116, 2422, 563, 747, 2769, 3535, 2605, 1186, 2518, 2575, 678, 461, 1286, 4199, 2541, 475, 873, 2014, 3794, 4053, 3441, 3332, 131, 4315, 217, 2456, 4359, 835, 4574, 30, 594, 1057, 1169, 1055, 2790, 2651, 1748, 4709, 843, 1198, 1257, 2962, 935, 1910, 2612, 3616, 2665, 2272, 1098, 298, 228, 2309, 1484, 3553, 3466, 2563, 4269, 4016, 4699, 408, 2628, 2732, 4264, 1906, 834, 49, 2736, 2114, 2908, 1216, 1028, 695, 580, 675, 3224, 4134, 2099, 500, 3557, 398, 4409, 2259, 4582, 1023, 200, 3059, 2611, 34, 1147, 2949, 3070, 3981, 378, 3433, 4715, 1624, 3119, 405, 587, 2798, 65, 556, 3544, 4313, 4473, 11, 1655, 617, 2839, 4377, 1464, 4279, 2697, 4038, 4140, 345, 474, 782, 1998, 238, 1485, 2155, 1619, 4158, 2326, 4570, 1803, 3175, 2863, 1332, 2800, 3498, 2377, 4673, 2891, 1469, 62, 3126, 1620, 3673, 64, 282, 3947, 2585, 1871, 2710, 290, 2929, 3352, 3167, 4243, 1756, 3875, 88, 443, 3285, 4702, 4226, 1442, 3430, 63, 4703, 487, 169, 4469, 2721, 3690, 2817, 1358, 586, 344, 710, 849, 3953, 450, 292, 1749, 1135, 2224, 642, 477, 137, 3434, 3125, 2606, 4058, 1554, 609, 536, 4502, 1040, 4636, 2854, 2349, 814, 4005, 2824, 224, 3102, 3601, 2185, 1988, 3788, 1581, 2704, 3062, 1895, 3023, 3598, 649, 3528, 1382, 3692, 3380, 1533, 2183, 354, 4647, 2553, 3081, 1071, 1795, 4125, 1984, 1514, 4113, 602, 3770, 3587, 4363, 3503, 2805, 1373, 2490, 4255, 2081, 987, 2394, 3331, 876, 1732, 3698, 3522, 2035, 1781, 2599, 432, 902, 679, 173, 2695, 4000, 2012, 3381, 3992, 3991, 1054, 4316, 2988, 4146, 3634, 3712, 842, 2956, 2867, 2872, 3757, 2982, 1834, 786, 4443, 3022, 2240, 872, 3021, 3094, 2192, 4031, 715, 257, 944, 2391, 3314, 4358, 3835, 1430, 2249, 1957, 3256, 3354, 3236, 1860, 3593, 420, 650, 2503, 419, 2673, 1321, 827, 1151, 3584, 2631, 1438, 2092, 4080, 781, 4650, 4481, 3223, 690, 499, 1542, 3979, 3554, 2795, 3542, 1193, 542, 730, 2804, 912, 3960, 2134, 4659, 3843, 4488, 967, 3959, 1684, 1792, 2819, 1626, 1510, 3061, 3179, 3972, 3945, 311, 1872, 2746, 2169, 3452, 1666, 864, 3796, 3807, 2136, 3964, 1465, 2421, 1798, 1219, 2100, 2698, 4485, 404, 959, 3567, 960, 1156, 2382, 3025, 2779, 1832, 3009, 302, 3966, 118, 2601, 3720, 2965, 942, 486, 890, 1022, 3942, 3948, 2835, 2211, 463, 3312, 1599, 3928, 4246, 729, 174, 3157, 2947, 3534, 4152, 4042, 2062, 3714, 2301, 1183, 4213, 402, 1784, 2764, 2966, 3155, 2158, 4105, 1407, 2825, 2150, 2999, 6, 2379, 2355, 1639, 605, 3867, 4291, 913, 519, 3410, 171, 52, 3588, 1730, 1172, 1631, 4046, 421, 1702, 2445, 1476, 1915, 467, 3576, 2075, 561, 884, 359, 3078, 2785, 515, 971, 4048, 2766, 3910, 4697, 2489, 1788, 1551, 3339, 1546, 1347, 4312, 3139, 4415, 3780, 739, 1636, 4661, 2829, 2560, 4023, 1429, 3335, 506, 323, 4288, 4376, 4087, 1027, 2233, 1793, 4589, 3267, 3138, 4628, 1568, 3988, 3548, 3395, 3337, 851, 128, 1371, 1333, 2306, 4685, 4280, 2091, 501, 3493, 4242, 1268, 4349, 984, 1945, 3842, 407, 98, 1699, 663, 2470, 3428, 4135, 2119, 1876, 523, 4634, 2657, 2535, 2420, 1640, 3888, 330, 1588, 4028, 1313, 1746, 2108, 3724, 693, 598, 3198, 4295, 2410, 3180, 1552, 1613, 4100, 2472, 2339, 1328, 4130, 3755, 2385, 3694, 1301, 4206, 1406, 4322, 1122, 357, 2449, 4670, 2277, 3671, 2160, 4132, 3782, 303, 135, 4503, 512, 2892, 3120, 4198, 1823, 4205, 3230, 1329, 1543, 4143, 3042, 367, 390, 440, 1556, 304, 2381, 1643, 80, 638, 3219, 3688, 1494, 3697, 1342, 4352, 2218, 1983, 287, 1185, 4449, 976, 4357, 387, 3208, 4508, 2773, 2734, 162, 1309, 269, 3479, 722, 46, 955, 3033, 3315, 1583, 2983, 4091, 3105, 3440, 2705, 1820, 3350, 3038, 4529, 1949, 1139, 83, 3590, 1940, 2407, 2068, 2693, 2660, 4099, 2458, 3691, 4618, 4182, 1896, 1085, 1207, 1814, 2920, 4678, 1783, 3159, 31, 4282, 2258, 1260, 565, 72, 4453, 2019, 1884, 2870, 2178, 2814, 2097, 347, 2074, 3383, 355, 958, 1650, 3465, 2045, 2274, 2141, 3432, 2750, 3454, 1428, 2352, 152, 470, 2212, 3523, 802, 545, 1006, 381, 439, 1005, 1020, 4018, 2302, 1274, 3668, 2436, 2934, 559, 4192, 3317, 1466, 3095, 3575, 1335, 4219, 657, 3273, 1802, 863, 1857, 2703, 227, 2152, 1954, 1144, 3133, 2972, 1311, 369, 3329, 1577, 4491, 1550, 511, 161, 2588, 1587, 3795, 4487, 2033, 4489, 3165, 3216, 4722, 2568, 3613, 1874, 1457, 3661, 1555, 2011, 1121, 4153, 1378, 4483, 2477, 4463, 3394, 1779, 401, 2215, 1299, 3880, 797, 2061, 2328, 3592, 855, 3320, 90, 4083, 4285, 4364, 2502, 3109, 1195, 120, 125, 4228, 1589, 1579, 415, 1343, 3034, 3607, 4384, 1778, 3914, 1852, 3974, 4301, 4161, 2771, 3564, 3885, 3579, 4549, 3422, 1346, 1262, 156, 2679, 3834, 1164, 2561, 211, 837, 2242, 898, 2594, 3186, 1372, 2298, 1214, 199, 488, 4029, 2161, 2887, 652, 870, 993, 1844, 1697, 4472, 3268, 744, 9, 1410, 2621, 3162, 3693, 1454, 2151, 1936, 2222, 2753, 2543, 3476, 2252, 4408, 1369, 3652, 2460, 4102, 1018, 1112, 459, 916, 248, 1179, 745, 362, 937, 414, 555, 58, 4588, 2251, 3264, 3686, 1433, 3965, 2123, 1695, 692, 2828, 936, 1180, 1326, 4595, 541, 297, 4655, 1229, 2747, 4684, 210, 1604, 3915, 3132, 2506, 2292, 2528, 1264, 3876, 2711, 654, 4101, 4642, 1890, 4518, 1445, 278, 2319, 3384, 1375, 603, 918, 596, 513, 1663, 3249, 4128, 1467, 2276, 1143, 1003, 1046, 4138, 1129, 1862, 1162, 1221, 1163, 4411, 2534, 4356, 3307, 2226, 4020, 4197, 3696, 4342, 1421, 1081, 3463, 687, 1107, 2969, 232, 979, 246, 271, 1570, 2044, 3657, 1196, 4608, 4440, 1269, 29, 2478, 973, 507, 754, 1141, 4666, 957, 725, 1800, 3171, 1905, 660, 2294, 3695, 1093, 2938, 35, 683, 821, 3811, 1308, 4599, 78, 25, 4347, 2884, 172, 680, 2333, 2860, 943, 2453, 1120, 2305, 205, 841, 1989, 305, 396, 434, 1450, 964, 1892, 3739, 3462, 4721, 68, 1053, 361, 4542, 1898, 1475, 189, 708, 1254, 1637, 203, 1685, 372, 4566, 1701, 969, 2799, 975, 766, 4607, 4268, 1014, 3743, 628, 2883, 3361, 3194, 2186, 889, 557, 684, 1341, 1319, 14, 2482, 3152, 1417, 239, 270, 3649, 1901, 3166, 736, 2464, 3990, 819, 226, 2361, 2607, 268, 581, 1468, 37, 1775, 24, 3365, 2466, 3055, 4170, 1070, 3619, 3916, 608, 2221, 643, 2126, 1458, 2419, 1850, 980, 1008, 229, 2018, 3392, 1916, 1217, 1754, 4640, 3116, 3726, 2776, 3711, 3747, 1275, 4217, 2052, 3924, 571, 3222, 3451, 3282, 2626, 2223, 548, 952, 1038, 4427, 1625, 2707, 2640, 1348, 3060, 4480, 770, 3892, 2802, 3707, 3555, 3221, 1565, 3353, 597, 2170, 4563, 3341, 1226, 375, 574, 3573, 2038, 4045, 4060, 4159, 1415, 4401, 719, 812, 924, 3633, 4025, 998, 866, 3489, 1222, 230, 1067, 953, 202, 40, 3952, 4298, 3118, 4001, 466, 635, 1177, 1176, 1051, 1052, 672, 2715, 3998, 1981, 1387, 1253, 1116, 2787, 2269, 4615, 4319, 2465, 1434, 702, 3740, 1338, 2913, 2173, 3499, 4107, 2809, 3117, 4576, 4304, 3883, 4484, 1918, 3758, 3529, 4348, 1939, 2104, 2371, 1647, 2101, 2859, 2357, 2480, 623, 1010, 4546, 4432, 206, 79, 3878, 4493, 1305, 4718, 1357, 2523, 3491, 51, 8, 2484, 3717, 382, 4216, 2729, 240, 547, 2678, 3904, 4423, 658, 242, 3500, 321, 991, 4562, 3360, 417, 4073, 3158, 4532, 4497, 1721, 1617, 1651, 4236, 4728, 963, 435, 4333, 2712, 651, 832, 108, 640, 1061, 2767, 544, 1653, 879, 709, 2446, 2932, 2322, 3999, 3326, 1377, 2832, 2671, 1682, 2146, 778, 181, 4498, 4233, 1479, 2880, 4039, 465, 752, 921, 3572, 350, 320, 915, 1853, 2046, 1710, 4361, 868, 2439, 4019, 2148, 3099, 735, 1125, 1873, 4663, 1495, 3574, 4396, 1960, 996, 3973, 2862, 4070, 2004, 4470, 769, 1633, 2656, 503, 4656, 2685, 3098, 3847, 1289, 865, 66, 1181, 1149, 885, 1049, 313, 220, 1173, 887, 817, 1059, 2441, 1877, 1654, 2818, 4149, 3731, 3651, 3283, 1492, 1535, 794, 2051, 1334, 134, 3976, 3784, 3276, 748, 54, 1482, 286, 3418, 2784, 391, 723, 4296, 1171, 4222, 2851, 4002, 2816, 4224, 1908, 3412, 2143, 1764, 2363, 1263, 1355, 2043, 575, 2437, 2002, 3670, 925, 633, 4063, 893, 4203, 2760, 845, 1187, 2881, 3401, 2901, 3490, 3279, 4181, 4344, 4572, 3293, 1845, 2696, 4235, 2777, 1238, 3741, 3987, 3620, 4062, 3449, 1914, 3603, 3605, 490, 2524, 1047, 2827, 3090, 4492, 81, 235, 1416, 216, 825, 146, 2120, 1808, 3153, 1819, 4477, 2538, 3072, 360, 2284, 4390, 4275, 245, 3848, 452, 376, 526, 2951, 3539, 1336, 2844, 3287, 2596, 1878, 4399, 4211, 3100, 2967, 454, 236, 1513, 1948, 2953, 2930, 2675, 2831, 2210, 1108, 522, 946, 977, 2617, 2708, 704, 4052, 3790, 3748, 510, 2418, 1660, 4495, 4391, 3801, 1752, 4600, 2587, 3248, 2792, 2794, 4689, 790, 2462, 4250, 1897, 4499, 4719, 1806, 3104, 1578, 1929, 1738, 1715, 3533, 4547, 1708, 91, 762, 3003, 3543, 3464, 343, 4171, 981, 2681, 3065, 3756, 882, 1154, 576, 2300, 3563, 1755, 4653, 1921, 16, 4551, 3082, 1836, 4185, 2813, 2330, 2359, 1503, 3792, 1520, 3084, 2380, 3610, 2017, 4723, 2204, 749, 3846, 57, 1966, 136, 1256, 2034, 1064, 2071, 2904, 3364, 2998, 3631, 10, 3609, 1767, 3406, 1320, 337, 857, 300, 4123, 2540, 2970, 3388, 122, 4272, 1205, 2847, 524, 165, 1920, 2931, 1692, 3233, 1967, 1505, 2280, 492, 1913, 3321, 2296, 4085, 696, 527, 2604, 3183, 927, 3356, 4553, 3284, 3751, 3939, 3879, 1840, 3290, 3113, 1506, 1089, 1138, 3002, 456, 1508, 1019, 3702, 2789, 2243, 2297, 2430, 1443, 3803, 1680, 2897, 2948, 637, 26, 3445, 295, 3306, 3962, 792, 1925, 1919, 4412, 2728, 667, 167, 4196, 2273, 1056, 3215, 3706, 73, 89, 2255, 2314, 801, 260, 143, 3047, 2558, 1265, 3648, 2727, 1670, 2600, 4476, 2434, 2882, 3199, 1575, 1887, 1994, 267, 67, 50, 698, 4627, 828, 1956, 4354, 3872, 3088, 3930, 3185, 1576, 1743, 2916, 430, 2310, 532, 225, 338, 1815, 2670, 2674, 2902, 41, 854, 496, 2875, 2593, 2190, 1768, 1312, 1629, 4714, 3825, 3887, 1687, 279, 4302, 892, 489, 775, 982, 583, 732, 249, 877, 318, 805, 2501, 2335, 2858, 707, 384, 1191, 1032, 254, 1175, 553, 923, 4720, 4541, 1365, 0, 2424, 4156, 1383, 2627, 2425, 4338, 4184, 15, 2318, 1248, 2850, 3229, 1725, 4027, 795, 4564, 2597, 830, 1000, 3014, 1102, 4474, 94, 2372, 4435, 3484, 1615, 1821, 4064, 2327, 3426, 727, 1641, 4704, 4035, 1521, 787, 4072, 4700, 2488, 3379, 1952, 2199, 878, 831, 2868, 3679, 2761, 36, 1825, 4086, 2759, 2331, 1569, 1937, 1997, 1142, 3519, 806, 4292, 2915, 4637, 3149, 3148, 1713, 3147, 4405, 4261, 2718, 186, 2448, 577, 1155, 653, 1035, 1109, 301, 4227, 3235, 4395, 3492, 1816, 2095, 1934, 791, 4202, 2323, 1388, 1977, 1500, 3204, 4204, 4514, 599, 389, 1397, 3480, 2536, 76, 3007, 255, 2691, 3477, 4241, 612, 531, 4238, 2262, 3214, 4561, 721, 582, 2376, 4456, 204, 622, 1582, 1066, 4573, 2288, 4371, 3646, 3866, 1224, 280, 4114, 1119, 1310, 4096, 1249, 1963, 3368, 3438, 1340, 4220, 2492, 1105, 1487, 4340, 682, 2048, 1782, 2580, 1493, 3597, 2791, 2954, 1080, 2643, 3431, 4442, 3292, 426, 469, 2842, 2955, 4558, 2586, 2556, 3864, 3450, 1364, 4544, 1600, 3301, 3024, 392, 1973, 2040, 4223, 4081, 4014, 4297, 2232, 1283, 1011, 4451, 2917, 53, 4317, 3674, 3749, 3330, 3596, 3035, 1677, 997, 740, 535, 618, 4478, 1932, 2133, 2898, 2950, 138, 3865, 4643, 1753, 2635, 3995, 431, 4115, 2940, 4569, 2877, 1731, 4075, 2775, 1213, 826, 2168, 1092, 3809, 1444, 273, 2641, 724, 4506, 70, 4077, 3625, 4334, 3844, 1001, 3774, 3135, 1258, 2129, 3423, 2514, 3570, 3912, 4111, 4592, 1891, 3855, 1145, 2179, 123, 2239, 4446, 315, 4550, 1188, 3680, 1740, 3111, 445, 74, 3154, 989, 3936, 1330, 4163, 2579, 3868, 1363, 2745, 3666, 4420, 1231, 3413, 3896, 3366, 4662, 1374, 341, 1658, 2945, 1123, 1031, 1933, 1349, 3833, 155, 139, 2980, 374, 646, 1190, 3453, 1316, 4602, 1750, 1842, 3404, 176, 84, 950, 209, 2960, 2921, 755, 1866, 1864, 3626, 363, 140, 411, 1131, 158, 377, 3771, 1278, 3733, 3793, 3200, 2907, 4351, 3650, 1686, 4230, 525, 483, 1016, 1645, 1314, 1979, 3106, 21, 922, 1184, 4581, 1259, 3077, 4245, 328, 572, 3008, 4008, 2406, 207, 2861, 3444, 4095, 4094, 2630, 2995, 1828, 2053, 1512, 2996, 4362, 3502, 4606, 2344, 1610, 2144, 2213, 2573, 3944, 2620, 2971, 3653, 726, 4694, 4229, 3328, 1759, 2087, 458, 1215, 4482, 1776, 4154, 2494, 3266, 1537, 2548, 4145, 406, 2281, 2351, 611, 1261, 3275, 1025, 2687, 3786, 1742, 2225, 1563, 3127, 4388, 551, 840, 3209, 2801, 3938, 2197, 3589, 2672, 2295, 900, 1817, 3800, 222, 3308, 3918, 988, 482, 3827, 516, 22, 1634, 4458, 329, 437, 2149, 3814, 262, 824, 4603, 3730, 198, 562, 4343, 3261, 2162, 4162, 2856, 645, 761, 3091, 4118, 711, 3917, 3151, 888, 1601, 4601, 886, 688, 2174, 316, 3857, 861, 2417, 3746, 168, 3291, 2103, 4674, 3969, 3377, 3874, 1302, 3606, 4471, 2886, 1204, 1106, 1094, 894, 253, 2964, 1486, 3218, 579, 965, 3417, 1681, 3376, 3821, 528, 3815, 2026, 2008, 3013, 1709, 4504, 1402, 1252, 3689, 2229, 1294, 4122, 4009, 4057, 3089, 3483, 2624, 3614, 1291, 4262, 2911, 3177, 3628, 3760, 1322, 47, 2370, 1843, 2803, 2487, 2731, 3658, 1432, 3735, 2041, 1223, 3840, 4510, 2408, 4007, 1661, 2849, 4466, 2399, 2307, 4626, 3327, 3908, 904, 2325, 1646, 3396, 4459, 93, 1239, 4082, 1812, 3919, 3778, 934, 941, 4189, 2519, 4133, 281, 2278, 2366, 4084, 1831, 1072, 3141, 4465, 2768, 3259, 1923, 175, 661, 1159, 3595, 3515, 2036, 3046, 4406, 717, 4078, 144, 1170, 3075, 4394, 2989, 2811, 1846, 4209, 2227, 2848, 2603, 1927, 1197, 1472, 1928, 4256, 265, 373, 1045, 1847, 4210, 87, 3442, 2198, 1608, 1037, 4668, 184, 193, 3787, 233, 61, 2411, 4418, 625, 1323, 2070, 1766, 2429, 1088, 4571, 1827, 933, 4252, 2396, 1153, 4717, 4061, 2647, 1970, 3806, 3405, 1411, 2220, 448, 2473, 288, 2582, 2039, 2976, 1851, 765, 3797, 4651, 4400, 4177, 2595, 3495, 3207, 2094, 1266, 1992, 2378, 1117, 639, 810, 2022, 4512, 558, 3173, 4521, 4413, 4051, 636, 926, 115, 3333, 258, 1146, 3340, 4455, 212, 187, 368, 3272, 4560, 159, 2358, 472, 4381, 2293, 3437, 1854, 4677, 4397, 3660, 2125, 2529, 3402, 274, 823, 4658, 3775, 1716, 1659, 2833, 630, 631, 978, 610, 3727, 1200, 3115, 3456, 2572, 4068, 2264, 4725, 822, 3958, 2942, 713, 1435, 2716, 910, 324, 4033, 256, 3545, 1251, 4089, 433, 231, 3427, 2547, 4022, 1097, 2177, 3527, 4221, 127, 4713, 911, 1030, 2702, 1707, 4208, 4387, 1789, 3297, 869, 1809, 716, 741, 3367, 2147, 4612, 3980, 1519, 3052, 1859, 1127, 4501, 4531, 43, 149, 1772, 1009, 4040, 554, 2997, 1724, 48, 1930, 3342, 1062, 1124, 985, 2726, 2652, 4318, 4049, 3398, 4515, 2864, 4448, 1034, 276, 2432, 931, 3986, 471, 1448, 4276, 759, 4155, 3485, 3829, 3839, 3882, 1359, 3578, 2171, 1384, 2109, 1833, 272, 1192, 1132, 1182, 364, 241, 55, 534, 647, 3205, 3228, 4407, 2793, 1331, 1961, 4310, 3481, 3246, 4509, 1893, 4367, 1691, 906, 332, 2107, 2924, 3443, 2479, 250, 1114, 423, 130, 197, 243, 2132, 1439, 3054, 1065, 701, 3057, 1422, 3137, 3245, 4511, 3705, 2007, 191, 1041, 69, 3849, 627, 2291, 4263, 215, 4212, 2009, 1044, 493, 1235, 299, 1594, 3722, 4041, 4147, 4385, 1488, 3505, 671, 2231, 4097, 1705, 2576, 3728, 447, 705])\n",
      "[[0 0 0 ... 0 0 0]\n",
      " [0 0 0 ... 0 0 0]\n",
      " [0 0 0 ... 0 0 0]\n",
      " ...\n",
      " [0 0 0 ... 0 0 0]\n",
      " [0 0 0 ... 0 0 0]\n",
      " [0 0 0 ... 0 0 0]]\n"
     ]
    }
   ],
   "source": [
    "from sklearn.feature_extraction.text import CountVectorizer\n",
    "\n",
    "vectorizer =  CountVectorizer(min_df=0, lowercase=False,stop_words='english') # will also remove punctuation or stop words\n",
    "vectorizer.fit(merged_sentences_train)\n",
    "\n",
    "Merged_X_train = vectorizer.transform(merged_sentences_train).toarray()\n",
    "Merged_X_test  = vectorizer.transform(merged_sentences_test).toarray()\n",
    "\n",
    "print(\"Training matrix shape\", Merged_X_train.shape)\n",
    "print(\"Testing matrix shape\", Merged_X_test.shape)\n",
    "print(\"Vocabulary: \",vectorizer.vocabulary_)\n",
    "print(\"Vocabulary words: \",vectorizer.vocabulary_.keys())\n",
    "print(\"Vocabulary index: \",vectorizer.vocabulary_.values())\n",
    "print(Merged_X_train)"
   ]
  },
  {
   "cell_type": "markdown",
   "metadata": {
    "id": "SIo7h_FRT_JW"
   },
   "source": [
    "**Applying Logistic Regression**"
   ]
  },
  {
   "cell_type": "code",
   "execution_count": 10,
   "metadata": {
    "colab": {
     "base_uri": "https://localhost:8080/"
    },
    "executionInfo": {
     "elapsed": 979,
     "status": "ok",
     "timestamp": 1605059006474,
     "user": {
      "displayName": "Tasnuva Tehrin",
      "photoUrl": "",
      "userId": "04231041290543336108"
     },
     "user_tz": 360
    },
    "id": "CTQEJbM4UJkH",
    "outputId": "72fc642e-d207-4e5c-a3bd-dd7a577d0478"
   },
   "outputs": [
    {
     "name": "stdout",
     "output_type": "stream",
     "text": [
      "Accuracy of Merged logistic model: 0.7758369723435226\n"
     ]
    }
   ],
   "source": [
    "from sklearn.linear_model import LogisticRegression\n",
    "\n",
    "logistic_classifier = LogisticRegression()\n",
    "logistic_classifier.fit(Merged_X_train, merged_y_train)\n",
    "score = logistic_classifier.score(Merged_X_test, merged_y_test)\n",
    "print(\"Accuracy of Merged logistic model:\", score)"
   ]
  },
  {
   "cell_type": "markdown",
   "metadata": {
    "id": "QVDlyPypUSaS"
   },
   "source": [
    "**Applying Neural Network**"
   ]
  },
  {
   "cell_type": "code",
   "execution_count": 11,
   "metadata": {
    "colab": {
     "base_uri": "https://localhost:8080/"
    },
    "executionInfo": {
     "elapsed": 48400,
     "status": "ok",
     "timestamp": 1605059056449,
     "user": {
      "displayName": "Tasnuva Tehrin",
      "photoUrl": "",
      "userId": "04231041290543336108"
     },
     "user_tz": 360
    },
    "id": "oI7CxNXKUNzr",
    "outputId": "b17ab0dc-5a33-45a1-be01-f5d57a8632ca"
   },
   "outputs": [
    {
     "name": "stdout",
     "output_type": "stream",
     "text": [
      "Epoch 1/50\n",
      "371/371 [==============================] - 1s 3ms/step - loss: 0.6826 - accuracy: 0.6203 - val_loss: 0.6720 - val_accuracy: 0.6908\n",
      "Epoch 2/50\n",
      "371/371 [==============================] - 1s 2ms/step - loss: 0.6392 - accuracy: 0.8296 - val_loss: 0.6517 - val_accuracy: 0.7246\n",
      "Epoch 3/50\n",
      "371/371 [==============================] - 1s 2ms/step - loss: 0.5991 - accuracy: 0.8991 - val_loss: 0.6345 - val_accuracy: 0.7295\n",
      "Epoch 4/50\n",
      "371/371 [==============================] - 1s 2ms/step - loss: 0.5628 - accuracy: 0.9148 - val_loss: 0.6198 - val_accuracy: 0.7391\n",
      "Epoch 5/50\n",
      "371/371 [==============================] - 1s 2ms/step - loss: 0.5302 - accuracy: 0.9261 - val_loss: 0.6056 - val_accuracy: 0.7536\n",
      "Epoch 6/50\n",
      "371/371 [==============================] - 1s 2ms/step - loss: 0.5006 - accuracy: 0.9347 - val_loss: 0.5925 - val_accuracy: 0.7729\n",
      "Epoch 7/50\n",
      "371/371 [==============================] - 1s 2ms/step - loss: 0.4740 - accuracy: 0.9374 - val_loss: 0.5814 - val_accuracy: 0.7681\n",
      "Epoch 8/50\n",
      "371/371 [==============================] - 1s 2ms/step - loss: 0.4498 - accuracy: 0.9444 - val_loss: 0.5716 - val_accuracy: 0.7826\n",
      "Epoch 9/50\n",
      "371/371 [==============================] - 1s 2ms/step - loss: 0.4276 - accuracy: 0.9477 - val_loss: 0.5642 - val_accuracy: 0.7874\n",
      "Epoch 10/50\n",
      "371/371 [==============================] - 1s 3ms/step - loss: 0.4073 - accuracy: 0.9488 - val_loss: 0.5562 - val_accuracy: 0.7923\n",
      "Epoch 11/50\n",
      "371/371 [==============================] - 1s 2ms/step - loss: 0.3886 - accuracy: 0.9525 - val_loss: 0.5490 - val_accuracy: 0.7971\n",
      "Epoch 12/50\n",
      "371/371 [==============================] - 1s 2ms/step - loss: 0.3713 - accuracy: 0.9552 - val_loss: 0.5446 - val_accuracy: 0.7971\n",
      "Epoch 13/50\n",
      "371/371 [==============================] - 1s 2ms/step - loss: 0.3553 - accuracy: 0.9552 - val_loss: 0.5391 - val_accuracy: 0.7971\n",
      "Epoch 14/50\n",
      "371/371 [==============================] - 1s 2ms/step - loss: 0.3403 - accuracy: 0.9569 - val_loss: 0.5335 - val_accuracy: 0.8019\n",
      "Epoch 15/50\n",
      "371/371 [==============================] - 1s 2ms/step - loss: 0.3265 - accuracy: 0.9606 - val_loss: 0.5289 - val_accuracy: 0.8019\n",
      "Epoch 16/50\n",
      "371/371 [==============================] - 1s 2ms/step - loss: 0.3135 - accuracy: 0.9606 - val_loss: 0.5232 - val_accuracy: 0.8019\n",
      "Epoch 17/50\n",
      "371/371 [==============================] - 1s 2ms/step - loss: 0.3012 - accuracy: 0.9612 - val_loss: 0.5198 - val_accuracy: 0.8068\n",
      "Epoch 18/50\n",
      "371/371 [==============================] - 1s 2ms/step - loss: 0.2899 - accuracy: 0.9633 - val_loss: 0.5167 - val_accuracy: 0.8068\n",
      "Epoch 19/50\n",
      "371/371 [==============================] - 1s 2ms/step - loss: 0.2791 - accuracy: 0.9649 - val_loss: 0.5137 - val_accuracy: 0.8068\n",
      "Epoch 20/50\n",
      "371/371 [==============================] - 1s 2ms/step - loss: 0.2690 - accuracy: 0.9660 - val_loss: 0.5114 - val_accuracy: 0.8068\n",
      "Epoch 21/50\n",
      "371/371 [==============================] - 1s 2ms/step - loss: 0.2595 - accuracy: 0.9671 - val_loss: 0.5078 - val_accuracy: 0.8068\n",
      "Epoch 22/50\n",
      "371/371 [==============================] - 1s 2ms/step - loss: 0.2505 - accuracy: 0.9687 - val_loss: 0.5059 - val_accuracy: 0.8068\n",
      "Epoch 23/50\n",
      "371/371 [==============================] - 1s 2ms/step - loss: 0.2420 - accuracy: 0.9703 - val_loss: 0.5064 - val_accuracy: 0.8019\n",
      "Epoch 24/50\n",
      "371/371 [==============================] - 1s 2ms/step - loss: 0.2340 - accuracy: 0.9714 - val_loss: 0.5031 - val_accuracy: 0.8068\n",
      "Epoch 25/50\n",
      "371/371 [==============================] - 1s 2ms/step - loss: 0.2263 - accuracy: 0.9720 - val_loss: 0.5015 - val_accuracy: 0.8019\n",
      "Epoch 26/50\n",
      "371/371 [==============================] - 1s 2ms/step - loss: 0.2191 - accuracy: 0.9720 - val_loss: 0.5008 - val_accuracy: 0.8019\n",
      "Epoch 27/50\n",
      "371/371 [==============================] - 1s 2ms/step - loss: 0.2121 - accuracy: 0.9720 - val_loss: 0.5004 - val_accuracy: 0.8019\n",
      "Epoch 28/50\n",
      "371/371 [==============================] - 1s 2ms/step - loss: 0.2056 - accuracy: 0.9725 - val_loss: 0.4985 - val_accuracy: 0.8019\n",
      "Epoch 29/50\n",
      "371/371 [==============================] - 1s 2ms/step - loss: 0.1994 - accuracy: 0.9720 - val_loss: 0.4983 - val_accuracy: 0.8019\n",
      "Epoch 30/50\n",
      "371/371 [==============================] - 1s 2ms/step - loss: 0.1935 - accuracy: 0.9720 - val_loss: 0.4978 - val_accuracy: 0.8019\n",
      "Epoch 31/50\n",
      "371/371 [==============================] - 1s 2ms/step - loss: 0.1878 - accuracy: 0.9730 - val_loss: 0.4968 - val_accuracy: 0.8019\n",
      "Epoch 32/50\n",
      "371/371 [==============================] - 1s 2ms/step - loss: 0.1824 - accuracy: 0.9741 - val_loss: 0.4972 - val_accuracy: 0.8019\n",
      "Epoch 33/50\n",
      "371/371 [==============================] - 1s 3ms/step - loss: 0.1773 - accuracy: 0.9741 - val_loss: 0.4958 - val_accuracy: 0.8019\n",
      "Epoch 34/50\n",
      "371/371 [==============================] - 1s 2ms/step - loss: 0.1723 - accuracy: 0.9746 - val_loss: 0.4968 - val_accuracy: 0.8068\n",
      "Epoch 35/50\n",
      "371/371 [==============================] - 1s 2ms/step - loss: 0.1676 - accuracy: 0.9752 - val_loss: 0.4970 - val_accuracy: 0.8068\n",
      "Epoch 36/50\n",
      "371/371 [==============================] - 1s 2ms/step - loss: 0.1631 - accuracy: 0.9757 - val_loss: 0.4973 - val_accuracy: 0.8068\n",
      "Epoch 37/50\n",
      "371/371 [==============================] - 1s 2ms/step - loss: 0.1588 - accuracy: 0.9757 - val_loss: 0.4975 - val_accuracy: 0.8019\n",
      "Epoch 38/50\n",
      "371/371 [==============================] - 1s 2ms/step - loss: 0.1547 - accuracy: 0.9763 - val_loss: 0.4989 - val_accuracy: 0.8068\n",
      "Epoch 39/50\n",
      "371/371 [==============================] - 1s 2ms/step - loss: 0.1507 - accuracy: 0.9757 - val_loss: 0.4990 - val_accuracy: 0.8068\n",
      "Epoch 40/50\n",
      "371/371 [==============================] - 1s 2ms/step - loss: 0.1468 - accuracy: 0.9757 - val_loss: 0.5002 - val_accuracy: 0.8116\n",
      "Epoch 41/50\n",
      "371/371 [==============================] - 1s 2ms/step - loss: 0.1432 - accuracy: 0.9763 - val_loss: 0.5017 - val_accuracy: 0.8116\n",
      "Epoch 42/50\n",
      "371/371 [==============================] - 1s 2ms/step - loss: 0.1397 - accuracy: 0.9773 - val_loss: 0.5011 - val_accuracy: 0.8068\n",
      "Epoch 43/50\n",
      "371/371 [==============================] - 1s 3ms/step - loss: 0.1363 - accuracy: 0.9768 - val_loss: 0.5024 - val_accuracy: 0.8019\n"
     ]
    }
   ],
   "source": [
    "from keras.callbacks import EarlyStopping, ModelCheckpoint\n",
    "from keras.layers import Dropout,Activation\n",
    "from keras.layers import BatchNormalization,Dense\n",
    "from keras.regularizers import l2\n",
    "from keras import initializers,Sequential\n",
    "import numpy as np\n",
    "keras_callbacks   = [\n",
    "      EarlyStopping(monitor='val_loss', patience=10, mode='min', min_delta=0.0001),\n",
    "      ModelCheckpoint('./checkmodel.h5', monitor='val_loss', save_best_only=True, mode='min')\n",
    "]\n",
    "\n",
    "def build_model(n_layers = 2, n_neurons = 1000,initializer='uniform'):\n",
    "  \n",
    "  if initializer == 'uniform':\n",
    "    w_in = np.sqrt(0.001)\n",
    "    initializer = initializers.RandomUniform(minval=-w_in, maxval=w_in)\n",
    "  else:\n",
    "    #https://www.tensorflow.org/api_docs/python/tf/keras/initializers/GlorotNormal\n",
    "    initializer = initializers.glorot_normal()\n",
    "  \n",
    "  model = Sequential() # create Sequential model\n",
    "  for i in range(n_layers-1):\n",
    "      model.add(Dense(n_neurons, kernel_initializer=initializer))\n",
    "      model.add(BatchNormalization()) ## add batch normalization before activation\n",
    "      model.add(Activation('relu'))\n",
    "      model.add(Dropout(0.2))\n",
    "  model.add(Dense(1, activation = 'sigmoid', kernel_initializer=initializer)) \n",
    "  return model\n",
    "\n",
    "merged_model = build_model(n_layers = 1, n_neurons = 10,initializer='uniform')\n",
    "merged_model.compile(loss = \"binary_crossentropy\", optimizer = \"adam\", metrics = ['accuracy'])\n",
    "\n",
    "train_history_merged = merged_model.fit(Merged_X_train,merged_y_train, validation_split=0.1, batch_size = 5, epochs = 50, callbacks=keras_callbacks)"
   ]
  },
  {
   "cell_type": "code",
   "execution_count": 12,
   "metadata": {
    "colab": {
     "base_uri": "https://localhost:8080/"
    },
    "executionInfo": {
     "elapsed": 219,
     "status": "ok",
     "timestamp": 1605059058987,
     "user": {
      "displayName": "Tasnuva Tehrin",
      "photoUrl": "",
      "userId": "04231041290543336108"
     },
     "user_tz": 360
    },
    "id": "eP3yGpv7UfDp",
    "outputId": "923ddd4f-9a60-4db6-b6ff-cbb8cb78b44b"
   },
   "outputs": [
    {
     "name": "stdout",
     "output_type": "stream",
     "text": [
      "22/22 [==============================] - 0s 2ms/step - loss: 0.4663 - accuracy: 0.7802\n",
      "Accuracy of Merged neural network model: 0.7802037596702576\n"
     ]
    }
   ],
   "source": [
    "print(\"Accuracy of Merged neural network model:\", merged_model.evaluate(Merged_X_test, merged_y_test)[1])"
   ]
  },
  {
   "cell_type": "code",
   "execution_count": 13,
   "metadata": {
    "colab": {
     "base_uri": "https://localhost:8080/",
     "height": 297
    },
    "executionInfo": {
     "elapsed": 1064,
     "status": "ok",
     "timestamp": 1605058504897,
     "user": {
      "displayName": "Tasnuva Tehrin",
      "photoUrl": "",
      "userId": "04231041290543336108"
     },
     "user_tz": 360
    },
    "id": "bbbdEdJCUmgU",
    "outputId": "bf912137-cd1d-4a2a-d1ac-5e4d4f43eea7"
   },
   "outputs": [
    {
     "data": {
      "image/png": "[encoded data removed]",
      "text/plain": [
       "<Figure size 864x288 with 2 Axes>"
      ]
     },
     "metadata": {
      "needs_background": "light",
      "tags": []
     },
     "output_type": "display_data"
    }
   ],
   "source": [
    "import matplotlib.pyplot as plt\n",
    "plt.figure(figsize=(12,4))\n",
    "\n",
    "plt.subplot(1,2,1)\n",
    "# Plot training & validation loss values\n",
    "plt.plot(train_history_merged.history['loss'], label='Train')\n",
    "plt.plot(train_history_merged.history['val_loss'], label='Validation')\n",
    "plt.title('Training & Validation Loss', fontsize=15)\n",
    "plt.ylabel('Loss', fontsize=15)\n",
    "plt.xlabel('Epoch', fontsize=15)\n",
    "plt.xticks( fontsize=12)\n",
    "plt.yticks( fontsize=12)\n",
    "plt.legend(loc='upper right', fontsize=12)\n",
    "\n",
    "\n",
    "plt.subplot(1,2,2)\n",
    "# Plot training & validation accuracy values\n",
    "plt.plot(train_history_merged.history['accuracy'], label='Train')\n",
    "plt.plot(train_history_merged.history['val_accuracy'], label='Validation')\n",
    "plt.title('Training & Validation accuracy', fontsize=15)\n",
    "plt.ylabel('accuracy', fontsize=15)\n",
    "plt.xlabel('Epoch', fontsize=15)\n",
    "plt.xticks( fontsize=12)\n",
    "plt.yticks( fontsize=12)\n",
    "plt.legend(loc='lower right', fontsize=12)\n",
    "\n",
    "plt.tight_layout()\n",
    "plt.show()"
   ]
  },
  {
   "cell_type": "markdown",
   "metadata": {
    "id": "S6sVnn63Vrf_"
   },
   "source": [
    "**Word Embedding: Rerepresent each word as a vector.**"
   ]
  },
  {
   "cell_type": "code",
   "execution_count": 13,
   "metadata": {
    "colab": {
     "base_uri": "https://localhost:8080/"
    },
    "executionInfo": {
     "elapsed": 226,
     "status": "ok",
     "timestamp": 1605059063229,
     "user": {
      "displayName": "Tasnuva Tehrin",
      "photoUrl": "",
      "userId": "04231041290543336108"
     },
     "user_tz": 360
    },
    "id": "8sq86hlm8Th5",
    "outputId": "10d78ab5-46db-41f5-fdc2-ecb61bca4485"
   },
   "outputs": [
    {
     "name": "stdout",
     "output_type": "stream",
     "text": [
      "['Were JERKS on the phone.'\n",
      " 'Great time - family dinner on a Sunday night.' 'Very disappointing.  '\n",
      " 'Great place to eat, reminds me of the little mom and pop shops in the San Francisco Bay Area.'\n",
      " \"How this piece of trash was ever released is beyond me: the acting, the story, the characters, the supposedly special effects, etc...it's ALL wrong.  \"]\n",
      "[[6, 7, 2, 1, 8], [3, 9, 10, 11, 2, 12, 13, 14], [15, 16], [3, 17, 18, 19, 20, 4, 5, 1, 21, 22, 23, 24, 25, 26, 1, 27, 28, 29, 30], [31, 32, 33, 5, 34, 35, 36, 37, 38, 39, 4, 1, 40, 1, 41, 1, 42, 1, 43, 44, 45, 46, 47, 48, 49]]\n",
      "Word frequency: \n"
     ]
    },
    {
     "data": {
      "text/plain": [
       "{'a': 12,\n",
       " 'acting': 40,\n",
       " 'all': 48,\n",
       " 'and': 23,\n",
       " 'area': 30,\n",
       " 'bay': 29,\n",
       " 'beyond': 39,\n",
       " 'characters': 42,\n",
       " 'dinner': 11,\n",
       " 'disappointing': 16,\n",
       " 'eat': 19,\n",
       " 'effects': 45,\n",
       " 'etc': 46,\n",
       " 'ever': 36,\n",
       " 'family': 10,\n",
       " 'francisco': 28,\n",
       " 'great': 3,\n",
       " 'how': 31,\n",
       " 'in': 26,\n",
       " 'is': 38,\n",
       " \"it's\": 47,\n",
       " 'jerks': 7,\n",
       " 'little': 21,\n",
       " 'me': 4,\n",
       " 'mom': 22,\n",
       " 'night': 14,\n",
       " 'of': 5,\n",
       " 'on': 2,\n",
       " 'phone': 8,\n",
       " 'piece': 33,\n",
       " 'place': 17,\n",
       " 'pop': 24,\n",
       " 'released': 37,\n",
       " 'reminds': 20,\n",
       " 'san': 27,\n",
       " 'shops': 25,\n",
       " 'special': 44,\n",
       " 'story': 41,\n",
       " 'sunday': 13,\n",
       " 'supposedly': 43,\n",
       " 'the': 1,\n",
       " 'this': 32,\n",
       " 'time': 9,\n",
       " 'to': 18,\n",
       " 'trash': 34,\n",
       " 'very': 15,\n",
       " 'was': 35,\n",
       " 'were': 6,\n",
       " 'wrong': 49}"
      ]
     },
     "execution_count": 13,
     "metadata": {
      "tags": []
     },
     "output_type": "execute_result"
    }
   ],
   "source": [
    "from keras.preprocessing.text import Tokenizer\n",
    "\n",
    "tokenizer = Tokenizer(num_words=5000) \n",
    "tokenizer.fit_on_texts(merged_sentences_train[0:5])\n",
    "\n",
    "Merged_X_train = tokenizer.texts_to_sequences(merged_sentences_train[0:5])\n",
    "print(merged_sentences_train[0:5])\n",
    "print(Merged_X_train)\n",
    "\n",
    "print(\"Word frequency: \")\n",
    "tokenizer.word_index"
   ]
  },
  {
   "cell_type": "markdown",
   "metadata": {
    "id": "RpHNXyILWQAb"
   },
   "source": [
    "**Padding sequences to the same length**"
   ]
  },
  {
   "cell_type": "code",
   "execution_count": 14,
   "metadata": {
    "colab": {
     "base_uri": "https://localhost:8080/"
    },
    "executionInfo": {
     "elapsed": 224,
     "status": "ok",
     "timestamp": 1605059067044,
     "user": {
      "displayName": "Tasnuva Tehrin",
      "photoUrl": "",
      "userId": "04231041290543336108"
     },
     "user_tz": 360
    },
    "id": "6c3Gp_iX8iqU",
    "outputId": "2d81da9a-05dd-465b-ef43-449f9e589f3a"
   },
   "outputs": [
    {
     "data": {
      "text/plain": [
       "array([[ 6,  7,  2,  1,  8,  0,  0,  0,  0,  0,  0,  0,  0,  0,  0,  0,\n",
       "         0,  0,  0,  0,  0,  0,  0,  0,  0,  0,  0,  0,  0,  0,  0,  0,\n",
       "         0,  0,  0,  0,  0,  0,  0,  0,  0,  0,  0,  0,  0,  0,  0,  0,\n",
       "         0,  0,  0,  0,  0,  0,  0,  0,  0,  0,  0,  0,  0,  0,  0,  0,\n",
       "         0,  0,  0,  0,  0,  0,  0,  0,  0,  0,  0,  0,  0,  0,  0,  0,\n",
       "         0,  0,  0,  0,  0,  0,  0,  0,  0,  0,  0,  0,  0,  0,  0,  0,\n",
       "         0,  0,  0,  0],\n",
       "       [ 3,  9, 10, 11,  2, 12, 13, 14,  0,  0,  0,  0,  0,  0,  0,  0,\n",
       "         0,  0,  0,  0,  0,  0,  0,  0,  0,  0,  0,  0,  0,  0,  0,  0,\n",
       "         0,  0,  0,  0,  0,  0,  0,  0,  0,  0,  0,  0,  0,  0,  0,  0,\n",
       "         0,  0,  0,  0,  0,  0,  0,  0,  0,  0,  0,  0,  0,  0,  0,  0,\n",
       "         0,  0,  0,  0,  0,  0,  0,  0,  0,  0,  0,  0,  0,  0,  0,  0,\n",
       "         0,  0,  0,  0,  0,  0,  0,  0,  0,  0,  0,  0,  0,  0,  0,  0,\n",
       "         0,  0,  0,  0],\n",
       "       [15, 16,  0,  0,  0,  0,  0,  0,  0,  0,  0,  0,  0,  0,  0,  0,\n",
       "         0,  0,  0,  0,  0,  0,  0,  0,  0,  0,  0,  0,  0,  0,  0,  0,\n",
       "         0,  0,  0,  0,  0,  0,  0,  0,  0,  0,  0,  0,  0,  0,  0,  0,\n",
       "         0,  0,  0,  0,  0,  0,  0,  0,  0,  0,  0,  0,  0,  0,  0,  0,\n",
       "         0,  0,  0,  0,  0,  0,  0,  0,  0,  0,  0,  0,  0,  0,  0,  0,\n",
       "         0,  0,  0,  0,  0,  0,  0,  0,  0,  0,  0,  0,  0,  0,  0,  0,\n",
       "         0,  0,  0,  0],\n",
       "       [ 3, 17, 18, 19, 20,  4,  5,  1, 21, 22, 23, 24, 25, 26,  1, 27,\n",
       "        28, 29, 30,  0,  0,  0,  0,  0,  0,  0,  0,  0,  0,  0,  0,  0,\n",
       "         0,  0,  0,  0,  0,  0,  0,  0,  0,  0,  0,  0,  0,  0,  0,  0,\n",
       "         0,  0,  0,  0,  0,  0,  0,  0,  0,  0,  0,  0,  0,  0,  0,  0,\n",
       "         0,  0,  0,  0,  0,  0,  0,  0,  0,  0,  0,  0,  0,  0,  0,  0,\n",
       "         0,  0,  0,  0,  0,  0,  0,  0,  0,  0,  0,  0,  0,  0,  0,  0,\n",
       "         0,  0,  0,  0],\n",
       "       [31, 32, 33,  5, 34, 35, 36, 37, 38, 39,  4,  1, 40,  1, 41,  1,\n",
       "        42,  1, 43, 44, 45, 46, 47, 48, 49,  0,  0,  0,  0,  0,  0,  0,\n",
       "         0,  0,  0,  0,  0,  0,  0,  0,  0,  0,  0,  0,  0,  0,  0,  0,\n",
       "         0,  0,  0,  0,  0,  0,  0,  0,  0,  0,  0,  0,  0,  0,  0,  0,\n",
       "         0,  0,  0,  0,  0,  0,  0,  0,  0,  0,  0,  0,  0,  0,  0,  0,\n",
       "         0,  0,  0,  0,  0,  0,  0,  0,  0,  0,  0,  0,  0,  0,  0,  0,\n",
       "         0,  0,  0,  0]], dtype=int32)"
      ]
     },
     "execution_count": 14,
     "metadata": {
      "tags": []
     },
     "output_type": "execute_result"
    }
   ],
   "source": [
    "from keras.preprocessing.sequence import pad_sequences\n",
    "maxlen = 100  # specify how long the sequences should be. This cuts sequences that exceed that number.\n",
    "Merged_X_train_pad = pad_sequences(Merged_X_train, padding='post', maxlen=maxlen)\n",
    "Merged_X_test_pad = pad_sequences(Merged_X_test, padding='post', maxlen=maxlen)\n",
    "\n",
    "Merged_X_train_pad"
   ]
  },
  {
   "cell_type": "code",
   "execution_count": 15,
   "metadata": {
    "colab": {
     "base_uri": "https://localhost:8080/"
    },
    "executionInfo": {
     "elapsed": 253,
     "status": "ok",
     "timestamp": 1605059070189,
     "user": {
      "displayName": "Tasnuva Tehrin",
      "photoUrl": "",
      "userId": "04231041290543336108"
     },
     "user_tz": 360
    },
    "id": "FqALMph48suD",
    "outputId": "4f1cbfe9-07db-4e13-f875-d97bb75edc69"
   },
   "outputs": [
    {
     "data": {
      "text/plain": [
       "array([[  49, 1860,   18, ...,    0,    0,    0],\n",
       "       [  20,   39,  236, ...,    0,    0,    0],\n",
       "       [  17,  349,    0, ...,    0,    0,    0],\n",
       "       ...,\n",
       "       [  41,   67,   20, ...,    0,    0,    0],\n",
       "       [  21,    7,   27, ...,    0,    0,    0],\n",
       "       [ 271,   39,  615, ...,    0,    0,    0]], dtype=int32)"
      ]
     },
     "execution_count": 15,
     "metadata": {
      "tags": []
     },
     "output_type": "execute_result"
    }
   ],
   "source": [
    "from keras.preprocessing.text import Tokenizer\n",
    "\n",
    "tokenizer = Tokenizer(num_words=5000)\n",
    "tokenizer.fit_on_texts(merged_sentences_train)\n",
    "\n",
    "Merged_X_train = tokenizer.texts_to_sequences(merged_sentences_train)\n",
    "Merged_X_test = tokenizer.texts_to_sequences(merged_sentences_test)\n",
    "from keras.preprocessing.sequence import pad_sequences\n",
    "maxlen = 100\n",
    "Merged_X_train_pad = pad_sequences(Merged_X_train, padding='post', maxlen=maxlen)\n",
    "Merged_X_test_pad = pad_sequences(Merged_X_test, padding='post', maxlen=maxlen)\n",
    "Merged_X_train_pad"
   ]
  },
  {
   "cell_type": "markdown",
   "metadata": {
    "id": "h7VWUuotWiK4"
   },
   "source": [
    "**Feature generation option : one-hot encoding**"
   ]
  },
  {
   "cell_type": "code",
   "execution_count": null,
   "metadata": {
    "id": "sNdtm_4E86rL"
   },
   "outputs": [],
   "source": [
    "from sklearn.preprocessing import OneHotEncoder\n",
    "enc = OneHotEncoder(sparse=False,handle_unknown = 'ignore')\n",
    "\n",
    "all_labels = Merged_X_train_pad.reshape(-1,)\n",
    "all_labels\n",
    "enc.fit(all_labels.reshape(len(all_labels),1))  \n",
    "\n",
    "Merged_X_train_pad_onehot = []\n",
    "for sentence in Merged_X_train_pad:\n",
    "    Merged_X_train_pad_onehot.append(enc.transform(sentence.reshape(maxlen,1)))\n",
    "\n",
    "Merged_X_test_pad_onehot = []\n",
    "for sentence in Merged_X_test_pad:\n",
    "    Merged_X_test_pad_onehot.append(enc.transform(sentence.reshape(maxlen,1)))\n",
    "\n",
    "Merged_X_train_pad_onehot = np.asarray(Merged_X_train_pad_onehot)\n",
    "Merged_X_test_pad_onehot = np.asarray(Merged_X_test_pad_onehot)"
   ]
  },
  {
   "cell_type": "markdown",
   "metadata": {
    "id": "l4XwUgzvW3U8"
   },
   "source": [
    "**Word embedding layer**"
   ]
  },
  {
   "cell_type": "markdown",
   "metadata": {
    "id": "T6XsGRn8XER_"
   },
   "source": [
    "**Using word embedding in Keras**"
   ]
  },
  {
   "cell_type": "markdown",
   "metadata": {
    "id": "AnxJ10D1XSp4"
   },
   "source": [
    "**Add 1D convolutional neural network**"
   ]
  },
  {
   "cell_type": "markdown",
   "metadata": {
    "id": "tcu1ssuBXhYx"
   },
   "source": [
    "**Recurrent Neural Network**"
   ]
  },
  {
   "cell_type": "markdown",
   "metadata": {
    "id": "w_S6A3c-Yhbc"
   },
   "source": [
    "**Architecture 1: Embedding + LSTM + Sigmod classification**"
   ]
  },
  {
   "cell_type": "markdown",
   "metadata": {
    "id": "BBJn_5-BZCzb"
   },
   "source": [
    "**Architecture 1: Embedding + LSTM layer + Sigmod classification**"
   ]
  },
  {
   "cell_type": "markdown",
   "metadata": {
    "id": "aBmhh3EkZK9l"
   },
   "source": [
    "**Architecture 2: Embedding + MaxPooling + LSTM layer + Sigmod classification**"
   ]
  },
  {
   "cell_type": "markdown",
   "metadata": {
    "id": "j4hjNOtmZS3z"
   },
   "source": [
    "**Architecture 3: Embedding + Conv1D+ LSTM layer + Sigmod classification**"
   ]
  }
 ],
 "metadata": {
  "accelerator": "GPU",
  "colab": {
   "authorship_tag": "ABX9TyPjSF5Aym4yQ3AsPrbGXVIi",
   "collapsed_sections": [],
   "name": "homework08_Merged_dataset.ipynb",
   "provenance": []
  },
  "kernelspec": {
   "display_name": "Python 3",
   "language": "python",
   "name": "python3"
  },
  "language_info": {
   "codemirror_mode": {
    "name": "ipython",
    "version": 3
   },
   "file_extension": ".py",
   "mimetype": "text/x-python",
   "name": "python",
   "nbconvert_exporter": "python",
   "pygments_lexer": "ipython3",
   "version": "3.8.5"
  }
 },
 "nbformat": 4,
 "nbformat_minor": 1
}
