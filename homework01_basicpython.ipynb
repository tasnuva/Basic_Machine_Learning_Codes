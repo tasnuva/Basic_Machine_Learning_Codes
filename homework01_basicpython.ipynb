{
 "cells": [
  {
   "cell_type": "code",
   "execution_count": 119,
   "metadata": {
    "colab": {
     "base_uri": "https://localhost:8080/",
     "height": 102
    },
    "colab_type": "code",
    "executionInfo": {
     "elapsed": 434,
     "status": "ok",
     "timestamp": 1597724304557,
     "user": {
      "displayName": "Tasnuva Tehrin",
      "photoUrl": "",
      "userId": "04231041290543336108"
     },
     "user_tz": 300
    },
    "id": "Hd_lQ8nsGFr0",
    "outputId": "048d91a8-e5d4-44b3-f5bb-349587b4e490"
   },
   "outputs": [
    {
     "name": "stdout",
     "output_type": "stream",
     "text": [
      "Type of a:  <class 'int'>\n",
      "\n",
      "Type of b:  <class 'float'>\n",
      "\n",
      "Type of c:  <class 'complex'>\n"
     ]
    }
   ],
   "source": [
    "#Python Program to demonstrate numeric value\n",
    "a = 5\n",
    "print(\"Type of a: \", type(a)) \n",
    "\n",
    "b = 5.0\n",
    "print(\"\\nType of b: \", type(b)) \n",
    "\n",
    "c = 2 + 4j\n",
    "print(\"\\nType of c: \", type(c)) \n",
    "\n",
    "\n",
    "\n"
   ]
  },
  {
   "cell_type": "code",
   "execution_count": 120,
   "metadata": {
    "colab": {
     "base_uri": "https://localhost:8080/",
     "height": 187
    },
    "colab_type": "code",
    "executionInfo": {
     "elapsed": 7759,
     "status": "ok",
     "timestamp": 1597724314053,
     "user": {
      "displayName": "Tasnuva Tehrin",
      "photoUrl": "",
      "userId": "04231041290543336108"
     },
     "user_tz": 300
    },
    "id": "rwEPOqTjI0jo",
    "outputId": "6b3774b8-a607-46ba-9b6c-e6cce58abf4a"
   },
   "outputs": [
    {
     "name": "stdout",
     "output_type": "stream",
     "text": [
      "I love python programming\n",
      "\n",
      " Type of String demo <class 'str'>\n",
      "What is your weight in kilogram? : 67\n",
      "Converted Weight:  147.4\n",
      "C\n",
      "e\n",
      "Cou\n",
      "Country \n",
      "Country road take me home\n"
     ]
    }
   ],
   "source": [
    "#Sequence Type Values\n",
    "#Python Program to demonstrate String value\n",
    "\n",
    "String_demo = \"I love python programming\"\n",
    "print(String_demo)\n",
    "print(\"\\n Type of String demo\" ,type(String_demo))\n",
    "\n",
    "#Weight converter showing conversion from String to int/float\n",
    "kilogram_weight= input('What is your weight in kilogram? : ')\n",
    "pound_weight= 2.2 * float(kilogram_weight) \n",
    "print(\"Converted Weight: \" ,pound_weight)\n",
    "\n",
    "#Accessing String values\n",
    "\n",
    "song= \"Country road take me home\"\n",
    "print(song[0])\n",
    "print(song[-1])\n",
    "print(song[0:3])\n",
    "print(song[:8])\n",
    "copied_song=song[:]\n",
    "print(copied_song)"
   ]
  },
  {
   "cell_type": "code",
   "execution_count": 22,
   "metadata": {
    "colab": {
     "base_uri": "https://localhost:8080/",
     "height": 187
    },
    "colab_type": "code",
    "executionInfo": {
     "elapsed": 765,
     "status": "ok",
     "timestamp": 1597715469795,
     "user": {
      "displayName": "Tasnuva Tehrin",
      "photoUrl": "",
      "userId": "04231041290543336108"
     },
     "user_tz": 300
    },
    "id": "Ay4QL0eCOqG0",
    "outputId": "597409f6-d0ce-45cf-b66c-f187857eaca7"
   },
   "outputs": [
    {
     "name": "stdout",
     "output_type": "stream",
     "text": [
      "['1', '2', 'dog', 'cat']\n",
      "What\n",
      "a\n",
      "lovely\n",
      "day\n",
      "\n",
      "Multi-Dimensional List: \n",
      "[['Cats', 'are'], ['beautiful']]\n",
      "['Cats', 'are']\n",
      "['beautiful']\n"
     ]
    }
   ],
   "source": [
    "#Sequence Type Values\n",
    "#Creating and accessing List values\n",
    "\n",
    "List1 = ['1','2','dog','cat']\n",
    "print(List1)\n",
    "\n",
    "List2= ['What','a','lovely','day']\n",
    "print(List2[0])\n",
    "print(List2[-3])\n",
    "print(List2[2])\n",
    "print(List2[-1])\n",
    "\n",
    "# Multi-Dimensional List  \n",
    "List3 = [['Cats', 'are'], ['beautiful']]  \n",
    "print(\"\\nMulti-Dimensional List: \")  \n",
    "print(List3) \n",
    "print(List3[0])\n",
    "print(List3[-1])\n",
    "\n"
   ]
  },
  {
   "cell_type": "code",
   "execution_count": 121,
   "metadata": {
    "colab": {
     "base_uri": "https://localhost:8080/",
     "height": 238
    },
    "colab_type": "code",
    "executionInfo": {
     "elapsed": 739,
     "status": "ok",
     "timestamp": 1597724322110,
     "user": {
      "displayName": "Tasnuva Tehrin",
      "photoUrl": "",
      "userId": "04231041290543336108"
     },
     "user_tz": 300
    },
    "id": "OWfqPE46Q40z",
    "outputId": "5932af4c-f22c-4b5c-a231-e2da4a9106f2"
   },
   "outputs": [
    {
     "name": "stdout",
     "output_type": "stream",
     "text": [
      "('Hello', 'World')\n",
      "\n",
      "Tuple using List: \n",
      "(1, 2, 4, 5, 6)\n",
      "\n",
      "Tuple with the use of function: \n",
      "('T', 'a', 's', 'n', 'u', 'v', 'a')\n",
      "n\n",
      "\n",
      " Nested tuple example: \n",
      "((1, 2, 3), ('count', 'numbers'))\n",
      "(1, 2, 3)\n",
      "('count', 'numbers')\n"
     ]
    }
   ],
   "source": [
    "#Sequence Type Values\n",
    "#Creating and accessing tuples\n",
    "\n",
    "Tuple1= ('Hello','World')\n",
    "print(Tuple1)\n",
    "\n",
    "List = [1, 2, 4, 5, 6]  \n",
    "print(\"\\nTuple using List: \")  \n",
    "print(tuple(List))\n",
    "  \n",
    "# Creating a Tuple with the  \n",
    "# use of built-in function  \n",
    "Tuple2 = tuple('Tasnuva')  \n",
    "print(\"\\nTuple with the use of function: \")  \n",
    "print(Tuple2)\n",
    "print(Tuple2[-4]) \n",
    "\n",
    "#Nested tuple\n",
    "Tuple3= (1,2,3)\n",
    "Tuple4= ('count','numbers')\n",
    "Nested_tuple= (Tuple3, Tuple4)\n",
    "print('\\n Nested tuple example: ')\n",
    "print(Nested_tuple)\n",
    "print(Nested_tuple[0])\n",
    "print(Nested_tuple[-1])\n",
    "\n"
   ]
  },
  {
   "cell_type": "code",
   "execution_count": 55,
   "metadata": {
    "colab": {
     "base_uri": "https://localhost:8080/",
     "height": 221
    },
    "colab_type": "code",
    "executionInfo": {
     "elapsed": 734,
     "status": "ok",
     "timestamp": 1597718578491,
     "user": {
      "displayName": "Tasnuva Tehrin",
      "photoUrl": "",
      "userId": "04231041290543336108"
     },
     "user_tz": 300
    },
    "id": "Kv9VoA6NaqY9",
    "outputId": "a4545e9a-1a24-4d8e-e25c-7b5383fad51e"
   },
   "outputs": [
    {
     "name": "stdout",
     "output_type": "stream",
     "text": [
      "Case 1 : If it is a hot day\n",
      "It's a sunny day\n",
      "Drink plenty of water\n",
      "Enjoy your day\n",
      "******************\n",
      "Case 2: If it is a cold day\n",
      "Wear warm clothes\n",
      "Enjoy your day\n",
      "******************\n",
      "Case 3: If the day is neither hot or cold\n",
      "It's a lovely day\n",
      "Enjoy your day\n"
     ]
    }
   ],
   "source": [
    "#Boolean type values\n",
    "# Demonstrating boolean type values with an example\n",
    "print('Case 1 : If it is a hot day')\n",
    "is_hot= True\n",
    "is_cold=False\n",
    "if is_hot:\n",
    "    print(\"It's a sunny day\")\n",
    "    print(\"Drink plenty of water\")\n",
    "elif is_cold:\n",
    "    print(\"Wear warm clothes\")\n",
    "else:\n",
    " print(\"It's a lovely day\")\n",
    "print(\"Enjoy your day\")\n",
    "\n",
    "print('******************')\n",
    "print('Case 2: If it is a cold day')\n",
    "is_hot= False\n",
    "is_cold=True\n",
    "if is_hot:\n",
    "    print(\"It's a sunny day\")\n",
    "    print(\"Drink plenty of water\")\n",
    "elif is_cold:\n",
    "    print(\"Wear warm clothes\")\n",
    "else:\n",
    " print(\"It's a lovely day\")\n",
    "print(\"Enjoy your day\")\n",
    "\n",
    "print('******************')\n",
    "print('Case 3: If the day is neither hot or cold')\n",
    "is_hot= False\n",
    "is_cold=False\n",
    "if is_hot:\n",
    "    print(\"It's a sunny day\")\n",
    "    print(\"Drink plenty of water\")\n",
    "elif is_cold:\n",
    "    print(\"Wear warm clothes\")\n",
    "else:\n",
    " print(\"It's a lovely day\")\n",
    "print(\"Enjoy your day\")\n"
   ]
  },
  {
   "cell_type": "code",
   "execution_count": 91,
   "metadata": {
    "colab": {
     "base_uri": "https://localhost:8080/",
     "height": 391
    },
    "colab_type": "code",
    "executionInfo": {
     "elapsed": 631,
     "status": "ok",
     "timestamp": 1597721873525,
     "user": {
      "displayName": "Tasnuva Tehrin",
      "photoUrl": "",
      "userId": "04231041290543336108"
     },
     "user_tz": 300
    },
    "id": "9ku0DVPZde_n",
    "outputId": "1993896e-52aa-48b6-d126-a85ee5bdcad8"
   },
   "outputs": [
    {
     "name": "stdout",
     "output_type": "stream",
     "text": [
      "\n",
      "Set with the use of String: \n",
      "{'l', 't', 'c', 'O', 'n', 'i', 'A', 'e', 'a'}\n",
      "*********\n",
      "{'Black', 'Blue', 'Red', 'Grey'}\n",
      "*********\n",
      "Black\n",
      "Blue\n",
      "Red\n",
      "Grey\n",
      "*********\n",
      "True\n",
      "False\n",
      "*********\n",
      "Set after adding  an item: {'banana', 'mango', 'apple', 'orange'}\n",
      "Set after updating items: {'mango', 'apple', 'banana', 'orange', 'cherry', 'strawberry'}\n",
      "Lenght of the set 6\n",
      "Set after removing an item: {'mango', 'apple', 'banana', 'orange', 'strawberry'}\n",
      "Set after discarding  an item: {'mango', 'apple', 'banana', 'orange'}\n",
      "Set after popping  an item: {'apple', 'banana', 'orange'}\n",
      "Set after union: {'apple', 'banana', 'blueberry', 'orange', 'jackfruit'}\n",
      "Set after clearing the items: set()\n"
     ]
    }
   ],
   "source": [
    "#Set Type value\n",
    "#Creating and accessing sets\n",
    "set1 = set(\"AtlanticOcean\") \n",
    "print(\"\\nSet with the use of String: \") \n",
    "print(set1)\n",
    "print('*********')\n",
    "set2 = set([\"Black\", \"Blue\", \"Red\",\"Grey\"])  \n",
    "print(set2)\n",
    "print('*********')\n",
    "#Accessing element using for loop\n",
    "for i in set2:  \n",
    "    print(i)\n",
    "print('*********')\n",
    "#Checking for keywords in the set\n",
    "print(\"Black\" in set2) \n",
    "print(\"Violet\" in set2) \n",
    "#Different methods of set\n",
    "print('*********')\n",
    "Fruit_set=set(['apple','orange','mango'])\n",
    "Fruit_set.add('banana')\n",
    "print(\"Set after adding  an item:\",Fruit_set)\n",
    "Fruit_set.update(['cherry','strawberry'])\n",
    "print(\"Set after updating items:\",Fruit_set)\n",
    "print(\"Lenght of the set\",len(Fruit_set))\n",
    "Fruit_set.remove('cherry')\n",
    "print(\"Set after removing an item:\",Fruit_set)\n",
    "Fruit_set.discard('strawberry')\n",
    "print(\"Set after discarding  an item:\",Fruit_set)\n",
    "Fruit_set.pop()\n",
    "print(\"Set after popping  an item:\",Fruit_set)\n",
    "Fruit_set2=set(['blueberry','apple','jackfruit'])\n",
    "Union_set= Fruit_set.union(Fruit_set2)\n",
    "print(\"Set after union:\",Union_set)\n",
    "Union_set.clear()\n",
    "print(\"Set after clearing the items:\",Union_set)\n",
    "  "
   ]
  },
  {
   "cell_type": "code",
   "execution_count": 118,
   "metadata": {
    "colab": {
     "base_uri": "https://localhost:8080/",
     "height": 462
    },
    "colab_type": "code",
    "executionInfo": {
     "elapsed": 441,
     "status": "ok",
     "timestamp": 1597724232594,
     "user": {
      "displayName": "Tasnuva Tehrin",
      "photoUrl": "",
      "userId": "04231041290543336108"
     },
     "user_tz": 300
    },
    "id": "MiVBsPdnobOY",
    "outputId": "b1cdefa7-e705-4f64-a3f9-308b3ed01026"
   },
   "outputs": [
    {
     "name": "stdout",
     "output_type": "stream",
     "text": [
      "{'brand': 'Ford', 'model': 'Mustang', 'year': 1960}\n",
      "brand\n",
      "model\n",
      "year\n",
      "**********\n",
      "Ford\n",
      "Mustang\n",
      "1960\n",
      "**********\n",
      "brand Ford\n",
      "model Mustang\n",
      "year 1960\n",
      "*******\n",
      "{'brand': 'Ford', 'model': 'Mustang', 'year': 1960, 'color': 'red'}\n",
      "*******\n",
      "{'brand': 'Ford', 'model': 'Mustang', 'year': 1960, 'color': 'blue'}\n",
      "********\n",
      "This is the copied dictionary:  {'brand': 'Ford', 'model': 'Mustang', 'year': 1960, 'color': 'blue'}\n",
      "********\n",
      "{'brand': 'Ford', 'model': 'Mustang', 'color': 'blue'}\n",
      "{'brand': 'Ford', 'model': 'Mustang'}\n",
      "********\n",
      "{}\n",
      "**********\n",
      "{'Employee1': {'name': 'John', 'age': 24, 'gender': 'male'}, 'Employee2': {'name': 'Alex', 'age': 26, 'gender': 'male'}, 'Employee3': {'name': 'Linda', 'age': 25, 'gender': 'female'}, 'Employee4': {'name': 'Anne', 'age': 27, 'gender': 'female'}}\n"
     ]
    }
   ],
   "source": [
    "#Dictionary Type values\n",
    "#Creating and accessing values\n",
    "CarItem = {\n",
    "  \"brand\": \"Ford\",\n",
    "  \"model\": \"Mustang\",\n",
    "  \"year\": 1960\n",
    "}\n",
    "print(CarItem)\n",
    "#Accessing keys\n",
    "for keys in CarItem:\n",
    "  print(keys)\n",
    "print('**********')\n",
    "#Accessing values\n",
    "for carvalues in CarItem.values():\n",
    "  print(carvalues)\n",
    "print('**********')\n",
    "#Accessing both keys and values\n",
    "for keys,carvalues in CarItem.items():\n",
    "    print(keys,carvalues)\n",
    "print('*******')\n",
    "#Adding an item to the dictionary\n",
    "CarItem[\"color\"] = \"red\"\n",
    "print(CarItem)\n",
    "print('*******')\n",
    "#Changing an item in the dictionary\n",
    "CarItem[\"color\"] = \"blue\"\n",
    "print(CarItem)\n",
    "print('********')\n",
    "#Copying the dictionary\n",
    "Copied_dict=CarItem.copy()\n",
    "print(\"This is the copied dictionary: \",Copied_dict)\n",
    "print('********')\n",
    "#Removing  an item from the dictionary\n",
    "CarItem.pop('year')\n",
    "print(CarItem)\n",
    "CarItem.popitem()\n",
    "print(CarItem)\n",
    "print('********')\n",
    "#Clear the dictionary\n",
    "CarItem.clear()\n",
    "print(CarItem)\n",
    "\n",
    "print('**********')\n",
    "\n",
    "#Nested dictionaries\n",
    "\n",
    "EmployeeInfo = {\n",
    "  \"Employee1\" : {\n",
    "    \"name\" : \"John\",\n",
    "    \"age\" : 24,\n",
    "    \"gender\": \"male\"\n",
    "  },\n",
    "  \"Employee2\" : {\n",
    "    \"name\" : \"Alex\",\n",
    "    \"age\" : 26,\n",
    "    \"gender\": \"male\"\n",
    "  },\n",
    "  \"Employee3\" : {\n",
    "    \"name\" : \"Linda\",\n",
    "    \"age\" : 25,\n",
    "    \"gender\": \"female\"\n",
    "  },\n",
    " \"Employee4\" : {\n",
    "    \"name\" : \"Anne\",\n",
    "    \"age\" : 27,\n",
    "    \"gender\": \"female\"\n",
    "  }, \n",
    "}\n",
    "\n",
    "print(EmployeeInfo)\n"
   ]
  }
 ],
 "metadata": {
  "colab": {
   "authorship_tag": "ABX9TyOsycgQY1Irw7MX2+1k+7OF",
   "collapsed_sections": [],
   "name": "homework01.ipynb",
   "provenance": []
  },
  "kernelspec": {
   "display_name": "Python 3",
   "language": "python",
   "name": "python3"
  },
  "language_info": {
   "codemirror_mode": {
    "name": "ipython",
    "version": 3
   },
   "file_extension": ".py",
   "mimetype": "text/x-python",
   "name": "python",
   "nbconvert_exporter": "python",
   "pygments_lexer": "ipython3",
   "version": "3.8.5"
  }
 },
 "nbformat": 4,
 "nbformat_minor": 1
}
