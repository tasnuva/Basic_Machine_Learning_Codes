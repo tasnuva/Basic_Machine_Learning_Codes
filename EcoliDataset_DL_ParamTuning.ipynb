{
 "cells": [
  {
   "cell_type": "markdown",
   "metadata": {},
   "source": [
    "# The purpose of this project is to categorize the label of E Coli Dataset based on the features provide and evaluate the performance of different models of Deep learning using parameter tuning\n",
    "\n",
    "\n",
    "## tool used for data preprocessing: pandas\n",
    "\n",
    "## tool used for visualization : matplotlib\n",
    "\n",
    "## model used for prediction: Deep Learning with parameter tuning (see the paragraph below for details)\n",
    "\n",
    "## tools used for data validation: the loss of the model was determined by categorical cross entropy and the accruacry was measured by accuracy metrics\n",
    "\n",
    "\n"
   ]
  },
  {
   "cell_type": "code",
   "execution_count": null,
   "metadata": {
    "id": "YdXK9BmFlOor"
   },
   "outputs": [],
   "source": [
    "from google.colab import drive"
   ]
  },
  {
   "cell_type": "code",
   "execution_count": null,
   "metadata": {
    "colab": {
     "base_uri": "https://localhost:8080/"
    },
    "id": "w80svdnJoxmp",
    "outputId": "ac26e2e0-52fc-4565-b951-4c2df5634514"
   },
   "outputs": [
    {
     "name": "stdout",
     "output_type": "stream",
     "text": [
      "Drive already mounted at /content/drive; to attempt to forcibly remount, call drive.mount(\"/content/drive\", force_remount=True).\n"
     ]
    }
   ],
   "source": [
    "drive.mount('/content/drive')"
   ]
  },
  {
   "cell_type": "code",
   "execution_count": null,
   "metadata": {
    "colab": {
     "base_uri": "https://localhost:8080/"
    },
    "id": "SO-FZMLMo5dM",
    "outputId": "a9f99cca-8a8b-4c99-fd53-ce62821958c2"
   },
   "outputs": [
    {
     "name": "stdout",
     "output_type": "stream",
     "text": [
      "/content/drive/My Drive/Colab Notebooks\n",
      " abalone.data                     'ML Challenge 1.ipynb'\n",
      " bpRNA_CRW_2852.ct                'ML Challenge II .ipynb'\n",
      " bpRNA_CRW_2852_predicted.ct      'ML Challenge IV .ipynb'\n",
      " bpRNA_CRW_2852.st                 model_lr0.001.h5\n",
      " breast-cancer.data                model_lr0.01.h5\n",
      " car.data                          model_lr0.1.h5\n",
      " car.dot                          \u001b[0m\u001b[01;34m'Object Detection Homework'\u001b[0m/\n",
      " car_model.dot                     Perceptron_practise.ipynb\n",
      " car.png                          'Practise 1.ipynb'\n",
      "\u001b[01;34m'Copied Homeworks'\u001b[0m/               'Practise 2.ipynb'\n",
      " DeepLearningImageTutorial.ipynb   Protein_Project.ipynb\n",
      "'ecoli .data'                      SPECT_model.h5\n",
      " exam.xlsx                         SPECT.test\n",
      " homework01.ipynb                  SPECT.train\n",
      " homework02.ipynb                  transfusion.data\n",
      " homework03.ipynb                  tree.dot\n",
      " homework05.ipynb                  tree.png\n",
      " homework06.ipynb                  Untitled0.ipynb\n",
      " homework07_01.ipynb               weather.csv\n",
      " iris_tree.dot                     weather.ipynb\n",
      " iris_tree.png                     wine.data\n",
      " Keras_practise.ipynb\n"
     ]
    }
   ],
   "source": [
    "%cd /content/drive/'My Drive'/'Colab Notebooks'\n",
    "%ls"
   ]
  },
  {
   "cell_type": "code",
   "execution_count": null,
   "metadata": {
    "id": "GXlBfDSnTVhu"
   },
   "outputs": [],
   "source": [
    "import pandas as pd\n",
    "ecoli_df = pd.read_csv('ecoli .data', header=None, delim_whitespace=True)\n",
    "ecoli_df.columns = ['sequence','mcg','gvh','lip','chg','aac','alm1','alm2','Label']"
   ]
  },
  {
   "cell_type": "code",
   "execution_count": null,
   "metadata": {
    "colab": {
     "base_uri": "https://localhost:8080/",
     "height": 419
    },
    "id": "KW1jIXNPvjQV",
    "outputId": "bd553d24-fbf2-4172-e4a2-8cc3dacc34c9"
   },
   "outputs": [
    {
     "data": {
      "text/html": [
       "<div>\n",
       "<style scoped>\n",
       "    .dataframe tbody tr th:only-of-type {\n",
       "        vertical-align: middle;\n",
       "    }\n",
       "\n",
       "    .dataframe tbody tr th {\n",
       "        vertical-align: top;\n",
       "    }\n",
       "\n",
       "    .dataframe thead th {\n",
       "        text-align: right;\n",
       "    }\n",
       "</style>\n",
       "<table border=\"1\" class=\"dataframe\">\n",
       "  <thead>\n",
       "    <tr style=\"text-align: right;\">\n",
       "      <th></th>\n",
       "      <th>sequence</th>\n",
       "      <th>mcg</th>\n",
       "      <th>gvh</th>\n",
       "      <th>lip</th>\n",
       "      <th>chg</th>\n",
       "      <th>aac</th>\n",
       "      <th>alm1</th>\n",
       "      <th>alm2</th>\n",
       "      <th>Label</th>\n",
       "    </tr>\n",
       "  </thead>\n",
       "  <tbody>\n",
       "    <tr>\n",
       "      <th>0</th>\n",
       "      <td>AAT_ECOLI</td>\n",
       "      <td>0.49</td>\n",
       "      <td>0.29</td>\n",
       "      <td>0.48</td>\n",
       "      <td>0.5</td>\n",
       "      <td>0.56</td>\n",
       "      <td>0.24</td>\n",
       "      <td>0.35</td>\n",
       "      <td>cp</td>\n",
       "    </tr>\n",
       "    <tr>\n",
       "      <th>1</th>\n",
       "      <td>ACEA_ECOLI</td>\n",
       "      <td>0.07</td>\n",
       "      <td>0.40</td>\n",
       "      <td>0.48</td>\n",
       "      <td>0.5</td>\n",
       "      <td>0.54</td>\n",
       "      <td>0.35</td>\n",
       "      <td>0.44</td>\n",
       "      <td>cp</td>\n",
       "    </tr>\n",
       "    <tr>\n",
       "      <th>2</th>\n",
       "      <td>ACEK_ECOLI</td>\n",
       "      <td>0.56</td>\n",
       "      <td>0.40</td>\n",
       "      <td>0.48</td>\n",
       "      <td>0.5</td>\n",
       "      <td>0.49</td>\n",
       "      <td>0.37</td>\n",
       "      <td>0.46</td>\n",
       "      <td>cp</td>\n",
       "    </tr>\n",
       "    <tr>\n",
       "      <th>3</th>\n",
       "      <td>ACKA_ECOLI</td>\n",
       "      <td>0.59</td>\n",
       "      <td>0.49</td>\n",
       "      <td>0.48</td>\n",
       "      <td>0.5</td>\n",
       "      <td>0.52</td>\n",
       "      <td>0.45</td>\n",
       "      <td>0.36</td>\n",
       "      <td>cp</td>\n",
       "    </tr>\n",
       "    <tr>\n",
       "      <th>4</th>\n",
       "      <td>ADI_ECOLI</td>\n",
       "      <td>0.23</td>\n",
       "      <td>0.32</td>\n",
       "      <td>0.48</td>\n",
       "      <td>0.5</td>\n",
       "      <td>0.55</td>\n",
       "      <td>0.25</td>\n",
       "      <td>0.35</td>\n",
       "      <td>cp</td>\n",
       "    </tr>\n",
       "    <tr>\n",
       "      <th>...</th>\n",
       "      <td>...</td>\n",
       "      <td>...</td>\n",
       "      <td>...</td>\n",
       "      <td>...</td>\n",
       "      <td>...</td>\n",
       "      <td>...</td>\n",
       "      <td>...</td>\n",
       "      <td>...</td>\n",
       "      <td>...</td>\n",
       "    </tr>\n",
       "    <tr>\n",
       "      <th>331</th>\n",
       "      <td>TREA_ECOLI</td>\n",
       "      <td>0.74</td>\n",
       "      <td>0.56</td>\n",
       "      <td>0.48</td>\n",
       "      <td>0.5</td>\n",
       "      <td>0.47</td>\n",
       "      <td>0.68</td>\n",
       "      <td>0.30</td>\n",
       "      <td>pp</td>\n",
       "    </tr>\n",
       "    <tr>\n",
       "      <th>332</th>\n",
       "      <td>UGPB_ECOLI</td>\n",
       "      <td>0.71</td>\n",
       "      <td>0.57</td>\n",
       "      <td>0.48</td>\n",
       "      <td>0.5</td>\n",
       "      <td>0.48</td>\n",
       "      <td>0.35</td>\n",
       "      <td>0.32</td>\n",
       "      <td>pp</td>\n",
       "    </tr>\n",
       "    <tr>\n",
       "      <th>333</th>\n",
       "      <td>USHA_ECOLI</td>\n",
       "      <td>0.61</td>\n",
       "      <td>0.60</td>\n",
       "      <td>0.48</td>\n",
       "      <td>0.5</td>\n",
       "      <td>0.44</td>\n",
       "      <td>0.39</td>\n",
       "      <td>0.38</td>\n",
       "      <td>pp</td>\n",
       "    </tr>\n",
       "    <tr>\n",
       "      <th>334</th>\n",
       "      <td>XYLF_ECOLI</td>\n",
       "      <td>0.59</td>\n",
       "      <td>0.61</td>\n",
       "      <td>0.48</td>\n",
       "      <td>0.5</td>\n",
       "      <td>0.42</td>\n",
       "      <td>0.42</td>\n",
       "      <td>0.37</td>\n",
       "      <td>pp</td>\n",
       "    </tr>\n",
       "    <tr>\n",
       "      <th>335</th>\n",
       "      <td>YTFQ_ECOLI</td>\n",
       "      <td>0.74</td>\n",
       "      <td>0.74</td>\n",
       "      <td>0.48</td>\n",
       "      <td>0.5</td>\n",
       "      <td>0.31</td>\n",
       "      <td>0.53</td>\n",
       "      <td>0.52</td>\n",
       "      <td>pp</td>\n",
       "    </tr>\n",
       "  </tbody>\n",
       "</table>\n",
       "<p>336 rows × 9 columns</p>\n",
       "</div>"
      ],
      "text/plain": [
       "       sequence   mcg   gvh   lip  chg   aac  alm1  alm2 Label\n",
       "0     AAT_ECOLI  0.49  0.29  0.48  0.5  0.56  0.24  0.35    cp\n",
       "1    ACEA_ECOLI  0.07  0.40  0.48  0.5  0.54  0.35  0.44    cp\n",
       "2    ACEK_ECOLI  0.56  0.40  0.48  0.5  0.49  0.37  0.46    cp\n",
       "3    ACKA_ECOLI  0.59  0.49  0.48  0.5  0.52  0.45  0.36    cp\n",
       "4     ADI_ECOLI  0.23  0.32  0.48  0.5  0.55  0.25  0.35    cp\n",
       "..          ...   ...   ...   ...  ...   ...   ...   ...   ...\n",
       "331  TREA_ECOLI  0.74  0.56  0.48  0.5  0.47  0.68  0.30    pp\n",
       "332  UGPB_ECOLI  0.71  0.57  0.48  0.5  0.48  0.35  0.32    pp\n",
       "333  USHA_ECOLI  0.61  0.60  0.48  0.5  0.44  0.39  0.38    pp\n",
       "334  XYLF_ECOLI  0.59  0.61  0.48  0.5  0.42  0.42  0.37    pp\n",
       "335  YTFQ_ECOLI  0.74  0.74  0.48  0.5  0.31  0.53  0.52    pp\n",
       "\n",
       "[336 rows x 9 columns]"
      ]
     },
     "execution_count": 101,
     "metadata": {
      "tags": []
     },
     "output_type": "execute_result"
    }
   ],
   "source": [
    "ecoli_df"
   ]
  },
  {
   "cell_type": "code",
   "execution_count": null,
   "metadata": {
    "id": "T4YLSHy_pYH6"
   },
   "outputs": [],
   "source": [
    "ecoli_df_updated = ecoli_df.drop('sequence',axis=1)"
   ]
  },
  {
   "cell_type": "code",
   "execution_count": null,
   "metadata": {
    "id": "0dfc90INtjTA"
   },
   "outputs": [],
   "source": [
    "from sklearn.preprocessing import LabelEncoder\n",
    "ecoli_df_updated = ecoli_df.drop('sequence',axis=1)\n",
    "ecoli_df_updated['Label'] = LabelEncoder().fit_transform(ecoli_df['Label'])"
   ]
  },
  {
   "cell_type": "code",
   "execution_count": null,
   "metadata": {
    "id": "aCvyBAI4tmzp"
   },
   "outputs": [],
   "source": [
    "data_label = ecoli_df_updated['Label']\n",
    "data_feature = ecoli_df_updated.drop('Label',axis= 1)\n",
    "from sklearn.model_selection import train_test_split\n",
    "X_data, X_test, y_data, y_test = train_test_split(data_feature,data_label, stratify=data_label,test_size=0.20, random_state=42)"
   ]
  },
  {
   "cell_type": "code",
   "execution_count": null,
   "metadata": {
    "colab": {
     "base_uri": "https://localhost:8080/"
    },
    "id": "VOEAJeuOtxPu",
    "outputId": "024e75ea-d8d9-4fc4-96f2-47b4717e8f57"
   },
   "outputs": [
    {
     "name": "stdout",
     "output_type": "stream",
     "text": [
      "X_data shape: (268, 7)\n",
      "X_test shape: (68, 7)\n",
      "y_data shape: (268, 8)\n",
      "y_test shape: (68, 8)\n"
     ]
    }
   ],
   "source": [
    "### apply one-hot encoding here\n",
    "from keras.utils.np_utils import to_categorical\n",
    "y_data_categorical = to_categorical(y_data, 8)\n",
    "y_test_categorical = to_categorical(y_test, 8)\n",
    "print(\"X_data shape:\", X_data.shape)\n",
    "print(\"X_test shape:\", X_test.shape)\n",
    "print(\"y_data shape:\", y_data_categorical.shape)\n",
    "print(\"y_test shape:\", y_test_categorical.shape)"
   ]
  },
  {
   "cell_type": "code",
   "execution_count": null,
   "metadata": {
    "colab": {
     "base_uri": "https://localhost:8080/"
    },
    "id": "S_TJHAbNuBGF",
    "outputId": "3cd8a102-ac9d-4a56-d8af-74f118c7e28c"
   },
   "outputs": [
    {
     "name": "stdout",
     "output_type": "stream",
     "text": [
      "Epoch 1/30\n",
      "49/49 [==============================] - 0s 4ms/step - loss: 2.0525 - accuracy: 0.1120 - val_loss: 1.9934 - val_accuracy: 0.4444\n",
      "Epoch 2/30\n",
      "49/49 [==============================] - 0s 2ms/step - loss: 1.9282 - accuracy: 0.5394 - val_loss: 1.8518 - val_accuracy: 0.6667\n",
      "Epoch 3/30\n",
      "49/49 [==============================] - 0s 2ms/step - loss: 1.7691 - accuracy: 0.5726 - val_loss: 1.6492 - val_accuracy: 0.6296\n",
      "Epoch 4/30\n",
      "49/49 [==============================] - 0s 2ms/step - loss: 1.6130 - accuracy: 0.4315 - val_loss: 1.5098 - val_accuracy: 0.5185\n",
      "Epoch 5/30\n",
      "49/49 [==============================] - 0s 2ms/step - loss: 1.5336 - accuracy: 0.4149 - val_loss: 1.4019 - val_accuracy: 0.5185\n",
      "Epoch 6/30\n",
      "49/49 [==============================] - 0s 2ms/step - loss: 1.4772 - accuracy: 0.4149 - val_loss: 1.3301 - val_accuracy: 0.5185\n",
      "Epoch 7/30\n",
      "49/49 [==============================] - 0s 1ms/step - loss: 1.4303 - accuracy: 0.4149 - val_loss: 1.2807 - val_accuracy: 0.5185\n",
      "Epoch 8/30\n",
      "49/49 [==============================] - 0s 2ms/step - loss: 1.3838 - accuracy: 0.4191 - val_loss: 1.2185 - val_accuracy: 0.5185\n",
      "Epoch 9/30\n",
      "49/49 [==============================] - 0s 1ms/step - loss: 1.3383 - accuracy: 0.5062 - val_loss: 1.1689 - val_accuracy: 0.6296\n",
      "Epoch 10/30\n",
      "49/49 [==============================] - 0s 2ms/step - loss: 1.2451 - accuracy: 0.5934 - val_loss: 1.0602 - val_accuracy: 0.6667\n",
      "Epoch 11/30\n",
      "49/49 [==============================] - 0s 2ms/step - loss: 1.1402 - accuracy: 0.6266 - val_loss: 0.9718 - val_accuracy: 0.7037\n",
      "Epoch 12/30\n",
      "49/49 [==============================] - 0s 1ms/step - loss: 1.0769 - accuracy: 0.6432 - val_loss: 0.9138 - val_accuracy: 0.7037\n",
      "Epoch 13/30\n",
      "49/49 [==============================] - 0s 2ms/step - loss: 1.0278 - accuracy: 0.6349 - val_loss: 0.8558 - val_accuracy: 0.7037\n",
      "Epoch 14/30\n",
      "49/49 [==============================] - 0s 2ms/step - loss: 0.9861 - accuracy: 0.6639 - val_loss: 0.8381 - val_accuracy: 0.8519\n",
      "Epoch 15/30\n",
      "49/49 [==============================] - 0s 2ms/step - loss: 0.9925 - accuracy: 0.6888 - val_loss: 0.8205 - val_accuracy: 0.8519\n",
      "Epoch 16/30\n",
      "49/49 [==============================] - 0s 1ms/step - loss: 0.9417 - accuracy: 0.7012 - val_loss: 0.7543 - val_accuracy: 0.7778\n",
      "Epoch 17/30\n",
      "49/49 [==============================] - 0s 1ms/step - loss: 0.9234 - accuracy: 0.7178 - val_loss: 0.7325 - val_accuracy: 0.8148\n",
      "Epoch 18/30\n",
      "49/49 [==============================] - 0s 2ms/step - loss: 0.8973 - accuracy: 0.7261 - val_loss: 0.7251 - val_accuracy: 0.8519\n",
      "Epoch 19/30\n",
      "49/49 [==============================] - 0s 2ms/step - loss: 0.8814 - accuracy: 0.7261 - val_loss: 0.7085 - val_accuracy: 0.7407\n",
      "Epoch 20/30\n",
      "49/49 [==============================] - 0s 1ms/step - loss: 0.8712 - accuracy: 0.7220 - val_loss: 0.6559 - val_accuracy: 0.8519\n",
      "Epoch 21/30\n",
      "49/49 [==============================] - 0s 1ms/step - loss: 0.8578 - accuracy: 0.7137 - val_loss: 0.6553 - val_accuracy: 0.8519\n",
      "Epoch 22/30\n",
      "49/49 [==============================] - 0s 2ms/step - loss: 0.8468 - accuracy: 0.7303 - val_loss: 0.6262 - val_accuracy: 0.8519\n",
      "Epoch 23/30\n",
      "49/49 [==============================] - 0s 2ms/step - loss: 0.8305 - accuracy: 0.7137 - val_loss: 0.6151 - val_accuracy: 0.8519\n",
      "Epoch 24/30\n",
      "49/49 [==============================] - 0s 2ms/step - loss: 0.8157 - accuracy: 0.7469 - val_loss: 0.5930 - val_accuracy: 0.8519\n",
      "Epoch 25/30\n",
      "49/49 [==============================] - 0s 2ms/step - loss: 0.8034 - accuracy: 0.7386 - val_loss: 0.5927 - val_accuracy: 0.8519\n",
      "Epoch 26/30\n",
      "49/49 [==============================] - 0s 2ms/step - loss: 0.7952 - accuracy: 0.7386 - val_loss: 0.5784 - val_accuracy: 0.8519\n",
      "Epoch 27/30\n",
      "49/49 [==============================] - 0s 2ms/step - loss: 0.7935 - accuracy: 0.7427 - val_loss: 0.5622 - val_accuracy: 0.8519\n",
      "Epoch 28/30\n",
      "49/49 [==============================] - 0s 2ms/step - loss: 0.7756 - accuracy: 0.7510 - val_loss: 0.5552 - val_accuracy: 0.8519\n",
      "Epoch 29/30\n",
      "49/49 [==============================] - 0s 1ms/step - loss: 0.7683 - accuracy: 0.7469 - val_loss: 0.5671 - val_accuracy: 0.8519\n",
      "Epoch 30/30\n",
      "49/49 [==============================] - 0s 2ms/step - loss: 0.7578 - accuracy: 0.7552 - val_loss: 0.5417 - val_accuracy: 0.8519\n"
     ]
    }
   ],
   "source": [
    "from keras.models import Sequential\n",
    "from keras.layers import Dense\n",
    "model = Sequential()\n",
    "model.add(Dense(20,input_shape=(X_data.shape[1],),activation='relu')) # input layer --> hidden layer 1\n",
    "model.add(Dense(20,activation='relu')) # hidden layer 1 --> hidden layer 2\n",
    "model.add(Dense(8 ,activation ='sigmoid')) # hidden layer 2 --> output layer\n",
    "# Compile model\n",
    "model.compile(loss='categorical_crossentropy',optimizer='adam',metrics=['accuracy'])\n",
    "train_history = model.fit(X_data,y_data_categorical , validation_split=0.1, batch_size=5, epochs = 30)"
   ]
  },
  {
   "cell_type": "code",
   "execution_count": null,
   "metadata": {
    "colab": {
     "base_uri": "https://localhost:8080/",
     "height": 297
    },
    "id": "KnqscCv0zbFf",
    "outputId": "02f65b9c-cb4e-4624-f0b9-df14e8416a4e"
   },
   "outputs": [
    {
     "data": {
      "image/png": "[encoded data removed]",
      "text/plain": [
       "<Figure size 864x288 with 2 Axes>"
      ]
     },
     "metadata": {
      "needs_background": "light",
      "tags": []
     },
     "output_type": "display_data"
    }
   ],
   "source": [
    "import matplotlib.pyplot as plt\n",
    "\n",
    "plt.figure(figsize=(12,4))\n",
    "\n",
    "plt.subplot(1,2,1)\n",
    "# Plot training & validation loss values\n",
    "plt.plot(train_history.history['loss'], label='Train')\n",
    "plt.plot(train_history.history['val_loss'], label='Validation')\n",
    "plt.title('Training & Validation Loss', fontsize=15)\n",
    "plt.ylabel('Loss', fontsize=15)\n",
    "plt.xlabel('Epoch', fontsize=15)\n",
    "plt.xticks( fontsize=12)\n",
    "plt.yticks( fontsize=12)\n",
    "plt.legend(loc='upper right', fontsize=12)\n",
    "\n",
    "\n",
    "plt.subplot(1,2,2)\n",
    "# Plot training & validation accuracy values\n",
    "plt.plot(train_history.history['accuracy'], label='Train')\n",
    "plt.plot(train_history.history['val_accuracy'], label='Validation')\n",
    "plt.title('Training & Validation accuracy', fontsize=15)\n",
    "plt.ylabel('accuracy', fontsize=15)\n",
    "plt.xlabel('Epoch', fontsize=15)\n",
    "plt.xticks( fontsize=12)\n",
    "plt.yticks( fontsize=12)\n",
    "plt.legend(loc='lower right', fontsize=12)\n",
    "\n",
    "plt.tight_layout()\n",
    "plt.show()"
   ]
  },
  {
   "cell_type": "code",
   "execution_count": null,
   "metadata": {
    "colab": {
     "base_uri": "https://localhost:8080/"
    },
    "id": "oLlOf5DN1ibP",
    "outputId": "5144f7f4-8909-4cba-b502-9c5e4e7cb440"
   },
   "outputs": [
    {
     "name": "stdout",
     "output_type": "stream",
     "text": [
      "9/9 [==============================] - 0s 1ms/step - loss: 0.7197 - accuracy: 0.7612\n",
      "3/3 [==============================] - 0s 2ms/step - loss: 0.5724 - accuracy: 0.7941\n"
     ]
    },
    {
     "data": {
      "text/plain": [
       "[0.5723753571510315, 0.7941176295280457]"
      ]
     },
     "execution_count": 114,
     "metadata": {
      "tags": []
     },
     "output_type": "execute_result"
    }
   ],
   "source": [
    "# training data\n",
    "model.evaluate(X_data,y_data_categorical)\n",
    "\n",
    "# testing data\n",
    "model.evaluate(X_test,y_test_categorical)"
   ]
  },
  {
   "cell_type": "code",
   "execution_count": null,
   "metadata": {
    "colab": {
     "base_uri": "https://localhost:8080/"
    },
    "id": "N9cF9fvi1o4W",
    "outputId": "facaaad0-e0dc-474b-b379-f12461136001"
   },
   "outputs": [
    {
     "name": "stdout",
     "output_type": "stream",
     "text": [
      "Epoch 1/30\n",
      "49/49 [==============================] - 0s 3ms/step - loss: 1.9673 - accuracy: 0.4274 - val_loss: 1.8363 - val_accuracy: 0.5185\n",
      "Epoch 2/30\n",
      "49/49 [==============================] - 0s 1ms/step - loss: 1.7839 - accuracy: 0.4357 - val_loss: 1.6222 - val_accuracy: 0.5185\n",
      "Epoch 3/30\n",
      "49/49 [==============================] - 0s 1ms/step - loss: 1.5778 - accuracy: 0.4523 - val_loss: 1.3616 - val_accuracy: 0.5185\n",
      "Epoch 4/30\n",
      "49/49 [==============================] - 0s 1ms/step - loss: 1.3472 - accuracy: 0.4855 - val_loss: 1.0979 - val_accuracy: 0.5556\n",
      "Epoch 5/30\n",
      "49/49 [==============================] - 0s 1ms/step - loss: 1.1444 - accuracy: 0.6183 - val_loss: 0.9080 - val_accuracy: 0.6296\n",
      "Epoch 6/30\n",
      "49/49 [==============================] - 0s 1ms/step - loss: 1.0038 - accuracy: 0.6722 - val_loss: 0.7795 - val_accuracy: 0.6667\n",
      "Epoch 7/30\n",
      "49/49 [==============================] - 0s 1ms/step - loss: 0.8793 - accuracy: 0.7137 - val_loss: 0.6684 - val_accuracy: 0.7778\n",
      "Epoch 8/30\n",
      "49/49 [==============================] - 0s 1ms/step - loss: 0.7787 - accuracy: 0.7303 - val_loss: 0.5581 - val_accuracy: 0.8148\n",
      "Epoch 9/30\n",
      "49/49 [==============================] - 0s 1ms/step - loss: 0.7025 - accuracy: 0.7510 - val_loss: 0.4658 - val_accuracy: 0.8519\n",
      "Epoch 10/30\n",
      "49/49 [==============================] - 0s 1ms/step - loss: 0.6498 - accuracy: 0.7593 - val_loss: 0.3983 - val_accuracy: 0.8148\n",
      "Epoch 11/30\n",
      "49/49 [==============================] - 0s 1ms/step - loss: 0.6087 - accuracy: 0.7593 - val_loss: 0.3509 - val_accuracy: 0.8519\n",
      "Epoch 12/30\n",
      "49/49 [==============================] - 0s 1ms/step - loss: 0.5787 - accuracy: 0.7759 - val_loss: 0.3219 - val_accuracy: 0.8889\n",
      "Epoch 13/30\n",
      "49/49 [==============================] - 0s 1ms/step - loss: 0.5555 - accuracy: 0.7967 - val_loss: 0.2917 - val_accuracy: 0.9259\n",
      "Epoch 14/30\n",
      "49/49 [==============================] - 0s 1ms/step - loss: 0.5341 - accuracy: 0.8340 - val_loss: 0.2697 - val_accuracy: 0.8889\n",
      "Epoch 15/30\n",
      "49/49 [==============================] - 0s 1ms/step - loss: 0.5163 - accuracy: 0.8382 - val_loss: 0.2363 - val_accuracy: 0.8889\n",
      "Epoch 16/30\n",
      "49/49 [==============================] - 0s 2ms/step - loss: 0.4989 - accuracy: 0.8548 - val_loss: 0.2157 - val_accuracy: 0.9630\n",
      "Epoch 17/30\n",
      "49/49 [==============================] - 0s 1ms/step - loss: 0.4844 - accuracy: 0.8423 - val_loss: 0.2056 - val_accuracy: 0.9630\n",
      "Epoch 18/30\n",
      "49/49 [==============================] - 0s 1ms/step - loss: 0.4698 - accuracy: 0.8631 - val_loss: 0.1844 - val_accuracy: 1.0000\n",
      "Epoch 19/30\n",
      "49/49 [==============================] - 0s 2ms/step - loss: 0.4569 - accuracy: 0.8838 - val_loss: 0.1750 - val_accuracy: 1.0000\n",
      "Epoch 20/30\n",
      "49/49 [==============================] - 0s 1ms/step - loss: 0.4444 - accuracy: 0.8631 - val_loss: 0.1653 - val_accuracy: 1.0000\n",
      "Epoch 21/30\n",
      "49/49 [==============================] - 0s 1ms/step - loss: 0.4411 - accuracy: 0.8672 - val_loss: 0.1524 - val_accuracy: 1.0000\n",
      "Epoch 22/30\n",
      "49/49 [==============================] - 0s 1ms/step - loss: 0.4310 - accuracy: 0.8714 - val_loss: 0.1517 - val_accuracy: 1.0000\n",
      "Epoch 23/30\n",
      "49/49 [==============================] - 0s 1ms/step - loss: 0.4230 - accuracy: 0.8797 - val_loss: 0.1547 - val_accuracy: 1.0000\n",
      "Epoch 24/30\n",
      "49/49 [==============================] - 0s 1ms/step - loss: 0.4228 - accuracy: 0.8838 - val_loss: 0.1501 - val_accuracy: 0.9630\n",
      "Epoch 25/30\n",
      "49/49 [==============================] - 0s 1ms/step - loss: 0.4086 - accuracy: 0.8631 - val_loss: 0.1460 - val_accuracy: 1.0000\n",
      "Epoch 26/30\n",
      "49/49 [==============================] - 0s 2ms/step - loss: 0.4058 - accuracy: 0.8631 - val_loss: 0.1440 - val_accuracy: 1.0000\n",
      "Epoch 27/30\n",
      "49/49 [==============================] - 0s 1ms/step - loss: 0.4011 - accuracy: 0.8631 - val_loss: 0.1337 - val_accuracy: 1.0000\n",
      "Epoch 28/30\n",
      "49/49 [==============================] - 0s 1ms/step - loss: 0.3953 - accuracy: 0.8589 - val_loss: 0.1374 - val_accuracy: 1.0000\n",
      "Epoch 29/30\n",
      "49/49 [==============================] - 0s 1ms/step - loss: 0.3914 - accuracy: 0.8672 - val_loss: 0.1342 - val_accuracy: 0.9630\n",
      "Epoch 30/30\n",
      "49/49 [==============================] - 0s 2ms/step - loss: 0.3875 - accuracy: 0.8548 - val_loss: 0.1408 - val_accuracy: 0.9630\n"
     ]
    }
   ],
   "source": [
    "import numpy as np\n",
    "model_norm = Sequential()\n",
    "model_norm.add(Dense(10,input_shape=(X_data.shape[1],),activation='relu')) # input layer --> hidden layer 1\n",
    "model_norm.add(Dense(20,activation='relu')) # hidden layer 1 --> hidden layer 2\n",
    "model_norm.add(Dense(8 ,activation ='sigmoid')) # hidden layer 2 --> output layer\n",
    "# Compile model\n",
    "from sklearn.preprocessing import StandardScaler\n",
    "scaler = StandardScaler()\n",
    "X_train_s = scaler.fit_transform(X_data.astype(np.float32))\n",
    "X_test_s = scaler.transform(X_test.astype(np.float32))\n",
    "model_norm.compile(loss='categorical_crossentropy',optimizer='adam',metrics=['accuracy'])\n",
    "train_history_2 = model_norm.fit(X_train_s,y_data_categorical , validation_split=0.1, batch_size=5, epochs = 30)"
   ]
  },
  {
   "cell_type": "code",
   "execution_count": null,
   "metadata": {
    "colab": {
     "base_uri": "https://localhost:8080/",
     "height": 297
    },
    "id": "A52B-7h94fI5",
    "outputId": "b0d58a0e-6508-4991-a50a-f5e109c50bb6"
   },
   "outputs": [
    {
     "data": {
      "image/png": "[encoded data removed]",
      "text/plain": [
       "<Figure size 864x288 with 2 Axes>"
      ]
     },
     "metadata": {
      "needs_background": "light",
      "tags": []
     },
     "output_type": "display_data"
    }
   ],
   "source": [
    "plt.figure(figsize=(12,4))\n",
    "\n",
    "plt.subplot(1,2,1)\n",
    "# Plot training & validation loss values\n",
    "plt.plot(train_history_2.history['loss'], label='Train')\n",
    "plt.plot(train_history_2.history['val_loss'], label='Validation')\n",
    "plt.title('Training & Validation Loss', fontsize=15)\n",
    "plt.ylabel('Loss', fontsize=15)\n",
    "plt.xlabel('Epoch', fontsize=15)\n",
    "plt.xticks( fontsize=12)\n",
    "plt.yticks( fontsize=12)\n",
    "plt.legend(loc='upper right', fontsize=12)\n",
    "\n",
    "\n",
    "plt.subplot(1,2,2)\n",
    "# Plot training & validation accuracy values\n",
    "plt.plot(train_history_2.history['accuracy'], label='Train')\n",
    "plt.plot(train_history_2.history['val_accuracy'], label='Validation')\n",
    "plt.title('Training & Validation accuracy', fontsize=15)\n",
    "plt.ylabel('accuracy', fontsize=15)\n",
    "plt.xlabel('Epoch', fontsize=15)\n",
    "plt.xticks( fontsize=12)\n",
    "plt.yticks( fontsize=12)\n",
    "plt.legend(loc='lower right', fontsize=12)\n",
    "\n",
    "plt.tight_layout()\n",
    "plt.show()"
   ]
  },
  {
   "cell_type": "code",
   "execution_count": null,
   "metadata": {
    "colab": {
     "base_uri": "https://localhost:8080/"
    },
    "id": "1s-u5vvu3ZFl",
    "outputId": "1ad8bb94-11dd-414a-c65f-73e83c3e64f5"
   },
   "outputs": [
    {
     "name": "stdout",
     "output_type": "stream",
     "text": [
      "9/9 [==============================] - 0s 1ms/step - loss: 0.3531 - accuracy: 0.8769\n",
      "3/3 [==============================] - 0s 2ms/step - loss: 0.2713 - accuracy: 0.8971\n"
     ]
    },
    {
     "data": {
      "text/plain": [
       "[0.2712761163711548, 0.8970588445663452]"
      ]
     },
     "execution_count": 120,
     "metadata": {
      "tags": []
     },
     "output_type": "execute_result"
    }
   ],
   "source": [
    "# training data\n",
    "model_norm.evaluate(X_train_s,y_data_categorical)\n",
    "\n",
    "# testing data\n",
    "model_norm.evaluate(X_test_s,y_test_categorical)"
   ]
  },
  {
   "cell_type": "code",
   "execution_count": null,
   "metadata": {
    "colab": {
     "base_uri": "https://localhost:8080/"
    },
    "id": "BMo4K3ZP3oFf",
    "outputId": "34427d89-9a1f-4bee-f958-04983254f58e"
   },
   "outputs": [
    {
     "name": "stdout",
     "output_type": "stream",
     "text": [
      "Epoch 1/50\n",
      "49/49 [==============================] - 0s 4ms/step - loss: 1.9577 - accuracy: 0.5145 - val_loss: 1.5051 - val_accuracy: 0.5926\n",
      "Epoch 2/50\n",
      "49/49 [==============================] - 0s 2ms/step - loss: 1.1889 - accuracy: 0.6349 - val_loss: 0.6667 - val_accuracy: 0.8519\n",
      "Epoch 3/50\n",
      "49/49 [==============================] - 0s 2ms/step - loss: 0.7645 - accuracy: 0.7469 - val_loss: 0.3760 - val_accuracy: 0.8889\n",
      "Epoch 4/50\n",
      "49/49 [==============================] - 0s 2ms/step - loss: 0.6677 - accuracy: 0.7759 - val_loss: 0.2876 - val_accuracy: 0.9259\n",
      "Epoch 5/50\n",
      "49/49 [==============================] - 0s 2ms/step - loss: 0.5751 - accuracy: 0.7801 - val_loss: 0.2284 - val_accuracy: 0.9259\n",
      "Epoch 6/50\n",
      "49/49 [==============================] - 0s 2ms/step - loss: 0.5411 - accuracy: 0.8008 - val_loss: 0.2347 - val_accuracy: 0.9259\n",
      "Epoch 7/50\n",
      "49/49 [==============================] - 0s 2ms/step - loss: 0.4842 - accuracy: 0.8008 - val_loss: 0.1961 - val_accuracy: 0.8889\n",
      "Epoch 8/50\n",
      "49/49 [==============================] - 0s 2ms/step - loss: 0.4791 - accuracy: 0.8174 - val_loss: 0.2425 - val_accuracy: 0.9259\n",
      "Epoch 9/50\n",
      "49/49 [==============================] - 0s 2ms/step - loss: 0.4295 - accuracy: 0.8465 - val_loss: 0.2355 - val_accuracy: 0.9259\n",
      "Epoch 10/50\n",
      "49/49 [==============================] - 0s 2ms/step - loss: 0.4167 - accuracy: 0.8631 - val_loss: 0.2257 - val_accuracy: 0.9259\n",
      "Epoch 11/50\n",
      "49/49 [==============================] - 0s 2ms/step - loss: 0.4184 - accuracy: 0.8506 - val_loss: 0.2127 - val_accuracy: 0.9630\n",
      "Epoch 12/50\n",
      "49/49 [==============================] - 0s 2ms/step - loss: 0.3810 - accuracy: 0.8589 - val_loss: 0.1282 - val_accuracy: 0.9630\n",
      "Epoch 13/50\n",
      "49/49 [==============================] - 0s 2ms/step - loss: 0.3496 - accuracy: 0.8714 - val_loss: 0.0999 - val_accuracy: 1.0000\n",
      "Epoch 14/50\n",
      "49/49 [==============================] - 0s 2ms/step - loss: 0.3554 - accuracy: 0.8548 - val_loss: 0.1286 - val_accuracy: 0.9630\n",
      "Epoch 15/50\n",
      "49/49 [==============================] - 0s 2ms/step - loss: 0.3506 - accuracy: 0.8672 - val_loss: 0.1449 - val_accuracy: 0.9259\n",
      "Epoch 16/50\n",
      "49/49 [==============================] - 0s 2ms/step - loss: 0.3333 - accuracy: 0.8921 - val_loss: 0.2537 - val_accuracy: 0.9259\n",
      "Epoch 17/50\n",
      "49/49 [==============================] - 0s 2ms/step - loss: 0.3545 - accuracy: 0.8714 - val_loss: 0.1326 - val_accuracy: 0.9259\n",
      "Epoch 18/50\n",
      "49/49 [==============================] - 0s 2ms/step - loss: 0.3050 - accuracy: 0.8963 - val_loss: 0.1439 - val_accuracy: 0.9630\n",
      "Epoch 19/50\n",
      "49/49 [==============================] - 0s 2ms/step - loss: 0.3279 - accuracy: 0.8631 - val_loss: 0.1252 - val_accuracy: 0.9630\n",
      "Epoch 20/50\n",
      "49/49 [==============================] - 0s 2ms/step - loss: 0.2998 - accuracy: 0.8838 - val_loss: 0.2623 - val_accuracy: 0.9630\n",
      "Epoch 21/50\n",
      "49/49 [==============================] - 0s 2ms/step - loss: 0.2859 - accuracy: 0.8755 - val_loss: 0.1641 - val_accuracy: 0.9630\n",
      "Epoch 22/50\n",
      "49/49 [==============================] - 0s 2ms/step - loss: 0.3156 - accuracy: 0.8880 - val_loss: 0.0877 - val_accuracy: 0.9630\n",
      "Epoch 23/50\n",
      "49/49 [==============================] - 0s 2ms/step - loss: 0.2777 - accuracy: 0.8963 - val_loss: 0.2037 - val_accuracy: 0.9259\n",
      "Epoch 24/50\n",
      "49/49 [==============================] - 0s 2ms/step - loss: 0.2663 - accuracy: 0.8963 - val_loss: 0.0998 - val_accuracy: 0.9630\n",
      "Epoch 25/50\n",
      "49/49 [==============================] - 0s 2ms/step - loss: 0.3042 - accuracy: 0.8797 - val_loss: 0.1585 - val_accuracy: 0.9630\n",
      "Epoch 26/50\n",
      "49/49 [==============================] - 0s 2ms/step - loss: 0.2734 - accuracy: 0.8880 - val_loss: 0.3775 - val_accuracy: 0.8889\n",
      "Epoch 27/50\n",
      "49/49 [==============================] - 0s 2ms/step - loss: 0.2766 - accuracy: 0.9004 - val_loss: 0.2355 - val_accuracy: 0.9630\n",
      "Epoch 28/50\n",
      "49/49 [==============================] - 0s 2ms/step - loss: 0.2645 - accuracy: 0.9087 - val_loss: 0.1989 - val_accuracy: 0.9630\n",
      "Epoch 29/50\n",
      "49/49 [==============================] - 0s 2ms/step - loss: 0.2682 - accuracy: 0.9170 - val_loss: 0.1935 - val_accuracy: 0.9630\n",
      "Epoch 30/50\n",
      "49/49 [==============================] - 0s 2ms/step - loss: 0.2395 - accuracy: 0.9170 - val_loss: 0.3517 - val_accuracy: 0.9259\n",
      "Epoch 31/50\n",
      "49/49 [==============================] - 0s 2ms/step - loss: 0.2890 - accuracy: 0.8921 - val_loss: 0.3220 - val_accuracy: 0.9259\n",
      "Epoch 32/50\n",
      "49/49 [==============================] - 0s 2ms/step - loss: 0.2611 - accuracy: 0.8921 - val_loss: 0.1527 - val_accuracy: 0.9630\n",
      "Epoch 33/50\n",
      "49/49 [==============================] - 0s 2ms/step - loss: 0.2837 - accuracy: 0.8838 - val_loss: 0.2838 - val_accuracy: 0.9630\n",
      "Epoch 34/50\n",
      "49/49 [==============================] - 0s 2ms/step - loss: 0.2521 - accuracy: 0.9004 - val_loss: 0.2034 - val_accuracy: 0.9630\n",
      "Epoch 35/50\n",
      "49/49 [==============================] - 0s 2ms/step - loss: 0.2469 - accuracy: 0.9046 - val_loss: 0.2640 - val_accuracy: 0.9630\n",
      "Epoch 36/50\n",
      "49/49 [==============================] - 0s 2ms/step - loss: 0.2604 - accuracy: 0.8880 - val_loss: 0.3032 - val_accuracy: 0.9630\n",
      "Epoch 37/50\n",
      "49/49 [==============================] - 0s 2ms/step - loss: 0.2231 - accuracy: 0.9212 - val_loss: 0.3636 - val_accuracy: 0.8889\n",
      "Epoch 38/50\n",
      "49/49 [==============================] - 0s 2ms/step - loss: 0.2234 - accuracy: 0.9129 - val_loss: 0.4759 - val_accuracy: 0.8889\n",
      "Epoch 39/50\n",
      "49/49 [==============================] - 0s 2ms/step - loss: 0.2344 - accuracy: 0.9087 - val_loss: 0.4889 - val_accuracy: 0.9259\n",
      "Epoch 40/50\n",
      "49/49 [==============================] - 0s 2ms/step - loss: 0.2785 - accuracy: 0.8589 - val_loss: 0.1569 - val_accuracy: 0.9630\n",
      "Epoch 41/50\n",
      "49/49 [==============================] - 0s 2ms/step - loss: 0.3122 - accuracy: 0.9129 - val_loss: 0.3218 - val_accuracy: 0.9259\n",
      "Epoch 42/50\n",
      "49/49 [==============================] - 0s 2ms/step - loss: 0.2437 - accuracy: 0.9046 - val_loss: 0.3669 - val_accuracy: 0.9259\n",
      "Epoch 43/50\n",
      "49/49 [==============================] - 0s 2ms/step - loss: 0.2418 - accuracy: 0.9087 - val_loss: 0.2672 - val_accuracy: 0.9630\n",
      "Epoch 44/50\n",
      "49/49 [==============================] - 0s 2ms/step - loss: 0.3660 - accuracy: 0.9087 - val_loss: 0.4364 - val_accuracy: 0.9259\n",
      "Epoch 45/50\n",
      "49/49 [==============================] - 0s 2ms/step - loss: 0.2604 - accuracy: 0.9087 - val_loss: 0.5015 - val_accuracy: 0.8889\n",
      "Epoch 46/50\n",
      "49/49 [==============================] - 0s 2ms/step - loss: 0.2131 - accuracy: 0.9004 - val_loss: 0.3509 - val_accuracy: 0.9259\n",
      "Epoch 47/50\n",
      "49/49 [==============================] - 0s 2ms/step - loss: 0.2117 - accuracy: 0.9170 - val_loss: 0.4537 - val_accuracy: 0.9259\n",
      "Epoch 48/50\n",
      "49/49 [==============================] - 0s 2ms/step - loss: 0.2038 - accuracy: 0.9170 - val_loss: 0.4278 - val_accuracy: 0.9259\n",
      "Epoch 49/50\n",
      "49/49 [==============================] - 0s 2ms/step - loss: 0.2030 - accuracy: 0.9170 - val_loss: 0.3624 - val_accuracy: 0.9630\n",
      "Epoch 50/50\n",
      "49/49 [==============================] - 0s 2ms/step - loss: 0.2407 - accuracy: 0.9212 - val_loss: 0.2850 - val_accuracy: 0.9630\n"
     ]
    }
   ],
   "source": [
    "import numpy as np\n",
    "model2 = Sequential()\n",
    "model2.add(Dense(50,input_shape=(X_data.shape[1],),activation='relu')) # input layer --> hidden layer 1\n",
    "for i in range(5):\n",
    "  model2.add(Dense(50,activation='relu')) # hidden layer 1 --> hidden layer 2\n",
    "model2.add(Dense(8 ,activation ='sigmoid')) # hidden layer 2 --> output layer\n",
    "# Compile model\n",
    "model2.compile(loss='categorical_crossentropy',optimizer='adam',metrics=['accuracy'])\n",
    "train_history_3 = model2.fit(X_train_s,y_data_categorical , validation_split=0.1, batch_size=5, epochs = 50)"
   ]
  },
  {
   "cell_type": "code",
   "execution_count": null,
   "metadata": {
    "colab": {
     "base_uri": "https://localhost:8080/",
     "height": 297
    },
    "id": "wWypfXER8lM0",
    "outputId": "fe9f79a8-0650-43b7-99c3-1995e6064fb8"
   },
   "outputs": [
    {
     "data": {
      "image/png": "[encoded data removed]",
      "text/plain": [
       "<Figure size 864x288 with 2 Axes>"
      ]
     },
     "metadata": {
      "needs_background": "light",
      "tags": []
     },
     "output_type": "display_data"
    }
   ],
   "source": [
    "plt.figure(figsize=(12,4))\n",
    "\n",
    "plt.subplot(1,2,1)\n",
    "# Plot training & validation loss values\n",
    "plt.plot(train_history_3.history['loss'], label='Train')\n",
    "plt.plot(train_history_3.history['val_loss'], label='Validation')\n",
    "plt.title('Training & Validation Loss', fontsize=15)\n",
    "plt.ylabel('Loss', fontsize=15)\n",
    "plt.xlabel('Epoch', fontsize=15)\n",
    "plt.xticks( fontsize=12)\n",
    "plt.yticks( fontsize=12)\n",
    "plt.legend(loc='upper right', fontsize=12)\n",
    "\n",
    "\n",
    "plt.subplot(1,2,2)\n",
    "# Plot training & validation accuracy values\n",
    "plt.plot(train_history_3.history['accuracy'], label='Train')\n",
    "plt.plot(train_history_3.history['val_accuracy'], label='Validation')\n",
    "plt.title('Training & Validation accuracy', fontsize=15)\n",
    "plt.ylabel('accuracy', fontsize=15)\n",
    "plt.xlabel('Epoch', fontsize=15)\n",
    "plt.xticks( fontsize=12)\n",
    "plt.yticks( fontsize=12)\n",
    "plt.legend(loc='lower right', fontsize=12)\n",
    "\n",
    "plt.tight_layout()\n",
    "plt.show()"
   ]
  },
  {
   "cell_type": "code",
   "execution_count": null,
   "metadata": {
    "colab": {
     "base_uri": "https://localhost:8080/"
    },
    "id": "09Rk5oz09HBX",
    "outputId": "96f204dd-4207-40af-aff6-0062094c43e0"
   },
   "outputs": [
    {
     "name": "stdout",
     "output_type": "stream",
     "text": [
      "9/9 [==============================] - 0s 1ms/step - loss: 0.2217 - accuracy: 0.9179\n",
      "3/3 [==============================] - 0s 2ms/step - loss: 0.2100 - accuracy: 0.9412\n"
     ]
    },
    {
     "data": {
      "text/plain": [
       "[0.20997345447540283, 0.9411764740943909]"
      ]
     },
     "execution_count": 131,
     "metadata": {
      "tags": []
     },
     "output_type": "execute_result"
    }
   ],
   "source": [
    "# training data\n",
    "model2.evaluate(X_train_s,y_data_categorical)\n",
    "\n",
    "# testing data\n",
    "model2.evaluate(X_test_s,y_test_categorical)"
   ]
  },
  {
   "cell_type": "code",
   "execution_count": null,
   "metadata": {
    "colab": {
     "base_uri": "https://localhost:8080/"
    },
    "id": "vl-oriH2911R",
    "outputId": "fd63e3f6-29b1-474a-a753-aba26ea3df76"
   },
   "outputs": [
    {
     "name": "stdout",
     "output_type": "stream",
     "text": [
      "Epoch 1/30\n",
      "49/49 [==============================] - 0s 9ms/step - loss: 3.3751 - accuracy: 0.1701 - val_loss: 2.9886 - val_accuracy: 0.2593\n",
      "Epoch 2/30\n",
      "49/49 [==============================] - 0s 3ms/step - loss: 2.8677 - accuracy: 0.2905 - val_loss: 2.7089 - val_accuracy: 0.4074\n",
      "Epoch 3/30\n",
      "49/49 [==============================] - 0s 3ms/step - loss: 2.5476 - accuracy: 0.3278 - val_loss: 2.4866 - val_accuracy: 0.4074\n",
      "Epoch 4/30\n",
      "49/49 [==============================] - 0s 3ms/step - loss: 2.2929 - accuracy: 0.4232 - val_loss: 2.2993 - val_accuracy: 0.4815\n",
      "Epoch 5/30\n",
      "49/49 [==============================] - 0s 3ms/step - loss: 2.1211 - accuracy: 0.4813 - val_loss: 2.1329 - val_accuracy: 0.5926\n",
      "Epoch 6/30\n",
      "49/49 [==============================] - 0s 3ms/step - loss: 1.9933 - accuracy: 0.5934 - val_loss: 1.9861 - val_accuracy: 0.7037\n",
      "Epoch 7/30\n",
      "49/49 [==============================] - 0s 3ms/step - loss: 1.8996 - accuracy: 0.5768 - val_loss: 1.8524 - val_accuracy: 0.7778\n",
      "Epoch 8/30\n",
      "49/49 [==============================] - 0s 3ms/step - loss: 1.7935 - accuracy: 0.6266 - val_loss: 1.7519 - val_accuracy: 0.8148\n",
      "Epoch 9/30\n",
      "49/49 [==============================] - 0s 3ms/step - loss: 1.7218 - accuracy: 0.6556 - val_loss: 1.6568 - val_accuracy: 0.8519\n",
      "Epoch 10/30\n",
      "49/49 [==============================] - 0s 3ms/step - loss: 1.6838 - accuracy: 0.6307 - val_loss: 1.5967 - val_accuracy: 0.8519\n",
      "Epoch 11/30\n",
      "49/49 [==============================] - 0s 3ms/step - loss: 1.6809 - accuracy: 0.6141 - val_loss: 1.5233 - val_accuracy: 0.8519\n",
      "Epoch 12/30\n",
      "49/49 [==============================] - 0s 3ms/step - loss: 1.6606 - accuracy: 0.6432 - val_loss: 1.4810 - val_accuracy: 0.8519\n",
      "Epoch 13/30\n",
      "49/49 [==============================] - 0s 3ms/step - loss: 1.6014 - accuracy: 0.6390 - val_loss: 1.4133 - val_accuracy: 0.8519\n",
      "Epoch 14/30\n",
      "49/49 [==============================] - 0s 3ms/step - loss: 1.5774 - accuracy: 0.6307 - val_loss: 1.3745 - val_accuracy: 0.8519\n",
      "Epoch 15/30\n",
      "49/49 [==============================] - 0s 3ms/step - loss: 1.5354 - accuracy: 0.6680 - val_loss: 1.3477 - val_accuracy: 0.8519\n",
      "Epoch 16/30\n",
      "49/49 [==============================] - 0s 3ms/step - loss: 1.5743 - accuracy: 0.6100 - val_loss: 1.3207 - val_accuracy: 0.8519\n",
      "Epoch 17/30\n",
      "49/49 [==============================] - 0s 3ms/step - loss: 1.4772 - accuracy: 0.6846 - val_loss: 1.2987 - val_accuracy: 0.8519\n",
      "Epoch 18/30\n",
      "49/49 [==============================] - 0s 3ms/step - loss: 1.4717 - accuracy: 0.6639 - val_loss: 1.2761 - val_accuracy: 0.8519\n",
      "Epoch 19/30\n",
      "49/49 [==============================] - 0s 3ms/step - loss: 1.4642 - accuracy: 0.6805 - val_loss: 1.2364 - val_accuracy: 0.8519\n",
      "Epoch 20/30\n",
      "49/49 [==============================] - 0s 3ms/step - loss: 1.4254 - accuracy: 0.6722 - val_loss: 1.1933 - val_accuracy: 0.8519\n",
      "Epoch 21/30\n",
      "49/49 [==============================] - 0s 3ms/step - loss: 1.4019 - accuracy: 0.6846 - val_loss: 1.1463 - val_accuracy: 0.8519\n",
      "Epoch 22/30\n",
      "49/49 [==============================] - 0s 2ms/step - loss: 1.4421 - accuracy: 0.6390 - val_loss: 1.1472 - val_accuracy: 0.8519\n",
      "Epoch 23/30\n",
      "49/49 [==============================] - 0s 3ms/step - loss: 1.3711 - accuracy: 0.6722 - val_loss: 1.1422 - val_accuracy: 0.8519\n",
      "Epoch 24/30\n",
      "49/49 [==============================] - 0s 2ms/step - loss: 1.3855 - accuracy: 0.6598 - val_loss: 1.1468 - val_accuracy: 0.8519\n",
      "Epoch 25/30\n",
      "49/49 [==============================] - 0s 3ms/step - loss: 1.3947 - accuracy: 0.6888 - val_loss: 1.1061 - val_accuracy: 0.8519\n",
      "Epoch 26/30\n",
      "49/49 [==============================] - 0s 3ms/step - loss: 1.3613 - accuracy: 0.7054 - val_loss: 1.0944 - val_accuracy: 0.8889\n",
      "Epoch 27/30\n",
      "49/49 [==============================] - 0s 3ms/step - loss: 1.3703 - accuracy: 0.7012 - val_loss: 1.0597 - val_accuracy: 0.8889\n",
      "Epoch 28/30\n",
      "49/49 [==============================] - 0s 3ms/step - loss: 1.3491 - accuracy: 0.6846 - val_loss: 1.0487 - val_accuracy: 0.8519\n",
      "Epoch 29/30\n",
      "49/49 [==============================] - 0s 3ms/step - loss: 1.3637 - accuracy: 0.6846 - val_loss: 1.0416 - val_accuracy: 0.8889\n",
      "Epoch 30/30\n",
      "49/49 [==============================] - 0s 3ms/step - loss: 1.3285 - accuracy: 0.6680 - val_loss: 1.0075 - val_accuracy: 0.8889\n"
     ]
    }
   ],
   "source": [
    "import numpy as np\n",
    "from keras.layers import Dropout,Activation\n",
    "from keras.layers import BatchNormalization\n",
    "from keras.callbacks import EarlyStopping, ModelCheckpoint\n",
    "from keras.regularizers import l2\n",
    "keras_callbacks   = [\n",
    "      EarlyStopping(monitor='val_loss', patience=10, mode='min', min_delta=0.0001),\n",
    "      ModelCheckpoint('./checkmodel.h5', monitor='val_loss', save_best_only=True, mode='min')\n",
    "]\n",
    "model3 = Sequential()\n",
    "model3.add(Dense(50,input_shape=(X_data.shape[1],),activation='relu')) # input layer --> hidden layer 1\n",
    "for i in range(3):\n",
    "  model2.add(Dense(50,kernel_regularizer=l2(0.1),bias_regularizer=l2(0.1))) # hidden layer 1 --> hidden layer 2\n",
    "  model3.add(BatchNormalization()) ## add batch normalization before activation\n",
    "  model3.add(Activation('relu'))\n",
    "  model3.add(Dropout(0.2))\n",
    "model3.add(Dense(8 ,activation ='sigmoid',kernel_regularizer=l2(0.1),bias_regularizer=l2(0.1))) # hidden layer 2 --> output layer\n",
    "# Compile model\n",
    "model3.compile(loss='categorical_crossentropy',optimizer='adam',metrics=['accuracy'])\n",
    "train_history_4 = model3.fit(X_train_s,y_data_categorical , validation_split=0.1, batch_size=5, epochs = 30,callbacks=keras_callbacks)"
   ]
  },
  {
   "cell_type": "code",
   "execution_count": null,
   "metadata": {
    "colab": {
     "base_uri": "https://localhost:8080/"
    },
    "id": "lgSO6ieH_cwf",
    "outputId": "d525d6d6-9898-4853-e1ff-739c78b5270f"
   },
   "outputs": [
    {
     "name": "stdout",
     "output_type": "stream",
     "text": [
      "9/9 [==============================] - 0s 1ms/step - loss: 1.1427 - accuracy: 0.8358\n",
      "3/3 [==============================] - 0s 1ms/step - loss: 0.9838 - accuracy: 0.8676\n"
     ]
    },
    {
     "data": {
      "text/plain": [
       "[0.9837920069694519, 0.8676470518112183]"
      ]
     },
     "execution_count": 166,
     "metadata": {
      "tags": []
     },
     "output_type": "execute_result"
    }
   ],
   "source": [
    "# training data\n",
    "model3.evaluate(X_train_s,y_data_categorical)\n",
    "\n",
    "# testing data\n",
    "model3.evaluate(X_test_s,y_test_categorical)"
   ]
  },
  {
   "cell_type": "markdown",
   "metadata": {
    "id": "zGLkvaYDElRH"
   },
   "source": [
    "As per my observations the accuracy scores of the models increased after scaling of data, though in both cases the models didn't overfit. The model also performance after doing some parameter tuning (e.g increasing number of layers, neurons, epochs) and in this case also didn't overfit. But when I added some extra  techniques(e.g: Dropout, BatchNormalization,Callback,Weight Regularization) to further improve the performance , the accuracy score decreased as my model wasn't overfitting at the first place so I'm guessing adding Dropout and other techniques didn't help me much to improve the performance."
   ]
  }
 ],
 "metadata": {
  "colab": {
   "collapsed_sections": [],
   "name": "ML Challenge IV .ipynb",
   "provenance": []
  },
  "kernelspec": {
   "display_name": "Python 3",
   "language": "python",
   "name": "python3"
  },
  "language_info": {
   "codemirror_mode": {
    "name": "ipython",
    "version": 3
   },
   "file_extension": ".py",
   "mimetype": "text/x-python",
   "name": "python",
   "nbconvert_exporter": "python",
   "pygments_lexer": "ipython3",
   "version": "3.8.5"
  }
 },
 "nbformat": 4,
 "nbformat_minor": 1
}
